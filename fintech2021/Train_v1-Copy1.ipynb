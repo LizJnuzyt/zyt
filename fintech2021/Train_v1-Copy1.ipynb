{
 "cells": [
  {
   "cell_type": "markdown",
   "metadata": {},
   "source": [
    "# 数据读取与处理"
   ]
  },
  {
   "cell_type": "code",
   "execution_count": 1,
   "metadata": {},
   "outputs": [
    {
     "name": "stdout",
     "output_type": "stream",
     "text": [
      "<class 'pandas.core.frame.DataFrame'>\n",
      "Int64Index: 695520 entries, 0 to 695519\n",
      "Data columns (total 6 columns):\n",
      " #   Column      Non-Null Count   Dtype \n",
      "---  ------      --------------   ----- \n",
      " 0   date        695520 non-null  object\n",
      " 1   post_id     695520 non-null  object\n",
      " 2   biz_type    695520 non-null  object\n",
      " 3   periods     695520 non-null  int64 \n",
      " 4   amount      695520 non-null  int64 \n",
      " 5   WKD_TYP_CD  695520 non-null  object\n",
      "dtypes: int64(2), object(4)\n",
      "memory usage: 37.1+ MB\n"
     ]
    }
   ],
   "source": [
    "import os\n",
    "import pandas as pd\n",
    "import numpy as np\n",
    "pd.set_option('display.max_columns', None)\n",
    "\n",
    "dataPath = 'C:/Users/zhang/mine/finTech/2021/data/A'\n",
    "\n",
    "trainDf = pd.read_csv(dataPath + '/train_v1.csv')\n",
    "wkdDf = pd.read_csv(dataPath + '/wkd_v1.csv')\n",
    "testDf = pd.read_csv(dataPath + '/test_v1_periods.csv')\n",
    "testDayDf = pd.read_csv(dataPath + '/test_v1_day.csv')\n",
    "\n",
    "wkdDf = wkdDf.rename(columns={'ORIG_DT':'date'})\n",
    "\n",
    "######### 这里数据官方已清洗过\n",
    "trainDf = trainDf.merge(wkdDf, on = ['date'], how = 'left')\n",
    "testDf = testDf.merge(wkdDf, on = ['date'], how = 'left')\n",
    "testDayDf = testDayDf.merge(wkdDf, on = ['date'], how = 'left')\n",
    "\n",
    "trainDf.info()"
   ]
  },
  {
   "cell_type": "code",
   "execution_count": 2,
   "metadata": {},
   "outputs": [
    {
     "name": "stdout",
     "output_type": "stream",
     "text": [
      "<class 'pandas.core.frame.DataFrame'>\n",
      "Int64Index: 2070 entries, 0 to 2069\n",
      "Data columns (total 4 columns):\n",
      " #   Column      Non-Null Count  Dtype \n",
      "---  ------      --------------  ----- \n",
      " 0   date        2070 non-null   object\n",
      " 1   post_id     2070 non-null   object\n",
      " 2   WKD_TYP_CD  2070 non-null   object\n",
      " 3   amount      2070 non-null   int64 \n",
      "dtypes: int64(1), object(3)\n",
      "memory usage: 80.9+ KB\n"
     ]
    }
   ],
   "source": [
    "## 提取岗位以日为粒度的业务量\n",
    "def get_jobDayAmount(df):\n",
    "    outputDf = df.groupby(['date', 'post_id', 'WKD_TYP_CD'], as_index = False)['amount'].sum()\n",
    "    # outputDf = outputDf.sort_values(by = ['date', 'post_id'], axis = 0, ascending = True)\n",
    "    return outputDf\n",
    "\n",
    "trainDayDf = get_jobDayAmount(trainDf)\n",
    "trainDayDf.info()"
   ]
  },
  {
   "cell_type": "code",
   "execution_count": 3,
   "metadata": {},
   "outputs": [
    {
     "name": "stdout",
     "output_type": "stream",
     "text": [
      "<class 'pandas.core.frame.DataFrame'>\n",
      "Int64Index: 99360 entries, 0 to 99359\n",
      "Data columns (total 5 columns):\n",
      " #   Column      Non-Null Count  Dtype \n",
      "---  ------      --------------  ----- \n",
      " 0   date        99360 non-null  object\n",
      " 1   post_id     99360 non-null  object\n",
      " 2   periods     99360 non-null  int64 \n",
      " 3   WKD_TYP_CD  99360 non-null  object\n",
      " 4   amount      99360 non-null  int64 \n",
      "dtypes: int64(2), object(3)\n",
      "memory usage: 4.5+ MB\n"
     ]
    }
   ],
   "source": [
    "## 提取岗位以0.5小时为粒度的业务量\n",
    "def get_jobPeriodAmount(df):\n",
    "    outputDf = df.groupby(['date', 'post_id', 'periods', 'WKD_TYP_CD'], as_index = False)['amount'].sum()\n",
    "    # outputDf = outputDf.sort_values(by = ['date', 'post_id', 'periods'], axis = 0, ascending = True)\n",
    "    return outputDf\n",
    "\n",
    "trainDf = get_jobPeriodAmount(trainDf)\n",
    "trainDf.info()"
   ]
  },
  {
   "cell_type": "raw",
   "metadata": {},
   "source": [
    "# testDf = testDf.sort_values(by = ['date', 'post_id', 'periods'], axis = 0, ascending = True)\n",
    "# testDayDf = testDayDf.sort_values(by = ['date', 'post_id'], axis = 0, ascending = True)"
   ]
  },
  {
   "cell_type": "raw",
   "metadata": {},
   "source": [
    "trainDf['bizCount'] = trainDf['post_id'].apply(lambda x: 13 if x == 'A' else 1)\n",
    "trainDayDf['bizCount'] = trainDf['post_id'].apply(lambda x: 13 if x == 'A' else 1)"
   ]
  },
  {
   "cell_type": "code",
   "execution_count": 5,
   "metadata": {},
   "outputs": [
    {
     "data": {
      "text/html": [
       "<div>\n",
       "<style scoped>\n",
       "    .dataframe tbody tr th:only-of-type {\n",
       "        vertical-align: middle;\n",
       "    }\n",
       "\n",
       "    .dataframe tbody tr th {\n",
       "        vertical-align: top;\n",
       "    }\n",
       "\n",
       "    .dataframe thead th {\n",
       "        text-align: right;\n",
       "    }\n",
       "</style>\n",
       "<table border=\"1\" class=\"dataframe\">\n",
       "  <thead>\n",
       "    <tr style=\"text-align: right;\">\n",
       "      <th></th>\n",
       "      <th>post_id</th>\n",
       "      <th>periods</th>\n",
       "      <th>WKD_TYP_CD</th>\n",
       "      <th>amount</th>\n",
       "      <th>bizCount</th>\n",
       "      <th>year</th>\n",
       "      <th>month</th>\n",
       "      <th>day</th>\n",
       "    </tr>\n",
       "  </thead>\n",
       "  <tbody>\n",
       "    <tr>\n",
       "      <th>0</th>\n",
       "      <td>A</td>\n",
       "      <td>1</td>\n",
       "      <td>NH</td>\n",
       "      <td>0</td>\n",
       "      <td>13</td>\n",
       "      <td>2018</td>\n",
       "      <td>1</td>\n",
       "      <td>1</td>\n",
       "    </tr>\n",
       "    <tr>\n",
       "      <th>1</th>\n",
       "      <td>A</td>\n",
       "      <td>2</td>\n",
       "      <td>NH</td>\n",
       "      <td>0</td>\n",
       "      <td>13</td>\n",
       "      <td>2018</td>\n",
       "      <td>1</td>\n",
       "      <td>1</td>\n",
       "    </tr>\n",
       "    <tr>\n",
       "      <th>2</th>\n",
       "      <td>A</td>\n",
       "      <td>3</td>\n",
       "      <td>NH</td>\n",
       "      <td>0</td>\n",
       "      <td>13</td>\n",
       "      <td>2018</td>\n",
       "      <td>1</td>\n",
       "      <td>1</td>\n",
       "    </tr>\n",
       "    <tr>\n",
       "      <th>3</th>\n",
       "      <td>A</td>\n",
       "      <td>4</td>\n",
       "      <td>NH</td>\n",
       "      <td>0</td>\n",
       "      <td>13</td>\n",
       "      <td>2018</td>\n",
       "      <td>1</td>\n",
       "      <td>1</td>\n",
       "    </tr>\n",
       "    <tr>\n",
       "      <th>4</th>\n",
       "      <td>A</td>\n",
       "      <td>5</td>\n",
       "      <td>NH</td>\n",
       "      <td>0</td>\n",
       "      <td>13</td>\n",
       "      <td>2018</td>\n",
       "      <td>1</td>\n",
       "      <td>1</td>\n",
       "    </tr>\n",
       "  </tbody>\n",
       "</table>\n",
       "</div>"
      ],
      "text/plain": [
       "  post_id  periods WKD_TYP_CD  amount  bizCount  year  month  day\n",
       "0       A        1         NH       0        13  2018      1    1\n",
       "1       A        2         NH       0        13  2018      1    1\n",
       "2       A        3         NH       0        13  2018      1    1\n",
       "3       A        4         NH       0        13  2018      1    1\n",
       "4       A        5         NH       0        13  2018      1    1"
      ]
     },
     "execution_count": 5,
     "metadata": {},
     "output_type": "execute_result"
    }
   ],
   "source": [
    "## 提取时间特征，此处以年、月、日作为变量\n",
    "def getDateDf(df):\n",
    "    df['date'] = pd.to_datetime(df['date'], format = '%Y/%m/%d')\n",
    "    df['year'] = df['date'].dt.year\n",
    "    df['month'] = df['date'].dt.month\n",
    "    df['day'] = df['date'].dt.day\n",
    "    df.drop(['date'], axis=1, inplace=True)\n",
    "    return df\n",
    "\n",
    "trainDf = getDateDf(trainDf)\n",
    "trainDayDf = getDateDf(trainDayDf)\n",
    "testDf = getDateDf(testDf)\n",
    "testDayDf = getDateDf(testDayDf)\n",
    "trainDf.head()"
   ]
  },
  {
   "cell_type": "markdown",
   "metadata": {},
   "source": [
    "# 模型部分"
   ]
  },
  {
   "cell_type": "code",
   "execution_count": 6,
   "metadata": {},
   "outputs": [],
   "source": [
    "## 载入所需库\n",
    "from sklearn.ensemble import RandomForestRegressor\n",
    "from sklearn.model_selection import KFold,train_test_split,StratifiedKFold,GridSearchCV,cross_val_score\n",
    "from sklearn.metrics import mean_squared_error, mean_absolute_error, r2_score,accuracy_score, \\\n",
    "                            precision_score,recall_score, roc_auc_score\n",
    "from sklearn.preprocessing import LabelEncoder\n",
    "from sklearn.preprocessing import OneHotEncoder\n",
    "\n",
    "import warnings\n",
    "warnings.filterwarnings('ignore')"
   ]
  },
  {
   "cell_type": "code",
   "execution_count": 7,
   "metadata": {},
   "outputs": [],
   "source": [
    "## 将字符向量转化为值向量\n",
    "def labelEncoder_df(df, features):\n",
    "    for i in features:\n",
    "        encoder = LabelEncoder()\n",
    "        df[i] = encoder.fit_transform(df[i])\n",
    "        \n",
    "## 节省内存\n",
    "def reduce_mem_usage(df, verbose=True):\n",
    "    numerics = ['int16', 'int32', 'int64', 'float16', 'float32', 'float64']\n",
    "    start_mem = df.memory_usage().sum() / 1024**2\n",
    "    for col in df.columns:\n",
    "        col_type = df[col].dtypes\n",
    "        if col_type in numerics:\n",
    "            c_min = df[col].min()\n",
    "            c_max = df[col].max()\n",
    "            if str(col_type)[:3] == 'int':\n",
    "                if c_min > np.iinfo(np.int8).min and c_max < np.iinfo(np.int8).max:\n",
    "                    df[col] = df[col].astype(np.int8)\n",
    "                elif c_min > np.iinfo(np.int16).min and c_max < np.iinfo(np.int16).max:\n",
    "                    df[col] = df[col].astype(np.int16)\n",
    "                elif c_min > np.iinfo(np.int32).min and c_max < np.iinfo(np.int32).max:\n",
    "                    df[col] = df[col].astype(np.int32)\n",
    "                elif c_min > np.iinfo(np.int64).min and c_max < np.iinfo(np.int64).max:\n",
    "                    df[col] = df[col].astype(np.int64)\n",
    "            else:\n",
    "                if c_min > np.finfo(np.float16).min and c_max < np.finfo(np.float16).max:\n",
    "                    df[col] = df[col].astype(np.float16)\n",
    "                elif c_min > np.finfo(np.float32).min and c_max < np.finfo(np.float32).max:\n",
    "                    df[col] = df[col].astype(np.float32)\n",
    "                else:\n",
    "                    df[col] = df[col].astype(np.float64)\n",
    "    end_mem = df.memory_usage().sum() / 1024**2\n",
    "    if verbose: print('Mem. usage decreased to {:5.2f} Mb ({:.1f}% reduction)'.format(end_mem, 100 * (start_mem - end_mem) / start_mem))\n",
    "    return df"
   ]
  },
  {
   "cell_type": "markdown",
   "metadata": {},
   "source": [
    "## 以0.5h为粒度"
   ]
  },
  {
   "cell_type": "code",
   "execution_count": 8,
   "metadata": {},
   "outputs": [],
   "source": [
    "trainCols = trainDf.columns.tolist()\n",
    "testCols = testDf.columns.tolist()"
   ]
  },
  {
   "cell_type": "code",
   "execution_count": 9,
   "metadata": {},
   "outputs": [],
   "source": [
    "trainDf['isTest'] = -1\n",
    "testDf['isTest'] = 1\n",
    "totalDf = pd.concat([trainDf, testDf])"
   ]
  },
  {
   "cell_type": "code",
   "execution_count": 10,
   "metadata": {},
   "outputs": [],
   "source": [
    "cols = ['post_id', 'WKD_TYP_CD']\n",
    "for col in cols:\n",
    "    if totalDf[col].dtype == 'object':\n",
    "        totalDf[col] = totalDf[col].astype(str)\n",
    "labelEncoder_df(totalDf, cols)"
   ]
  },
  {
   "cell_type": "code",
   "execution_count": 11,
   "metadata": {},
   "outputs": [
    {
     "name": "stdout",
     "output_type": "stream",
     "text": [
      "Mem. usage decreased to  1.80 Mb (68.3% reduction)\n",
      "Mem. usage decreased to  0.06 Mb (58.9% reduction)\n"
     ]
    }
   ],
   "source": [
    "trainDf = totalDf[totalDf['isTest'] == -1]\n",
    "trainDf = trainDf[trainCols]\n",
    "testDf = totalDf[totalDf['isTest'] == 1]\n",
    "testDf = testDf[testCols]\n",
    "\n",
    "trainDf['amount'] = trainDf['amount'].astype(int)\n",
    "\n",
    "trainDf = reduce_mem_usage(trainDf)\n",
    "testDf = reduce_mem_usage(testDf)"
   ]
  },
  {
   "cell_type": "code",
   "execution_count": 12,
   "metadata": {},
   "outputs": [
    {
     "name": "stdout",
     "output_type": "stream",
     "text": [
      "<class 'pandas.core.frame.DataFrame'>\n",
      "Int64Index: 99360 entries, 0 to 99359\n",
      "Data columns (total 8 columns):\n",
      " #   Column      Non-Null Count  Dtype  \n",
      "---  ------      --------------  -----  \n",
      " 0   post_id     99360 non-null  int8   \n",
      " 1   periods     99360 non-null  int8   \n",
      " 2   WKD_TYP_CD  99360 non-null  int8   \n",
      " 3   amount      99360 non-null  int16  \n",
      " 4   bizCount    99360 non-null  float16\n",
      " 5   year        99360 non-null  int16  \n",
      " 6   month       99360 non-null  int8   \n",
      " 7   day         99360 non-null  int8   \n",
      "dtypes: float16(1), int16(2), int8(5)\n",
      "memory usage: 1.8 MB\n"
     ]
    },
    {
     "data": {
      "text/html": [
       "<div>\n",
       "<style scoped>\n",
       "    .dataframe tbody tr th:only-of-type {\n",
       "        vertical-align: middle;\n",
       "    }\n",
       "\n",
       "    .dataframe tbody tr th {\n",
       "        vertical-align: top;\n",
       "    }\n",
       "\n",
       "    .dataframe thead th {\n",
       "        text-align: right;\n",
       "    }\n",
       "</style>\n",
       "<table border=\"1\" class=\"dataframe\">\n",
       "  <thead>\n",
       "    <tr style=\"text-align: right;\">\n",
       "      <th></th>\n",
       "      <th>post_id</th>\n",
       "      <th>periods</th>\n",
       "      <th>WKD_TYP_CD</th>\n",
       "      <th>amount</th>\n",
       "      <th>bizCount</th>\n",
       "      <th>year</th>\n",
       "      <th>month</th>\n",
       "      <th>day</th>\n",
       "    </tr>\n",
       "  </thead>\n",
       "  <tbody>\n",
       "    <tr>\n",
       "      <th>0</th>\n",
       "      <td>0</td>\n",
       "      <td>1</td>\n",
       "      <td>0</td>\n",
       "      <td>0</td>\n",
       "      <td>13.0</td>\n",
       "      <td>2018</td>\n",
       "      <td>1</td>\n",
       "      <td>1</td>\n",
       "    </tr>\n",
       "    <tr>\n",
       "      <th>1</th>\n",
       "      <td>0</td>\n",
       "      <td>2</td>\n",
       "      <td>0</td>\n",
       "      <td>0</td>\n",
       "      <td>13.0</td>\n",
       "      <td>2018</td>\n",
       "      <td>1</td>\n",
       "      <td>1</td>\n",
       "    </tr>\n",
       "    <tr>\n",
       "      <th>2</th>\n",
       "      <td>0</td>\n",
       "      <td>3</td>\n",
       "      <td>0</td>\n",
       "      <td>0</td>\n",
       "      <td>13.0</td>\n",
       "      <td>2018</td>\n",
       "      <td>1</td>\n",
       "      <td>1</td>\n",
       "    </tr>\n",
       "    <tr>\n",
       "      <th>3</th>\n",
       "      <td>0</td>\n",
       "      <td>4</td>\n",
       "      <td>0</td>\n",
       "      <td>0</td>\n",
       "      <td>13.0</td>\n",
       "      <td>2018</td>\n",
       "      <td>1</td>\n",
       "      <td>1</td>\n",
       "    </tr>\n",
       "    <tr>\n",
       "      <th>4</th>\n",
       "      <td>0</td>\n",
       "      <td>5</td>\n",
       "      <td>0</td>\n",
       "      <td>0</td>\n",
       "      <td>13.0</td>\n",
       "      <td>2018</td>\n",
       "      <td>1</td>\n",
       "      <td>1</td>\n",
       "    </tr>\n",
       "  </tbody>\n",
       "</table>\n",
       "</div>"
      ],
      "text/plain": [
       "   post_id  periods  WKD_TYP_CD  amount  bizCount  year  month  day\n",
       "0        0        1           0       0      13.0  2018      1    1\n",
       "1        0        2           0       0      13.0  2018      1    1\n",
       "2        0        3           0       0      13.0  2018      1    1\n",
       "3        0        4           0       0      13.0  2018      1    1\n",
       "4        0        5           0       0      13.0  2018      1    1"
      ]
     },
     "execution_count": 12,
     "metadata": {},
     "output_type": "execute_result"
    }
   ],
   "source": [
    "trainDf.info()\n",
    "trainDf.head()"
   ]
  },
  {
   "cell_type": "markdown",
   "metadata": {},
   "source": [
    "## 模型"
   ]
  },
  {
   "cell_type": "code",
   "execution_count": 19,
   "metadata": {},
   "outputs": [],
   "source": [
    "dfX = trainDf.drop(['amount'], axis = 1)\n",
    "dfY = trainDf['amount']\n",
    "\n",
    "trainX, valX, trainY, valY = train_test_split(dfX, dfY, test_size=0.2, random_state = 42)"
   ]
  },
  {
   "cell_type": "code",
   "execution_count": 20,
   "metadata": {},
   "outputs": [],
   "source": [
    "################\n",
    "## 评价函数 \n",
    "def calMAPE(y, y_predict, name=None):\n",
    "    y = y.to_numpy()\n",
    "    y_predict = y_predict.to_numpy()\n",
    "    temp = np.abs((y - y_predict) / y)\n",
    "    temp = temp[~np.isinf(temp)]\n",
    "    MAPE = np.nanmean(temp, axis=0)\n",
    "    # MAPE = np.mean(np.abs((y - y_predict) / y)) * 100\n",
    "    if name:\n",
    "        print(name,':')\n",
    "    print(f'MAPE is: {MAPE}')\n",
    "    print('- - - - - - ')\n",
    "    return MAPE"
   ]
  },
  {
   "cell_type": "code",
   "execution_count": 42,
   "metadata": {},
   "outputs": [
    {
     "data": {
      "text/plain": [
       "['accuracy',\n",
       " 'adjusted_mutual_info_score',\n",
       " 'adjusted_rand_score',\n",
       " 'average_precision',\n",
       " 'balanced_accuracy',\n",
       " 'brier_score_loss',\n",
       " 'completeness_score',\n",
       " 'explained_variance',\n",
       " 'f1',\n",
       " 'f1_macro',\n",
       " 'f1_micro',\n",
       " 'f1_samples',\n",
       " 'f1_weighted',\n",
       " 'fowlkes_mallows_score',\n",
       " 'homogeneity_score',\n",
       " 'jaccard',\n",
       " 'jaccard_macro',\n",
       " 'jaccard_micro',\n",
       " 'jaccard_samples',\n",
       " 'jaccard_weighted',\n",
       " 'max_error',\n",
       " 'mutual_info_score',\n",
       " 'neg_log_loss',\n",
       " 'neg_mean_absolute_error',\n",
       " 'neg_mean_squared_error',\n",
       " 'neg_mean_squared_log_error',\n",
       " 'neg_median_absolute_error',\n",
       " 'normalized_mutual_info_score',\n",
       " 'precision',\n",
       " 'precision_macro',\n",
       " 'precision_micro',\n",
       " 'precision_samples',\n",
       " 'precision_weighted',\n",
       " 'r2',\n",
       " 'recall',\n",
       " 'recall_macro',\n",
       " 'recall_micro',\n",
       " 'recall_samples',\n",
       " 'recall_weighted',\n",
       " 'roc_auc',\n",
       " 'v_measure_score']"
      ]
     },
     "execution_count": 42,
     "metadata": {},
     "output_type": "execute_result"
    }
   ],
   "source": [
    "import sklearn\n",
    "sorted(sklearn.metrics.SCORERS.keys())"
   ]
  },
  {
   "cell_type": "code",
   "execution_count": 43,
   "metadata": {},
   "outputs": [
    {
     "name": "stdout",
     "output_type": "stream",
     "text": [
      "Fitting 3 folds for each of 36 candidates, totalling 108 fits\n"
     ]
    },
    {
     "name": "stderr",
     "output_type": "stream",
     "text": [
      "[Parallel(n_jobs=-1)]: Using backend LokyBackend with 4 concurrent workers.\n",
      "[Parallel(n_jobs=-1)]: Done   5 tasks      | elapsed:  1.4min\n",
      "[Parallel(n_jobs=-1)]: Done  10 tasks      | elapsed:  3.2min\n",
      "[Parallel(n_jobs=-1)]: Done  17 tasks      | elapsed:  4.5min\n",
      "[Parallel(n_jobs=-1)]: Done  24 tasks      | elapsed:  6.7min\n",
      "[Parallel(n_jobs=-1)]: Done  33 tasks      | elapsed:  8.7min\n",
      "[Parallel(n_jobs=-1)]: Done  42 tasks      | elapsed: 10.6min\n",
      "[Parallel(n_jobs=-1)]: Done  53 tasks      | elapsed: 13.3min\n",
      "[Parallel(n_jobs=-1)]: Done  64 tasks      | elapsed: 16.0min\n",
      "[Parallel(n_jobs=-1)]: Done  77 tasks      | elapsed: 18.8min\n",
      "[Parallel(n_jobs=-1)]: Done  90 tasks      | elapsed: 21.9min\n",
      "[Parallel(n_jobs=-1)]: Done 108 out of 108 | elapsed: 26.9min finished\n"
     ]
    },
    {
     "name": "stdout",
     "output_type": "stream",
     "text": [
      "The best parameters:  {'min_samples_leaf': 1, 'min_samples_split': 2, 'n_estimators': 250}\n"
     ]
    }
   ],
   "source": [
    "from sklearn.model_selection import GridSearchCV\n",
    "\n",
    "rf_cfl = RandomForestRegressor(n_estimators=120).fit(trainX, trainY)\n",
    "\n",
    "param_grid = {\n",
    "            'n_estimators': [50, 100, 200, 250],\n",
    "            # 'max_features': [2, 3],\n",
    "            'min_samples_leaf': [1, 2, 4],\n",
    "            'min_samples_split': [2, 5, 10],\n",
    "            }\n",
    "CV_rnd_cfl = GridSearchCV(estimator = rf_cfl, param_grid = param_grid, scoring = 'neg_mean_squared_error', verbose = 10, n_jobs = -1)\n",
    "CV_rnd_cfl.fit(trainX, trainY)\n",
    "\n",
    "best_parameters = CV_rnd_cfl.best_params_\n",
    "print(\"The best parameters: \", best_parameters)"
   ]
  },
  {
   "cell_type": "markdown",
   "metadata": {},
   "source": [
    "## 以0.5h为粒度的task2"
   ]
  },
  {
   "cell_type": "code",
   "execution_count": 44,
   "metadata": {},
   "outputs": [
    {
     "name": "stdout",
     "output_type": "stream",
     "text": [
      "Train Score:0.998275\n",
      "Val Score:0.984758\n"
     ]
    }
   ],
   "source": [
    "random_seed = 2021\n",
    "np.random.seed(2)\n",
    "    \n",
    "rf_cfl = RandomForestRegressor(n_estimators = 250,\n",
    "                               min_samples_split = 2,\n",
    "                               min_samples_leaf = 1,\n",
    "                               #max_features = 3\n",
    "                              )\n",
    "rf_cfl.fit(trainX, trainY)\n",
    "y_rf = rf_cfl.predict(valX)\n",
    "y_rf = y_rf.astype(int)\n",
    "y_rf = pd.Series(y_rf.tolist())\n",
    "y_rf.name = 'amount'\n",
    "print(\"Train Score:%f\" % rf_cfl.score(trainX, trainY))\n",
    "print(\"Val Score:%f\" % rf_cfl.score(valX, valY))"
   ]
  },
  {
   "cell_type": "code",
   "execution_count": 45,
   "metadata": {},
   "outputs": [
    {
     "name": "stdout",
     "output_type": "stream",
     "text": [
      "MAPE is: 0.2947687624700864\n",
      "- - - - - - \n",
      "0.2947687624700864\n"
     ]
    }
   ],
   "source": [
    "MAPE2 = calMAPE(valY, y_rf)\n",
    "print(MAPE2)"
   ]
  },
  {
   "cell_type": "markdown",
   "metadata": {},
   "source": [
    "## 以天为粒度"
   ]
  },
  {
   "cell_type": "code",
   "execution_count": 46,
   "metadata": {},
   "outputs": [],
   "source": [
    "trainDayCols = trainDayDf.columns.tolist()\n",
    "testDayCols = testDayDf.columns.tolist()"
   ]
  },
  {
   "cell_type": "code",
   "execution_count": 47,
   "metadata": {},
   "outputs": [],
   "source": [
    "trainDayDf['isTest'] = -1\n",
    "testDayDf['isTest'] = 1\n",
    "totalDayDf = pd.concat([trainDayDf, testDayDf])"
   ]
  },
  {
   "cell_type": "code",
   "execution_count": 48,
   "metadata": {},
   "outputs": [],
   "source": [
    "cols = ['post_id', 'WKD_TYP_CD']\n",
    "for col in cols:\n",
    "    if totalDayDf[col].dtype == 'object':\n",
    "        totalDayDf[col] = totalDayDf[col].astype(str)\n",
    "labelEncoder_df(totalDayDf, cols)"
   ]
  },
  {
   "cell_type": "code",
   "execution_count": 49,
   "metadata": {},
   "outputs": [
    {
     "name": "stdout",
     "output_type": "stream",
     "text": [
      "Mem. usage decreased to  0.04 Mb (41.2% reduction)\n",
      "Mem. usage decreased to  0.00 Mb (38.9% reduction)\n"
     ]
    }
   ],
   "source": [
    "trainDayDf = totalDayDf[totalDayDf['isTest'] == -1]\n",
    "trainDayDf = trainDayDf[trainDayCols]\n",
    "testDayDf = totalDayDf[totalDayDf['isTest'] == 1]\n",
    "testDayDf = testDayDf[testDayCols]\n",
    "\n",
    "trainDayDf['amount'] = trainDayDf['amount'].astype(int)\n",
    "\n",
    "trainDayDf = reduce_mem_usage(trainDayDf)\n",
    "testDayDf = reduce_mem_usage(testDayDf)"
   ]
  },
  {
   "cell_type": "code",
   "execution_count": 50,
   "metadata": {},
   "outputs": [],
   "source": [
    "dfDayX = trainDayDf.drop(['amount'], axis = 1)\n",
    "dfDayY = trainDayDf['amount']\n",
    "\n",
    "trainDayX, valDayX, trainDayY, valDayY = train_test_split(dfDayX, dfDayY, test_size=0.2, random_state = 42)"
   ]
  },
  {
   "cell_type": "code",
   "execution_count": 51,
   "metadata": {},
   "outputs": [
    {
     "name": "stdout",
     "output_type": "stream",
     "text": [
      "Train Score:0.990938\n",
      "Val Score:0.934749\n"
     ]
    }
   ],
   "source": [
    "random_seed = 2021\n",
    "np.random.seed(2)\n",
    "    \n",
    "rfDay_cfl = RandomForestRegressor(n_estimators = 250,\n",
    "                               min_samples_split = 2,\n",
    "                               min_samples_leaf = 1,\n",
    "                                 )\n",
    "rfDay_cfl.fit(trainDayX, trainDayY)\n",
    "y_rfDay = rfDay_cfl.predict(valDayX)\n",
    "y_rfDay = y_rfDay.astype(int)\n",
    "y_rfDay = pd.Series(y_rfDay.tolist())\n",
    "y_rfDay.name = 'amount'\n",
    "print(\"Train Score:%f\" % rfDay_cfl.score(trainDayX, trainDayY))\n",
    "print(\"Val Score:%f\" % rfDay_cfl.score(valDayX, valDayY))"
   ]
  },
  {
   "cell_type": "code",
   "execution_count": 52,
   "metadata": {},
   "outputs": [
    {
     "name": "stdout",
     "output_type": "stream",
     "text": [
      "MAPE is: 0.26511586233516204\n",
      "- - - - - - \n",
      "0.26511586233516204\n"
     ]
    }
   ],
   "source": [
    "MAPE1 = calMAPE(valDayY, y_rfDay)\n",
    "print(MAPE1)"
   ]
  },
  {
   "cell_type": "code",
   "execution_count": 53,
   "metadata": {},
   "outputs": [
    {
     "name": "stdout",
     "output_type": "stream",
     "text": [
      "total MAPE is: 0.2740117323756393\n"
     ]
    }
   ],
   "source": [
    "MAPE = 0.7 * MAPE1 + 0.3 * MAPE2\n",
    "print('total MAPE is:', MAPE)"
   ]
  },
  {
   "cell_type": "code",
   "execution_count": null,
   "metadata": {},
   "outputs": [],
   "source": []
  },
  {
   "cell_type": "markdown",
   "metadata": {},
   "source": [
    "## 直接基于以0.5h为粒度的模型预测task1"
   ]
  },
  {
   "cell_type": "code",
   "execution_count": 17,
   "metadata": {},
   "outputs": [
    {
     "data": {
      "text/html": [
       "<div>\n",
       "<style scoped>\n",
       "    .dataframe tbody tr th:only-of-type {\n",
       "        vertical-align: middle;\n",
       "    }\n",
       "\n",
       "    .dataframe tbody tr th {\n",
       "        vertical-align: top;\n",
       "    }\n",
       "\n",
       "    .dataframe thead th {\n",
       "        text-align: right;\n",
       "    }\n",
       "</style>\n",
       "<table border=\"1\" class=\"dataframe\">\n",
       "  <thead>\n",
       "    <tr style=\"text-align: right;\">\n",
       "      <th></th>\n",
       "      <th>post_id</th>\n",
       "      <th>periods</th>\n",
       "      <th>WKD_TYP_CD</th>\n",
       "      <th>bizCount</th>\n",
       "      <th>year</th>\n",
       "      <th>month</th>\n",
       "      <th>day</th>\n",
       "      <th>amount</th>\n",
       "    </tr>\n",
       "  </thead>\n",
       "  <tbody>\n",
       "    <tr>\n",
       "      <th>0</th>\n",
       "      <td>0</td>\n",
       "      <td>37</td>\n",
       "      <td>3</td>\n",
       "      <td>13.0</td>\n",
       "      <td>2018</td>\n",
       "      <td>1</td>\n",
       "      <td>4</td>\n",
       "      <td>1</td>\n",
       "    </tr>\n",
       "    <tr>\n",
       "      <th>1</th>\n",
       "      <td>0</td>\n",
       "      <td>23</td>\n",
       "      <td>3</td>\n",
       "      <td>13.0</td>\n",
       "      <td>2019</td>\n",
       "      <td>12</td>\n",
       "      <td>25</td>\n",
       "      <td>0</td>\n",
       "    </tr>\n",
       "    <tr>\n",
       "      <th>2</th>\n",
       "      <td>1</td>\n",
       "      <td>34</td>\n",
       "      <td>3</td>\n",
       "      <td>1.0</td>\n",
       "      <td>2019</td>\n",
       "      <td>7</td>\n",
       "      <td>29</td>\n",
       "      <td>372</td>\n",
       "    </tr>\n",
       "    <tr>\n",
       "      <th>3</th>\n",
       "      <td>0</td>\n",
       "      <td>44</td>\n",
       "      <td>3</td>\n",
       "      <td>13.0</td>\n",
       "      <td>2019</td>\n",
       "      <td>8</td>\n",
       "      <td>5</td>\n",
       "      <td>0</td>\n",
       "    </tr>\n",
       "    <tr>\n",
       "      <th>4</th>\n",
       "      <td>0</td>\n",
       "      <td>46</td>\n",
       "      <td>1</td>\n",
       "      <td>13.0</td>\n",
       "      <td>2020</td>\n",
       "      <td>7</td>\n",
       "      <td>12</td>\n",
       "      <td>0</td>\n",
       "    </tr>\n",
       "  </tbody>\n",
       "</table>\n",
       "</div>"
      ],
      "text/plain": [
       "   post_id  periods  WKD_TYP_CD  bizCount  year  month  day  amount\n",
       "0        0       37           3      13.0  2018      1    4       1\n",
       "1        0       23           3      13.0  2019     12   25       0\n",
       "2        1       34           3       1.0  2019      7   29     372\n",
       "3        0       44           3      13.0  2019      8    5       0\n",
       "4        0       46           1      13.0  2020      7   12       0"
      ]
     },
     "execution_count": 17,
     "metadata": {},
     "output_type": "execute_result"
    }
   ],
   "source": [
    "valDayDf = pd.concat([valX, valY], axis = 1)\n",
    "valDayDf = valDayDf.reset_index(drop = True)\n",
    "valDayDf.head()"
   ]
  },
  {
   "cell_type": "code",
   "execution_count": 60,
   "metadata": {},
   "outputs": [
    {
     "data": {
      "text/html": [
       "<div>\n",
       "<style scoped>\n",
       "    .dataframe tbody tr th:only-of-type {\n",
       "        vertical-align: middle;\n",
       "    }\n",
       "\n",
       "    .dataframe tbody tr th {\n",
       "        vertical-align: top;\n",
       "    }\n",
       "\n",
       "    .dataframe thead th {\n",
       "        text-align: right;\n",
       "    }\n",
       "</style>\n",
       "<table border=\"1\" class=\"dataframe\">\n",
       "  <thead>\n",
       "    <tr style=\"text-align: right;\">\n",
       "      <th></th>\n",
       "      <th>post_id</th>\n",
       "      <th>periods</th>\n",
       "      <th>WKD_TYP_CD</th>\n",
       "      <th>bizCount</th>\n",
       "      <th>year</th>\n",
       "      <th>month</th>\n",
       "      <th>day</th>\n",
       "      <th>amount</th>\n",
       "    </tr>\n",
       "  </thead>\n",
       "  <tbody>\n",
       "    <tr>\n",
       "      <th>0</th>\n",
       "      <td>0</td>\n",
       "      <td>37</td>\n",
       "      <td>3</td>\n",
       "      <td>13.0</td>\n",
       "      <td>2018</td>\n",
       "      <td>1</td>\n",
       "      <td>4</td>\n",
       "      <td>0</td>\n",
       "    </tr>\n",
       "    <tr>\n",
       "      <th>1</th>\n",
       "      <td>0</td>\n",
       "      <td>23</td>\n",
       "      <td>3</td>\n",
       "      <td>13.0</td>\n",
       "      <td>2019</td>\n",
       "      <td>12</td>\n",
       "      <td>25</td>\n",
       "      <td>1494</td>\n",
       "    </tr>\n",
       "    <tr>\n",
       "      <th>2</th>\n",
       "      <td>1</td>\n",
       "      <td>34</td>\n",
       "      <td>3</td>\n",
       "      <td>1.0</td>\n",
       "      <td>2019</td>\n",
       "      <td>7</td>\n",
       "      <td>29</td>\n",
       "      <td>336</td>\n",
       "    </tr>\n",
       "    <tr>\n",
       "      <th>3</th>\n",
       "      <td>0</td>\n",
       "      <td>44</td>\n",
       "      <td>3</td>\n",
       "      <td>13.0</td>\n",
       "      <td>2019</td>\n",
       "      <td>8</td>\n",
       "      <td>5</td>\n",
       "      <td>0</td>\n",
       "    </tr>\n",
       "    <tr>\n",
       "      <th>4</th>\n",
       "      <td>0</td>\n",
       "      <td>46</td>\n",
       "      <td>1</td>\n",
       "      <td>13.0</td>\n",
       "      <td>2020</td>\n",
       "      <td>7</td>\n",
       "      <td>12</td>\n",
       "      <td>0</td>\n",
       "    </tr>\n",
       "  </tbody>\n",
       "</table>\n",
       "</div>"
      ],
      "text/plain": [
       "   post_id  periods  WKD_TYP_CD  bizCount  year  month  day  amount\n",
       "0        0       37           3      13.0  2018      1    4       0\n",
       "1        0       23           3      13.0  2019     12   25    1494\n",
       "2        1       34           3       1.0  2019      7   29     336\n",
       "3        0       44           3      13.0  2019      8    5       0\n",
       "4        0       46           1      13.0  2020      7   12       0"
      ]
     },
     "execution_count": 60,
     "metadata": {},
     "output_type": "execute_result"
    }
   ],
   "source": [
    "rfDayDf = pd.concat([valX.reset_index(drop = True), y_rf], axis = 1)\n",
    "rfDayDf = rfDayDf.reset_index(drop = True)\n",
    "rfDayDf.head()"
   ]
  },
  {
   "cell_type": "code",
   "execution_count": 19,
   "metadata": {},
   "outputs": [],
   "source": [
    "from datetime import datetime\n",
    "def repairDate(df):\n",
    "    df['date'] = pd.to_datetime(df[['year', 'month', 'day']])\n",
    "    df['date'] = df['date'].apply(lambda x: datetime.strftime(x, format = '%Y/%#m/%#d'))\n",
    "    df.drop(['year', 'month', 'day'], axis = 1, inplace = True)\n",
    "    return df"
   ]
  },
  {
   "cell_type": "code",
   "execution_count": 20,
   "metadata": {},
   "outputs": [
    {
     "data": {
      "text/html": [
       "<div>\n",
       "<style scoped>\n",
       "    .dataframe tbody tr th:only-of-type {\n",
       "        vertical-align: middle;\n",
       "    }\n",
       "\n",
       "    .dataframe tbody tr th {\n",
       "        vertical-align: top;\n",
       "    }\n",
       "\n",
       "    .dataframe thead th {\n",
       "        text-align: right;\n",
       "    }\n",
       "</style>\n",
       "<table border=\"1\" class=\"dataframe\">\n",
       "  <thead>\n",
       "    <tr style=\"text-align: right;\">\n",
       "      <th></th>\n",
       "      <th>post_id</th>\n",
       "      <th>periods</th>\n",
       "      <th>WKD_TYP_CD</th>\n",
       "      <th>bizCount</th>\n",
       "      <th>amount</th>\n",
       "      <th>date</th>\n",
       "    </tr>\n",
       "  </thead>\n",
       "  <tbody>\n",
       "    <tr>\n",
       "      <th>0</th>\n",
       "      <td>0</td>\n",
       "      <td>37</td>\n",
       "      <td>3</td>\n",
       "      <td>13.0</td>\n",
       "      <td>1</td>\n",
       "      <td>2018/1/4</td>\n",
       "    </tr>\n",
       "    <tr>\n",
       "      <th>1</th>\n",
       "      <td>0</td>\n",
       "      <td>23</td>\n",
       "      <td>3</td>\n",
       "      <td>13.0</td>\n",
       "      <td>0</td>\n",
       "      <td>2019/12/25</td>\n",
       "    </tr>\n",
       "    <tr>\n",
       "      <th>2</th>\n",
       "      <td>1</td>\n",
       "      <td>34</td>\n",
       "      <td>3</td>\n",
       "      <td>1.0</td>\n",
       "      <td>372</td>\n",
       "      <td>2019/7/29</td>\n",
       "    </tr>\n",
       "    <tr>\n",
       "      <th>3</th>\n",
       "      <td>0</td>\n",
       "      <td>44</td>\n",
       "      <td>3</td>\n",
       "      <td>13.0</td>\n",
       "      <td>0</td>\n",
       "      <td>2019/8/5</td>\n",
       "    </tr>\n",
       "    <tr>\n",
       "      <th>4</th>\n",
       "      <td>0</td>\n",
       "      <td>46</td>\n",
       "      <td>1</td>\n",
       "      <td>13.0</td>\n",
       "      <td>0</td>\n",
       "      <td>2020/7/12</td>\n",
       "    </tr>\n",
       "  </tbody>\n",
       "</table>\n",
       "</div>"
      ],
      "text/plain": [
       "   post_id  periods  WKD_TYP_CD  bizCount  amount        date\n",
       "0        0       37           3      13.0       1    2018/1/4\n",
       "1        0       23           3      13.0       0  2019/12/25\n",
       "2        1       34           3       1.0     372   2019/7/29\n",
       "3        0       44           3      13.0       0    2019/8/5\n",
       "4        0       46           1      13.0       0   2020/7/12"
      ]
     },
     "execution_count": 20,
     "metadata": {},
     "output_type": "execute_result"
    }
   ],
   "source": [
    "valDayDf = repairDate(valDayDf)\n",
    "valDayDf.head()"
   ]
  },
  {
   "cell_type": "code",
   "execution_count": 61,
   "metadata": {},
   "outputs": [
    {
     "data": {
      "text/html": [
       "<div>\n",
       "<style scoped>\n",
       "    .dataframe tbody tr th:only-of-type {\n",
       "        vertical-align: middle;\n",
       "    }\n",
       "\n",
       "    .dataframe tbody tr th {\n",
       "        vertical-align: top;\n",
       "    }\n",
       "\n",
       "    .dataframe thead th {\n",
       "        text-align: right;\n",
       "    }\n",
       "</style>\n",
       "<table border=\"1\" class=\"dataframe\">\n",
       "  <thead>\n",
       "    <tr style=\"text-align: right;\">\n",
       "      <th></th>\n",
       "      <th>post_id</th>\n",
       "      <th>periods</th>\n",
       "      <th>WKD_TYP_CD</th>\n",
       "      <th>bizCount</th>\n",
       "      <th>amount</th>\n",
       "      <th>date</th>\n",
       "    </tr>\n",
       "  </thead>\n",
       "  <tbody>\n",
       "    <tr>\n",
       "      <th>0</th>\n",
       "      <td>0</td>\n",
       "      <td>37</td>\n",
       "      <td>3</td>\n",
       "      <td>13.0</td>\n",
       "      <td>0</td>\n",
       "      <td>2018/1/4</td>\n",
       "    </tr>\n",
       "    <tr>\n",
       "      <th>1</th>\n",
       "      <td>0</td>\n",
       "      <td>23</td>\n",
       "      <td>3</td>\n",
       "      <td>13.0</td>\n",
       "      <td>1494</td>\n",
       "      <td>2019/12/25</td>\n",
       "    </tr>\n",
       "    <tr>\n",
       "      <th>2</th>\n",
       "      <td>1</td>\n",
       "      <td>34</td>\n",
       "      <td>3</td>\n",
       "      <td>1.0</td>\n",
       "      <td>336</td>\n",
       "      <td>2019/7/29</td>\n",
       "    </tr>\n",
       "    <tr>\n",
       "      <th>3</th>\n",
       "      <td>0</td>\n",
       "      <td>44</td>\n",
       "      <td>3</td>\n",
       "      <td>13.0</td>\n",
       "      <td>0</td>\n",
       "      <td>2019/8/5</td>\n",
       "    </tr>\n",
       "    <tr>\n",
       "      <th>4</th>\n",
       "      <td>0</td>\n",
       "      <td>46</td>\n",
       "      <td>1</td>\n",
       "      <td>13.0</td>\n",
       "      <td>0</td>\n",
       "      <td>2020/7/12</td>\n",
       "    </tr>\n",
       "  </tbody>\n",
       "</table>\n",
       "</div>"
      ],
      "text/plain": [
       "   post_id  periods  WKD_TYP_CD  bizCount  amount        date\n",
       "0        0       37           3      13.0       0    2018/1/4\n",
       "1        0       23           3      13.0    1494  2019/12/25\n",
       "2        1       34           3       1.0     336   2019/7/29\n",
       "3        0       44           3      13.0       0    2019/8/5\n",
       "4        0       46           1      13.0       0   2020/7/12"
      ]
     },
     "execution_count": 61,
     "metadata": {},
     "output_type": "execute_result"
    }
   ],
   "source": [
    "rfDayDf = repairDate(rfDayDf)\n",
    "rfDayDf.head()"
   ]
  },
  {
   "cell_type": "code",
   "execution_count": 62,
   "metadata": {},
   "outputs": [],
   "source": [
    "valDayDf = get_jobDayAmount(valDayDf)\n",
    "rfDayDf = get_jobDayAmount(rfDayDf)"
   ]
  },
  {
   "cell_type": "code",
   "execution_count": 23,
   "metadata": {},
   "outputs": [
    {
     "data": {
      "text/html": [
       "<div>\n",
       "<style scoped>\n",
       "    .dataframe tbody tr th:only-of-type {\n",
       "        vertical-align: middle;\n",
       "    }\n",
       "\n",
       "    .dataframe tbody tr th {\n",
       "        vertical-align: top;\n",
       "    }\n",
       "\n",
       "    .dataframe thead th {\n",
       "        text-align: right;\n",
       "    }\n",
       "</style>\n",
       "<table border=\"1\" class=\"dataframe\">\n",
       "  <thead>\n",
       "    <tr style=\"text-align: right;\">\n",
       "      <th></th>\n",
       "      <th>date</th>\n",
       "      <th>post_id</th>\n",
       "      <th>WKD_TYP_CD</th>\n",
       "      <th>amount</th>\n",
       "    </tr>\n",
       "  </thead>\n",
       "  <tbody>\n",
       "    <tr>\n",
       "      <th>0</th>\n",
       "      <td>2018/1/1</td>\n",
       "      <td>0</td>\n",
       "      <td>0</td>\n",
       "      <td>590</td>\n",
       "    </tr>\n",
       "    <tr>\n",
       "      <th>1</th>\n",
       "      <td>2018/1/1</td>\n",
       "      <td>1</td>\n",
       "      <td>0</td>\n",
       "      <td>0</td>\n",
       "    </tr>\n",
       "    <tr>\n",
       "      <th>2</th>\n",
       "      <td>2018/1/10</td>\n",
       "      <td>0</td>\n",
       "      <td>3</td>\n",
       "      <td>9454</td>\n",
       "    </tr>\n",
       "    <tr>\n",
       "      <th>3</th>\n",
       "      <td>2018/1/10</td>\n",
       "      <td>1</td>\n",
       "      <td>3</td>\n",
       "      <td>785</td>\n",
       "    </tr>\n",
       "    <tr>\n",
       "      <th>4</th>\n",
       "      <td>2018/1/11</td>\n",
       "      <td>0</td>\n",
       "      <td>3</td>\n",
       "      <td>6419</td>\n",
       "    </tr>\n",
       "  </tbody>\n",
       "</table>\n",
       "</div>"
      ],
      "text/plain": [
       "        date  post_id  WKD_TYP_CD  amount\n",
       "0   2018/1/1        0           0     590\n",
       "1   2018/1/1        1           0       0\n",
       "2  2018/1/10        0           3    9454\n",
       "3  2018/1/10        1           3     785\n",
       "4  2018/1/11        0           3    6419"
      ]
     },
     "execution_count": 23,
     "metadata": {},
     "output_type": "execute_result"
    }
   ],
   "source": [
    "valDayDf.head()"
   ]
  },
  {
   "cell_type": "code",
   "execution_count": 24,
   "metadata": {},
   "outputs": [
    {
     "data": {
      "text/html": [
       "<div>\n",
       "<style scoped>\n",
       "    .dataframe tbody tr th:only-of-type {\n",
       "        vertical-align: middle;\n",
       "    }\n",
       "\n",
       "    .dataframe tbody tr th {\n",
       "        vertical-align: top;\n",
       "    }\n",
       "\n",
       "    .dataframe thead th {\n",
       "        text-align: right;\n",
       "    }\n",
       "</style>\n",
       "<table border=\"1\" class=\"dataframe\">\n",
       "  <thead>\n",
       "    <tr style=\"text-align: right;\">\n",
       "      <th></th>\n",
       "      <th>date</th>\n",
       "      <th>post_id</th>\n",
       "      <th>WKD_TYP_CD</th>\n",
       "      <th>amount</th>\n",
       "    </tr>\n",
       "  </thead>\n",
       "  <tbody>\n",
       "    <tr>\n",
       "      <th>0</th>\n",
       "      <td>2018/1/1</td>\n",
       "      <td>0</td>\n",
       "      <td>0</td>\n",
       "      <td>651</td>\n",
       "    </tr>\n",
       "    <tr>\n",
       "      <th>1</th>\n",
       "      <td>2018/1/1</td>\n",
       "      <td>1</td>\n",
       "      <td>0</td>\n",
       "      <td>0</td>\n",
       "    </tr>\n",
       "    <tr>\n",
       "      <th>2</th>\n",
       "      <td>2018/1/10</td>\n",
       "      <td>0</td>\n",
       "      <td>3</td>\n",
       "      <td>9441</td>\n",
       "    </tr>\n",
       "    <tr>\n",
       "      <th>3</th>\n",
       "      <td>2018/1/10</td>\n",
       "      <td>1</td>\n",
       "      <td>3</td>\n",
       "      <td>800</td>\n",
       "    </tr>\n",
       "    <tr>\n",
       "      <th>4</th>\n",
       "      <td>2018/1/11</td>\n",
       "      <td>0</td>\n",
       "      <td>3</td>\n",
       "      <td>6823</td>\n",
       "    </tr>\n",
       "  </tbody>\n",
       "</table>\n",
       "</div>"
      ],
      "text/plain": [
       "        date  post_id  WKD_TYP_CD  amount\n",
       "0   2018/1/1        0           0     651\n",
       "1   2018/1/1        1           0       0\n",
       "2  2018/1/10        0           3    9441\n",
       "3  2018/1/10        1           3     800\n",
       "4  2018/1/11        0           3    6823"
      ]
     },
     "execution_count": 24,
     "metadata": {},
     "output_type": "execute_result"
    }
   ],
   "source": [
    "rfDayDf.head()"
   ]
  },
  {
   "cell_type": "code",
   "execution_count": 25,
   "metadata": {},
   "outputs": [
    {
     "name": "stdout",
     "output_type": "stream",
     "text": [
      "MAPE is: 0.10281209224720003\n",
      "- - - - - - \n",
      "0.10281209224720003\n"
     ]
    }
   ],
   "source": [
    "MAPE1 = calMAPE(valDayDf['amount'], rfDayDf['amount'])\n",
    "print(MAPE1)"
   ]
  },
  {
   "cell_type": "code",
   "execution_count": 26,
   "metadata": {},
   "outputs": [
    {
     "name": "stdout",
     "output_type": "stream",
     "text": [
      "total MAPE is: 0.16174836436109552\n"
     ]
    }
   ],
   "source": [
    "MAPE = 0.7 * MAPE1 + 0.3 * MAPE2\n",
    "print('total MAPE is:', MAPE)"
   ]
  },
  {
   "cell_type": "markdown",
   "metadata": {},
   "source": [
    "## v1\n",
    "2021/05/01 v1 0.18498 第14"
   ]
  },
  {
   "cell_type": "code",
   "execution_count": 55,
   "metadata": {},
   "outputs": [],
   "source": [
    "from xgboost.sklearn import XGBRegressor"
   ]
  },
  {
   "cell_type": "code",
   "execution_count": 56,
   "metadata": {},
   "outputs": [
    {
     "name": "stdout",
     "output_type": "stream",
     "text": [
      "Train Score:0.979575\n",
      "Val Score:0.970916\n"
     ]
    }
   ],
   "source": [
    "random_seed = 2021\n",
    "np.random.seed(2)\n",
    "    \n",
    "xgb_cfl = XGBRegressor()\n",
    "xgb_cfl.fit(trainX, trainY)\n",
    "y_xgb = xgb_cfl.predict(valX)\n",
    "y_xgb = y_xgb.astype(int)\n",
    "y_xgb = pd.Series(y_xgb.tolist())\n",
    "y_xgb.name = 'amount'\n",
    "print(\"Train Score:%f\" % xgb_cfl.score(trainX, trainY))\n",
    "print(\"Val Score:%f\" % xgb_cfl.score(valX, valY))"
   ]
  },
  {
   "cell_type": "code",
   "execution_count": 63,
   "metadata": {},
   "outputs": [
    {
     "name": "stdout",
     "output_type": "stream",
     "text": [
      "MAPE is: 0.9228565016534319\n",
      "- - - - - - \n",
      "0.9228565016534319\n"
     ]
    }
   ],
   "source": [
    "MAPE2 = calMAPE(valY, y_xgb)\n",
    "print(MAPE2)"
   ]
  },
  {
   "cell_type": "markdown",
   "metadata": {},
   "source": [
    "## task 1"
   ]
  },
  {
   "cell_type": "code",
   "execution_count": 64,
   "metadata": {},
   "outputs": [
    {
     "data": {
      "text/html": [
       "<div>\n",
       "<style scoped>\n",
       "    .dataframe tbody tr th:only-of-type {\n",
       "        vertical-align: middle;\n",
       "    }\n",
       "\n",
       "    .dataframe tbody tr th {\n",
       "        vertical-align: top;\n",
       "    }\n",
       "\n",
       "    .dataframe thead th {\n",
       "        text-align: right;\n",
       "    }\n",
       "</style>\n",
       "<table border=\"1\" class=\"dataframe\">\n",
       "  <thead>\n",
       "    <tr style=\"text-align: right;\">\n",
       "      <th></th>\n",
       "      <th>post_id</th>\n",
       "      <th>periods</th>\n",
       "      <th>WKD_TYP_CD</th>\n",
       "      <th>bizCount</th>\n",
       "      <th>year</th>\n",
       "      <th>month</th>\n",
       "      <th>day</th>\n",
       "      <th>amount</th>\n",
       "    </tr>\n",
       "  </thead>\n",
       "  <tbody>\n",
       "    <tr>\n",
       "      <th>0</th>\n",
       "      <td>0</td>\n",
       "      <td>37</td>\n",
       "      <td>3</td>\n",
       "      <td>13.0</td>\n",
       "      <td>2018</td>\n",
       "      <td>1</td>\n",
       "      <td>4</td>\n",
       "      <td>-52</td>\n",
       "    </tr>\n",
       "    <tr>\n",
       "      <th>1</th>\n",
       "      <td>0</td>\n",
       "      <td>23</td>\n",
       "      <td>3</td>\n",
       "      <td>13.0</td>\n",
       "      <td>2019</td>\n",
       "      <td>12</td>\n",
       "      <td>25</td>\n",
       "      <td>870</td>\n",
       "    </tr>\n",
       "    <tr>\n",
       "      <th>2</th>\n",
       "      <td>1</td>\n",
       "      <td>34</td>\n",
       "      <td>3</td>\n",
       "      <td>1.0</td>\n",
       "      <td>2019</td>\n",
       "      <td>7</td>\n",
       "      <td>29</td>\n",
       "      <td>323</td>\n",
       "    </tr>\n",
       "    <tr>\n",
       "      <th>3</th>\n",
       "      <td>0</td>\n",
       "      <td>44</td>\n",
       "      <td>3</td>\n",
       "      <td>13.0</td>\n",
       "      <td>2019</td>\n",
       "      <td>8</td>\n",
       "      <td>5</td>\n",
       "      <td>0</td>\n",
       "    </tr>\n",
       "    <tr>\n",
       "      <th>4</th>\n",
       "      <td>0</td>\n",
       "      <td>46</td>\n",
       "      <td>1</td>\n",
       "      <td>13.0</td>\n",
       "      <td>2020</td>\n",
       "      <td>7</td>\n",
       "      <td>12</td>\n",
       "      <td>2</td>\n",
       "    </tr>\n",
       "  </tbody>\n",
       "</table>\n",
       "</div>"
      ],
      "text/plain": [
       "   post_id  periods  WKD_TYP_CD  bizCount  year  month  day  amount\n",
       "0        0       37           3      13.0  2018      1    4     -52\n",
       "1        0       23           3      13.0  2019     12   25     870\n",
       "2        1       34           3       1.0  2019      7   29     323\n",
       "3        0       44           3      13.0  2019      8    5       0\n",
       "4        0       46           1      13.0  2020      7   12       2"
      ]
     },
     "execution_count": 64,
     "metadata": {},
     "output_type": "execute_result"
    }
   ],
   "source": [
    "xgbDayDf = pd.concat([valX.reset_index(drop = True), y_xgb], axis = 1)\n",
    "xgbDayDf = xgbDayDf.reset_index(drop = True)\n",
    "xgbDayDf.head()"
   ]
  },
  {
   "cell_type": "code",
   "execution_count": 65,
   "metadata": {},
   "outputs": [
    {
     "data": {
      "text/html": [
       "<div>\n",
       "<style scoped>\n",
       "    .dataframe tbody tr th:only-of-type {\n",
       "        vertical-align: middle;\n",
       "    }\n",
       "\n",
       "    .dataframe tbody tr th {\n",
       "        vertical-align: top;\n",
       "    }\n",
       "\n",
       "    .dataframe thead th {\n",
       "        text-align: right;\n",
       "    }\n",
       "</style>\n",
       "<table border=\"1\" class=\"dataframe\">\n",
       "  <thead>\n",
       "    <tr style=\"text-align: right;\">\n",
       "      <th></th>\n",
       "      <th>post_id</th>\n",
       "      <th>periods</th>\n",
       "      <th>WKD_TYP_CD</th>\n",
       "      <th>bizCount</th>\n",
       "      <th>amount</th>\n",
       "      <th>date</th>\n",
       "    </tr>\n",
       "  </thead>\n",
       "  <tbody>\n",
       "    <tr>\n",
       "      <th>0</th>\n",
       "      <td>0</td>\n",
       "      <td>37</td>\n",
       "      <td>3</td>\n",
       "      <td>13.0</td>\n",
       "      <td>-52</td>\n",
       "      <td>2018/1/4</td>\n",
       "    </tr>\n",
       "    <tr>\n",
       "      <th>1</th>\n",
       "      <td>0</td>\n",
       "      <td>23</td>\n",
       "      <td>3</td>\n",
       "      <td>13.0</td>\n",
       "      <td>870</td>\n",
       "      <td>2019/12/25</td>\n",
       "    </tr>\n",
       "    <tr>\n",
       "      <th>2</th>\n",
       "      <td>1</td>\n",
       "      <td>34</td>\n",
       "      <td>3</td>\n",
       "      <td>1.0</td>\n",
       "      <td>323</td>\n",
       "      <td>2019/7/29</td>\n",
       "    </tr>\n",
       "    <tr>\n",
       "      <th>3</th>\n",
       "      <td>0</td>\n",
       "      <td>44</td>\n",
       "      <td>3</td>\n",
       "      <td>13.0</td>\n",
       "      <td>0</td>\n",
       "      <td>2019/8/5</td>\n",
       "    </tr>\n",
       "    <tr>\n",
       "      <th>4</th>\n",
       "      <td>0</td>\n",
       "      <td>46</td>\n",
       "      <td>1</td>\n",
       "      <td>13.0</td>\n",
       "      <td>2</td>\n",
       "      <td>2020/7/12</td>\n",
       "    </tr>\n",
       "  </tbody>\n",
       "</table>\n",
       "</div>"
      ],
      "text/plain": [
       "   post_id  periods  WKD_TYP_CD  bizCount  amount        date\n",
       "0        0       37           3      13.0     -52    2018/1/4\n",
       "1        0       23           3      13.0     870  2019/12/25\n",
       "2        1       34           3       1.0     323   2019/7/29\n",
       "3        0       44           3      13.0       0    2019/8/5\n",
       "4        0       46           1      13.0       2   2020/7/12"
      ]
     },
     "execution_count": 65,
     "metadata": {},
     "output_type": "execute_result"
    }
   ],
   "source": [
    "xgbDayDf = repairDate(xgbDayDf)\n",
    "xgbDayDf.head()"
   ]
  },
  {
   "cell_type": "code",
   "execution_count": 67,
   "metadata": {},
   "outputs": [],
   "source": [
    "xgbDayDf = get_jobDayAmount(xgbDayDf)"
   ]
  },
  {
   "cell_type": "code",
   "execution_count": 68,
   "metadata": {},
   "outputs": [
    {
     "name": "stdout",
     "output_type": "stream",
     "text": [
      "MAPE is: 0.6016117001247102\n",
      "- - - - - - \n",
      "0.6016117001247102\n"
     ]
    }
   ],
   "source": [
    "MAPE1 = calMAPE(valDayDf['amount'], xgbDayDf['amount'])\n",
    "print(MAPE1)\n"
   ]
  },
  {
   "cell_type": "code",
   "execution_count": null,
   "metadata": {},
   "outputs": [],
   "source": []
  }
 ],
 "metadata": {
  "kernelspec": {
   "display_name": "Python 3",
   "language": "python",
   "name": "python3"
  },
  "language_info": {
   "codemirror_mode": {
    "name": "ipython",
    "version": 3
   },
   "file_extension": ".py",
   "mimetype": "text/x-python",
   "name": "python",
   "nbconvert_exporter": "python",
   "pygments_lexer": "ipython3",
   "version": "3.7.3"
  }
 },
 "nbformat": 4,
 "nbformat_minor": 2
}
