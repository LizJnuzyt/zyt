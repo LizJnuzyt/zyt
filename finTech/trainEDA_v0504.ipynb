{
 "cells": [
  {
   "cell_type": "code",
   "execution_count": 1,
   "metadata": {},
   "outputs": [],
   "source": [
    "import os\n",
    "import pandas as pd\n",
    "import numpy as np\n",
    "pd.set_option('display.max_columns', None)\n",
    "\n",
    "import warnings\n",
    "warnings.filterwarnings('ignore')\n",
    "\n",
    "train_path = 'C:/Users/zhang/mine/finTech/data/A/训练数据集'\n",
    "test_path = 'C:/Users/zhang/mine/finTech/data/A/评分数据集'\n",
    "\n",
    "train_tag_DF = pd.read_csv(train_path + '/训练数据集_tag.csv')\n",
    "train_trd_DF = pd.read_csv(train_path + '/训练数据集_trd.csv')\n",
    "train_beh_DF = pd.read_csv(train_path + '/训练数据集_beh.csv')\n",
    "\n",
    "# 0: 违约\n",
    "# 1: 诚信"
   ]
  },
  {
   "cell_type": "code",
   "execution_count": 2,
   "metadata": {},
   "outputs": [
    {
     "name": "stdout",
     "output_type": "stream",
     "text": [
      "<class 'pandas.core.frame.DataFrame'>\n",
      "RangeIndex: 39923 entries, 0 to 39922\n",
      "Data columns (total 40 columns):\n",
      " #   Column                           Non-Null Count  Dtype \n",
      "---  ------                           --------------  ----- \n",
      " 0   id                               39923 non-null  object\n",
      " 1   flag                             39923 non-null  int64 \n",
      " 2   gdr_cd                           39923 non-null  object\n",
      " 3   age                              39923 non-null  int64 \n",
      " 4   mrg_situ_cd                      39923 non-null  object\n",
      " 5   acdm_deg_cd                      39922 non-null  object\n",
      " 6   job_year                         39923 non-null  object\n",
      " 7   ic_ind                           39923 non-null  object\n",
      " 8   fr_or_sh_ind                     39923 non-null  object\n",
      " 9   dnl_mbl_bnk_ind                  39923 non-null  object\n",
      " 10  dnl_bind_cmb_lif_ind             39923 non-null  object\n",
      " 11  hav_car_grp_ind                  39923 non-null  object\n",
      " 12  hav_hou_grp_ind                  39923 non-null  object\n",
      " 13  l6mon_agn_ind                    39923 non-null  object\n",
      " 14  frs_agn_dt_cnt                   39923 non-null  object\n",
      " 15  vld_rsk_ases_ind                 39923 non-null  object\n",
      " 16  fin_rsk_ases_grd_cd              39923 non-null  object\n",
      " 17  confirm_rsk_ases_lvl_typ_cd      39923 non-null  object\n",
      " 18  cust_inv_rsk_endu_lvl_cd         39923 non-null  object\n",
      " 19  l6mon_daim_aum_cd                39923 non-null  int64 \n",
      " 20  tot_ast_lvl_cd                   39923 non-null  object\n",
      " 21  pot_ast_lvl_cd                   39923 non-null  object\n",
      " 22  bk1_cur_year_mon_avg_agn_amt_cd  39923 non-null  int64 \n",
      " 23  l12mon_buy_fin_mng_whl_tms       39923 non-null  object\n",
      " 24  l12_mon_fnd_buy_whl_tms          39923 non-null  object\n",
      " 25  l12_mon_insu_buy_whl_tms         39923 non-null  object\n",
      " 26  l12_mon_gld_buy_whl_tms          39923 non-null  object\n",
      " 27  loan_act_ind                     39923 non-null  object\n",
      " 28  pl_crd_lmt_cd                    39923 non-null  int64 \n",
      " 29  ovd_30d_loan_tot_cnt             39923 non-null  object\n",
      " 30  his_lng_ovd_day                  39923 non-null  object\n",
      " 31  hld_crd_card_grd_cd              39923 non-null  object\n",
      " 32  crd_card_act_ind                 39923 non-null  object\n",
      " 33  l1y_crd_card_csm_amt_dlm_cd      39923 non-null  object\n",
      " 34  perm_crd_lmt_cd                  39923 non-null  int64 \n",
      " 35  cur_debit_cnt                    39923 non-null  int64 \n",
      " 36  cur_credit_cnt                   39923 non-null  int64 \n",
      " 37  cur_debit_min_opn_dt_cnt         39923 non-null  int64 \n",
      " 38  cur_credit_min_opn_dt_cnt        39923 non-null  int64 \n",
      " 39  cur_debit_crd_lvl                39923 non-null  int64 \n",
      "dtypes: int64(11), object(29)\n",
      "memory usage: 12.2+ MB\n"
     ]
    }
   ],
   "source": [
    "train_tag_DF.drop(['edu_deg_cd', 'deg_cd', 'atdd_type'], axis = 1, inplace = True)\n",
    "train_tag_DF.info()"
   ]
  },
  {
   "cell_type": "code",
   "execution_count": null,
   "metadata": {},
   "outputs": [],
   "source": [
    "'''\n",
    "for col in colname[1:]:\n",
    "    print('col: ')\n",
    "    print(train_tag_DF[col].value_counts().index.tolist())\n",
    "'''"
   ]
  },
  {
   "cell_type": "code",
   "execution_count": 3,
   "metadata": {},
   "outputs": [],
   "source": [
    "train_tag_DF.loc[train_tag_DF['cur_debit_min_opn_dt_cnt'] == -1, 'cur_debit_min_opn_dt_cnt'] = 0\n",
    "train_tag_DF.loc[train_tag_DF['cur_credit_min_opn_dt_cnt'] == -1, 'cur_debit_min_opn_dt_cnt'] = 0    \n",
    "train_tag_DF.loc[train_tag_DF['job_year'] == '\\\\N', 'job_year'] = '0'\n",
    "\n",
    "strColName = ['gdr_cd', 'mrg_situ_cd', 'acdm_deg_cd']\n",
    "colname = train_tag_DF.columns.values.tolist()\n",
    "for col in colname[1:]:\n",
    "    if col in strColName:\n",
    "        train_tag_DF[col] = train_tag_DF[col].fillna('Unknown1')\n",
    "        train_tag_DF.loc[train_tag_DF[col] == '\\\\N', col] = 'Unknown2'\n",
    "        train_tag_DF.loc[train_tag_DF[col] == '~', col] = 'Unknown3'\n",
    "    if (not np.issubdtype(train_tag_DF[col], np.int64)) and col.split('_')[-1] == 'ind':\n",
    "        train_tag_DF.loc[train_tag_DF[col] == '\\\\N', col] = '2'\n",
    "    if (not np.issubdtype(train_tag_DF[col], np.int64)) and (col.split('_')[-1] in ['cnt', 'tms', 'day']):\n",
    "        train_tag_DF.loc[train_tag_DF[col] == '\\\\N', col] = np.nan\n",
    "        train_tag_DF[col] = train_tag_DF[col].astype(np.float64)\n",
    "        train_tag_DF[col] = train_tag_DF[col].fillna(0) # train_tag_DF[col].mean()\n",
    "    if (not np.issubdtype(train_tag_DF[col], np.int64)) and (col.split('_')[-1] == 'cd'):\n",
    "        if ('0' in train_tag_DF[col].value_counts().index.tolist()) and ('-1' in train_tag_DF[col].value_counts().index.tolist()):\n",
    "            train_tag_DF.loc[train_tag_DF[col] == '\\\\N', col] = '-2'\n",
    "        elif ('0' in train_tag_DF[col].value_counts().index.tolist()):\n",
    "            train_tag_DF.loc[train_tag_DF[col] == '\\\\N', col] = '-1'\n",
    "        else:\n",
    "            train_tag_DF.loc[train_tag_DF[col] == '\\\\N', col] = '0'\n",
    "            \n",
    "for col in colname[1:]:\n",
    "    if (not np.issubdtype(train_tag_DF[col], np.int64)) and (col not in strColName):\n",
    "        train_tag_DF[col] = train_tag_DF[col].astype(np.int64)"
   ]
  },
  {
   "cell_type": "code",
   "execution_count": 4,
   "metadata": {},
   "outputs": [
    {
     "data": {
      "text/plain": [
       "0    34251\n",
       "1     5179\n",
       "2      493\n",
       "Name: fr_or_sh_ind, dtype: int64"
      ]
     },
     "execution_count": 4,
     "metadata": {},
     "output_type": "execute_result"
    }
   ],
   "source": [
    "train_tag_DF.fr_or_sh_ind.value_counts()"
   ]
  },
  {
   "cell_type": "code",
   "execution_count": null,
   "metadata": {},
   "outputs": [],
   "source": [
    "train_tag_DF['I12_mon_whl_tms'] = train_tag_DF[['l12mon_buy_fin_mng_whl_tms',\n",
    "                                                'l12_mon_fnd_buy_whl_tms',\n",
    "                                                'l12_mon_insu_buy_whl_tms',\n",
    "                                                'l12_mon_gld_buy_whl_tms']].apply(lambda x: x.fillna(0).astype(np.int).sum(), axis = 1).astype(np.int64)\n",
    "# 理财产品、基金、保险、黄金购买次数总和\n",
    "\n",
    "train_tag_DF['ic_fr_sh_ind'] = train_tag_DF[['ic_ind', 'fr_or_sh_ind']].apply(lambda x: 4 if ((x[0] == 1) & (x[1] == 1)) else (3 if (x[1] == 1) else (2 if (x[0] == 1) else (1 if ((x[0] == 0) & (x[1] == 0)) else 0))), axis = 1)\n",
    "# 0: no, 1: ic, 2: fr or sh, 3: both\n",
    "\n",
    "train_tag_DF['hav_car_hou_ind'] = train_tag_DF[['hav_car_grp_ind',\n",
    "                                                'hav_hou_grp_ind']].apply(lambda x: 4 if ((x[0] == 1) & (x[1] == 1)) else (3 if (x[1] == 1) else (2 if (x[0] == 1) else (1 if ((x[0] == 0) & (x[1] == 0)) else 0))), axis = 1)\n",
    "# 0: no, 1: Car, 2: House, 3: both\n",
    "\n",
    "#train_tag_DF['cur_credit_card'] = train_tag_DF[[ 'cur_credit_cnt', 'cur_credit_min_opn_dt_cnt', 'crd_card_act_ind']].apply(lambda x: x[0] * x[1] * (x[2] + 0.1), axis = 1)\n",
    "# 信用卡张数、持有天数、活跃标志合并"
   ]
  },
  {
   "cell_type": "code",
   "execution_count": null,
   "metadata": {},
   "outputs": [],
   "source": [
    "train_tag_DF.drop(['l12mon_buy_fin_mng_whl_tms', 'l12_mon_fnd_buy_whl_tms', 'l12_mon_insu_buy_whl_tms',\n",
    "                   'dnl_mbl_bnk_ind', 'dnl_bind_cmb_lif_ind',\n",
    "                   #'l12_mon_gld_buy_whl_tms',  'cur_debit_cnt', 'cur_debit_min_opn_dt_cnt', 'frs_agn_dt_cnt', \n",
    "                  #'cur_credit_cnt', 'cur_credit_min_opn_dt_cnt', 'crd_card_act_ind',\n",
    "                  #'hav_car_grp_ind', 'hav_hou_grp_ind', 'ic_ind', 'fr_or_sh_ind',\n",
    "                  ],\n",
    "                  axis = 1, inplace = True)\n",
    "train_tag_DF.info()"
   ]
  },
  {
   "cell_type": "code",
   "execution_count": null,
   "metadata": {},
   "outputs": [],
   "source": [
    "tag_id_list = train_tag_DF.id.unique().tolist()\n",
    "trd_id_list = train_trd_DF.id.unique().tolist()\n",
    "beh_id_list = train_beh_DF.id.unique().tolist()\n",
    "\n",
    "print('tag id个数: ', len(tag_id_list))\n",
    "print('trd id个数: ', len(trd_id_list))\n",
    "print('beh id个数: ', len(beh_id_list))\n",
    "\n",
    "print('trd shape: {}, beh shape: {}'.format(train_trd_DF.shape[0], train_beh_DF.shape[0]))\n",
    "print('trd里的id是否在tag用户标签: ', np.sum(train_trd_DF.id.isin(train_tag_DF.id)))\n",
    "print('beh里的id是否在tag用户标签', np.sum(train_beh_DF.id.isin(train_tag_DF.id)))"
   ]
  },
  {
   "cell_type": "code",
   "execution_count": null,
   "metadata": {},
   "outputs": [],
   "source": []
  },
  {
   "cell_type": "markdown",
   "metadata": {},
   "source": [
    "# 跟trx表合并"
   ]
  },
  {
   "cell_type": "code",
   "execution_count": 4,
   "metadata": {},
   "outputs": [
    {
     "name": "stdout",
     "output_type": "stream",
     "text": [
      "(30102, 2)\n",
      "(29193, 2)\n"
     ]
    },
    {
     "data": {
      "text/html": [
       "<div>\n",
       "<style scoped>\n",
       "    .dataframe tbody tr th:only-of-type {\n",
       "        vertical-align: middle;\n",
       "    }\n",
       "\n",
       "    .dataframe tbody tr th {\n",
       "        vertical-align: top;\n",
       "    }\n",
       "\n",
       "    .dataframe thead th {\n",
       "        text-align: right;\n",
       "    }\n",
       "</style>\n",
       "<table border=\"1\" class=\"dataframe\">\n",
       "  <thead>\n",
       "    <tr style=\"text-align: right;\">\n",
       "      <th></th>\n",
       "      <th>id</th>\n",
       "      <th>flag</th>\n",
       "      <th>gdr_cd</th>\n",
       "      <th>age</th>\n",
       "      <th>mrg_situ_cd</th>\n",
       "      <th>acdm_deg_cd</th>\n",
       "      <th>job_year</th>\n",
       "      <th>ic_ind</th>\n",
       "      <th>fr_or_sh_ind</th>\n",
       "      <th>dnl_mbl_bnk_ind</th>\n",
       "      <th>dnl_bind_cmb_lif_ind</th>\n",
       "      <th>hav_car_grp_ind</th>\n",
       "      <th>hav_hou_grp_ind</th>\n",
       "      <th>l6mon_agn_ind</th>\n",
       "      <th>frs_agn_dt_cnt</th>\n",
       "      <th>vld_rsk_ases_ind</th>\n",
       "      <th>fin_rsk_ases_grd_cd</th>\n",
       "      <th>confirm_rsk_ases_lvl_typ_cd</th>\n",
       "      <th>cust_inv_rsk_endu_lvl_cd</th>\n",
       "      <th>l6mon_daim_aum_cd</th>\n",
       "      <th>tot_ast_lvl_cd</th>\n",
       "      <th>pot_ast_lvl_cd</th>\n",
       "      <th>bk1_cur_year_mon_avg_agn_amt_cd</th>\n",
       "      <th>l12mon_buy_fin_mng_whl_tms</th>\n",
       "      <th>l12_mon_fnd_buy_whl_tms</th>\n",
       "      <th>l12_mon_insu_buy_whl_tms</th>\n",
       "      <th>l12_mon_gld_buy_whl_tms</th>\n",
       "      <th>loan_act_ind</th>\n",
       "      <th>pl_crd_lmt_cd</th>\n",
       "      <th>ovd_30d_loan_tot_cnt</th>\n",
       "      <th>his_lng_ovd_day</th>\n",
       "      <th>hld_crd_card_grd_cd</th>\n",
       "      <th>crd_card_act_ind</th>\n",
       "      <th>l1y_crd_card_csm_amt_dlm_cd</th>\n",
       "      <th>perm_crd_lmt_cd</th>\n",
       "      <th>cur_debit_cnt</th>\n",
       "      <th>cur_credit_cnt</th>\n",
       "      <th>cur_debit_min_opn_dt_cnt</th>\n",
       "      <th>cur_credit_min_opn_dt_cnt</th>\n",
       "      <th>cur_debit_crd_lvl</th>\n",
       "      <th>cny_trx_income</th>\n",
       "      <th>cny_trx_pay</th>\n",
       "    </tr>\n",
       "  </thead>\n",
       "  <tbody>\n",
       "    <tr>\n",
       "      <th>0</th>\n",
       "      <td>U7A4BAD</td>\n",
       "      <td>0</td>\n",
       "      <td>M</td>\n",
       "      <td>41</td>\n",
       "      <td>B</td>\n",
       "      <td>Z</td>\n",
       "      <td>3</td>\n",
       "      <td>0</td>\n",
       "      <td>0</td>\n",
       "      <td>0</td>\n",
       "      <td>1</td>\n",
       "      <td>0</td>\n",
       "      <td>0</td>\n",
       "      <td>0</td>\n",
       "      <td>-1</td>\n",
       "      <td>0</td>\n",
       "      <td>-1</td>\n",
       "      <td>4</td>\n",
       "      <td>1</td>\n",
       "      <td>0</td>\n",
       "      <td>-1</td>\n",
       "      <td>6</td>\n",
       "      <td>0</td>\n",
       "      <td>0</td>\n",
       "      <td>0</td>\n",
       "      <td>0</td>\n",
       "      <td>0</td>\n",
       "      <td>0</td>\n",
       "      <td>0</td>\n",
       "      <td>0</td>\n",
       "      <td>0</td>\n",
       "      <td>-1</td>\n",
       "      <td>0</td>\n",
       "      <td>0</td>\n",
       "      <td>3</td>\n",
       "      <td>1</td>\n",
       "      <td>0</td>\n",
       "      <td>0</td>\n",
       "      <td>-1</td>\n",
       "      <td>10</td>\n",
       "      <td>17400.00</td>\n",
       "      <td>15000.00</td>\n",
       "    </tr>\n",
       "    <tr>\n",
       "      <th>1</th>\n",
       "      <td>U557810</td>\n",
       "      <td>0</td>\n",
       "      <td>M</td>\n",
       "      <td>35</td>\n",
       "      <td>A</td>\n",
       "      <td>G</td>\n",
       "      <td>4</td>\n",
       "      <td>0</td>\n",
       "      <td>0</td>\n",
       "      <td>0</td>\n",
       "      <td>0</td>\n",
       "      <td>0</td>\n",
       "      <td>0</td>\n",
       "      <td>0</td>\n",
       "      <td>-1</td>\n",
       "      <td>0</td>\n",
       "      <td>-1</td>\n",
       "      <td>-1</td>\n",
       "      <td>1</td>\n",
       "      <td>0</td>\n",
       "      <td>-1</td>\n",
       "      <td>-1</td>\n",
       "      <td>0</td>\n",
       "      <td>0</td>\n",
       "      <td>0</td>\n",
       "      <td>0</td>\n",
       "      <td>0</td>\n",
       "      <td>0</td>\n",
       "      <td>0</td>\n",
       "      <td>0</td>\n",
       "      <td>0</td>\n",
       "      <td>-1</td>\n",
       "      <td>0</td>\n",
       "      <td>0</td>\n",
       "      <td>1</td>\n",
       "      <td>1</td>\n",
       "      <td>0</td>\n",
       "      <td>0</td>\n",
       "      <td>-1</td>\n",
       "      <td>10</td>\n",
       "      <td>0.00</td>\n",
       "      <td>0.00</td>\n",
       "    </tr>\n",
       "    <tr>\n",
       "      <th>2</th>\n",
       "      <td>U1E9240</td>\n",
       "      <td>0</td>\n",
       "      <td>M</td>\n",
       "      <td>53</td>\n",
       "      <td>B</td>\n",
       "      <td>C</td>\n",
       "      <td>9</td>\n",
       "      <td>0</td>\n",
       "      <td>0</td>\n",
       "      <td>1</td>\n",
       "      <td>1</td>\n",
       "      <td>0</td>\n",
       "      <td>0</td>\n",
       "      <td>1</td>\n",
       "      <td>935</td>\n",
       "      <td>1</td>\n",
       "      <td>3</td>\n",
       "      <td>3</td>\n",
       "      <td>6</td>\n",
       "      <td>7</td>\n",
       "      <td>-1</td>\n",
       "      <td>2</td>\n",
       "      <td>8</td>\n",
       "      <td>6</td>\n",
       "      <td>0</td>\n",
       "      <td>0</td>\n",
       "      <td>0</td>\n",
       "      <td>0</td>\n",
       "      <td>0</td>\n",
       "      <td>0</td>\n",
       "      <td>0</td>\n",
       "      <td>-1</td>\n",
       "      <td>0</td>\n",
       "      <td>0</td>\n",
       "      <td>7</td>\n",
       "      <td>2</td>\n",
       "      <td>0</td>\n",
       "      <td>0</td>\n",
       "      <td>-1</td>\n",
       "      <td>40</td>\n",
       "      <td>105718.04</td>\n",
       "      <td>131158.00</td>\n",
       "    </tr>\n",
       "    <tr>\n",
       "      <th>3</th>\n",
       "      <td>U6DED00</td>\n",
       "      <td>0</td>\n",
       "      <td>F</td>\n",
       "      <td>41</td>\n",
       "      <td>B</td>\n",
       "      <td>Z</td>\n",
       "      <td>0</td>\n",
       "      <td>0</td>\n",
       "      <td>0</td>\n",
       "      <td>0</td>\n",
       "      <td>0</td>\n",
       "      <td>0</td>\n",
       "      <td>0</td>\n",
       "      <td>0</td>\n",
       "      <td>-1</td>\n",
       "      <td>0</td>\n",
       "      <td>-1</td>\n",
       "      <td>-1</td>\n",
       "      <td>1</td>\n",
       "      <td>0</td>\n",
       "      <td>-1</td>\n",
       "      <td>6</td>\n",
       "      <td>0</td>\n",
       "      <td>0</td>\n",
       "      <td>0</td>\n",
       "      <td>0</td>\n",
       "      <td>0</td>\n",
       "      <td>0</td>\n",
       "      <td>0</td>\n",
       "      <td>0</td>\n",
       "      <td>0</td>\n",
       "      <td>-1</td>\n",
       "      <td>0</td>\n",
       "      <td>0</td>\n",
       "      <td>1</td>\n",
       "      <td>1</td>\n",
       "      <td>0</td>\n",
       "      <td>0</td>\n",
       "      <td>-1</td>\n",
       "      <td>10</td>\n",
       "      <td>0.00</td>\n",
       "      <td>0.00</td>\n",
       "    </tr>\n",
       "    <tr>\n",
       "      <th>4</th>\n",
       "      <td>UDA8E28</td>\n",
       "      <td>0</td>\n",
       "      <td>F</td>\n",
       "      <td>42</td>\n",
       "      <td>B</td>\n",
       "      <td>Z</td>\n",
       "      <td>3</td>\n",
       "      <td>1</td>\n",
       "      <td>1</td>\n",
       "      <td>1</td>\n",
       "      <td>0</td>\n",
       "      <td>0</td>\n",
       "      <td>1</td>\n",
       "      <td>0</td>\n",
       "      <td>-1</td>\n",
       "      <td>0</td>\n",
       "      <td>-1</td>\n",
       "      <td>-1</td>\n",
       "      <td>1</td>\n",
       "      <td>5</td>\n",
       "      <td>-1</td>\n",
       "      <td>3</td>\n",
       "      <td>0</td>\n",
       "      <td>0</td>\n",
       "      <td>0</td>\n",
       "      <td>0</td>\n",
       "      <td>0</td>\n",
       "      <td>1</td>\n",
       "      <td>6</td>\n",
       "      <td>0</td>\n",
       "      <td>4</td>\n",
       "      <td>-1</td>\n",
       "      <td>0</td>\n",
       "      <td>0</td>\n",
       "      <td>2</td>\n",
       "      <td>7</td>\n",
       "      <td>0</td>\n",
       "      <td>0</td>\n",
       "      <td>-1</td>\n",
       "      <td>20</td>\n",
       "      <td>79505.55</td>\n",
       "      <td>70416.04</td>\n",
       "    </tr>\n",
       "  </tbody>\n",
       "</table>\n",
       "</div>"
      ],
      "text/plain": [
       "        id  flag gdr_cd  age mrg_situ_cd acdm_deg_cd  job_year  ic_ind  \\\n",
       "0  U7A4BAD     0      M   41           B           Z         3       0   \n",
       "1  U557810     0      M   35           A           G         4       0   \n",
       "2  U1E9240     0      M   53           B           C         9       0   \n",
       "3  U6DED00     0      F   41           B           Z         0       0   \n",
       "4  UDA8E28     0      F   42           B           Z         3       1   \n",
       "\n",
       "   fr_or_sh_ind  dnl_mbl_bnk_ind  dnl_bind_cmb_lif_ind  hav_car_grp_ind  \\\n",
       "0             0                0                     1                0   \n",
       "1             0                0                     0                0   \n",
       "2             0                1                     1                0   \n",
       "3             0                0                     0                0   \n",
       "4             1                1                     0                0   \n",
       "\n",
       "   hav_hou_grp_ind  l6mon_agn_ind  frs_agn_dt_cnt  vld_rsk_ases_ind  \\\n",
       "0                0              0              -1                 0   \n",
       "1                0              0              -1                 0   \n",
       "2                0              1             935                 1   \n",
       "3                0              0              -1                 0   \n",
       "4                1              0              -1                 0   \n",
       "\n",
       "   fin_rsk_ases_grd_cd  confirm_rsk_ases_lvl_typ_cd  cust_inv_rsk_endu_lvl_cd  \\\n",
       "0                   -1                            4                         1   \n",
       "1                   -1                           -1                         1   \n",
       "2                    3                            3                         6   \n",
       "3                   -1                           -1                         1   \n",
       "4                   -1                           -1                         1   \n",
       "\n",
       "   l6mon_daim_aum_cd  tot_ast_lvl_cd  pot_ast_lvl_cd  \\\n",
       "0                  0              -1               6   \n",
       "1                  0              -1              -1   \n",
       "2                  7              -1               2   \n",
       "3                  0              -1               6   \n",
       "4                  5              -1               3   \n",
       "\n",
       "   bk1_cur_year_mon_avg_agn_amt_cd  l12mon_buy_fin_mng_whl_tms  \\\n",
       "0                                0                           0   \n",
       "1                                0                           0   \n",
       "2                                8                           6   \n",
       "3                                0                           0   \n",
       "4                                0                           0   \n",
       "\n",
       "   l12_mon_fnd_buy_whl_tms  l12_mon_insu_buy_whl_tms  l12_mon_gld_buy_whl_tms  \\\n",
       "0                        0                         0                        0   \n",
       "1                        0                         0                        0   \n",
       "2                        0                         0                        0   \n",
       "3                        0                         0                        0   \n",
       "4                        0                         0                        0   \n",
       "\n",
       "   loan_act_ind  pl_crd_lmt_cd  ovd_30d_loan_tot_cnt  his_lng_ovd_day  \\\n",
       "0             0              0                     0                0   \n",
       "1             0              0                     0                0   \n",
       "2             0              0                     0                0   \n",
       "3             0              0                     0                0   \n",
       "4             1              6                     0                4   \n",
       "\n",
       "   hld_crd_card_grd_cd  crd_card_act_ind  l1y_crd_card_csm_amt_dlm_cd  \\\n",
       "0                   -1                 0                            0   \n",
       "1                   -1                 0                            0   \n",
       "2                   -1                 0                            0   \n",
       "3                   -1                 0                            0   \n",
       "4                   -1                 0                            0   \n",
       "\n",
       "   perm_crd_lmt_cd  cur_debit_cnt  cur_credit_cnt  cur_debit_min_opn_dt_cnt  \\\n",
       "0                3              1               0                         0   \n",
       "1                1              1               0                         0   \n",
       "2                7              2               0                         0   \n",
       "3                1              1               0                         0   \n",
       "4                2              7               0                         0   \n",
       "\n",
       "   cur_credit_min_opn_dt_cnt  cur_debit_crd_lvl  cny_trx_income  cny_trx_pay  \n",
       "0                         -1                 10        17400.00     15000.00  \n",
       "1                         -1                 10            0.00         0.00  \n",
       "2                         -1                 40       105718.04    131158.00  \n",
       "3                         -1                 10            0.00         0.00  \n",
       "4                         -1                 20        79505.55     70416.04  "
      ]
     },
     "execution_count": 4,
     "metadata": {},
     "output_type": "execute_result"
    }
   ],
   "source": [
    "id_pay = train_trd_DF.groupby(['id', 'Dat_Flg1_Cd'])['cny_trx_amt'].sum().reset_index()\n",
    "\n",
    "id_income = id_pay[id_pay['Dat_Flg1_Cd'] == 'C']\n",
    "id_pay = id_pay[id_pay['Dat_Flg1_Cd'] == 'B']\n",
    "\n",
    "id_income.reset_index(drop = True, inplace = True)\n",
    "id_pay.reset_index(drop = True, inplace = True)\n",
    "\n",
    "id_income.drop(['Dat_Flg1_Cd'], axis = 1, inplace = True)\n",
    "id_pay.drop(['Dat_Flg1_Cd'], axis = 1, inplace = True)\n",
    "\n",
    "id_income.rename(columns = {'cny_trx_amt': 'cny_trx_income'}, inplace = True)\n",
    "id_pay.rename(columns = {'cny_trx_amt': 'cny_trx_pay'}, inplace = True)\n",
    "\n",
    "id_income['cny_trx_income'] = id_income['cny_trx_income'].abs()\n",
    "id_pay['cny_trx_pay'] = id_pay['cny_trx_pay'].abs()\n",
    "\n",
    "print(id_income.shape)\n",
    "print(id_pay.shape)\n",
    "\n",
    "train_DF = pd.merge(train_tag_DF, id_income, on = 'id', how = 'left')\n",
    "train_DF = pd.merge(train_DF, id_pay, on = 'id', how = 'left')\n",
    "\n",
    "train_DF['cny_trx_income'] = train_DF['cny_trx_income'].fillna(0)\n",
    "train_DF['cny_trx_pay'] = train_DF['cny_trx_pay'].fillna(0)\n",
    "# train_DF['actual_income'] = train_DF[['cny_trx_income', 'cny_trx_pay']].apply(lambda x: x[0] - x[1], axis = 1)\n",
    "\n",
    "train_DF.head()"
   ]
  },
  {
   "cell_type": "markdown",
   "metadata": {},
   "source": [
    "# 结合app行为表beh"
   ]
  },
  {
   "cell_type": "code",
   "execution_count": 5,
   "metadata": {},
   "outputs": [
    {
     "data": {
      "text/html": [
       "<div>\n",
       "<style scoped>\n",
       "    .dataframe tbody tr th:only-of-type {\n",
       "        vertical-align: middle;\n",
       "    }\n",
       "\n",
       "    .dataframe tbody tr th {\n",
       "        vertical-align: top;\n",
       "    }\n",
       "\n",
       "    .dataframe thead th {\n",
       "        text-align: right;\n",
       "    }\n",
       "</style>\n",
       "<table border=\"1\" class=\"dataframe\">\n",
       "  <thead>\n",
       "    <tr style=\"text-align: right;\">\n",
       "      <th></th>\n",
       "      <th>id</th>\n",
       "      <th>flag</th>\n",
       "      <th>gdr_cd</th>\n",
       "      <th>age</th>\n",
       "      <th>mrg_situ_cd</th>\n",
       "      <th>acdm_deg_cd</th>\n",
       "      <th>job_year</th>\n",
       "      <th>ic_ind</th>\n",
       "      <th>fr_or_sh_ind</th>\n",
       "      <th>dnl_mbl_bnk_ind</th>\n",
       "      <th>dnl_bind_cmb_lif_ind</th>\n",
       "      <th>hav_car_grp_ind</th>\n",
       "      <th>hav_hou_grp_ind</th>\n",
       "      <th>l6mon_agn_ind</th>\n",
       "      <th>frs_agn_dt_cnt</th>\n",
       "      <th>vld_rsk_ases_ind</th>\n",
       "      <th>fin_rsk_ases_grd_cd</th>\n",
       "      <th>confirm_rsk_ases_lvl_typ_cd</th>\n",
       "      <th>cust_inv_rsk_endu_lvl_cd</th>\n",
       "      <th>l6mon_daim_aum_cd</th>\n",
       "      <th>tot_ast_lvl_cd</th>\n",
       "      <th>pot_ast_lvl_cd</th>\n",
       "      <th>bk1_cur_year_mon_avg_agn_amt_cd</th>\n",
       "      <th>l12mon_buy_fin_mng_whl_tms</th>\n",
       "      <th>l12_mon_fnd_buy_whl_tms</th>\n",
       "      <th>l12_mon_insu_buy_whl_tms</th>\n",
       "      <th>l12_mon_gld_buy_whl_tms</th>\n",
       "      <th>loan_act_ind</th>\n",
       "      <th>pl_crd_lmt_cd</th>\n",
       "      <th>ovd_30d_loan_tot_cnt</th>\n",
       "      <th>his_lng_ovd_day</th>\n",
       "      <th>hld_crd_card_grd_cd</th>\n",
       "      <th>crd_card_act_ind</th>\n",
       "      <th>l1y_crd_card_csm_amt_dlm_cd</th>\n",
       "      <th>perm_crd_lmt_cd</th>\n",
       "      <th>cur_debit_cnt</th>\n",
       "      <th>cur_credit_cnt</th>\n",
       "      <th>cur_debit_min_opn_dt_cnt</th>\n",
       "      <th>cur_credit_min_opn_dt_cnt</th>\n",
       "      <th>cur_debit_crd_lvl</th>\n",
       "      <th>cny_trx_income</th>\n",
       "      <th>cny_trx_pay</th>\n",
       "      <th>page_type_count</th>\n",
       "      <th>most_tms_page_no</th>\n",
       "      <th>total_page_no_tms</th>\n",
       "    </tr>\n",
       "  </thead>\n",
       "  <tbody>\n",
       "    <tr>\n",
       "      <th>0</th>\n",
       "      <td>U7A4BAD</td>\n",
       "      <td>0</td>\n",
       "      <td>M</td>\n",
       "      <td>41</td>\n",
       "      <td>B</td>\n",
       "      <td>Z</td>\n",
       "      <td>3</td>\n",
       "      <td>0</td>\n",
       "      <td>0</td>\n",
       "      <td>0</td>\n",
       "      <td>1</td>\n",
       "      <td>0</td>\n",
       "      <td>0</td>\n",
       "      <td>0</td>\n",
       "      <td>-1</td>\n",
       "      <td>0</td>\n",
       "      <td>-1</td>\n",
       "      <td>4</td>\n",
       "      <td>1</td>\n",
       "      <td>0</td>\n",
       "      <td>-1</td>\n",
       "      <td>6</td>\n",
       "      <td>0</td>\n",
       "      <td>0</td>\n",
       "      <td>0</td>\n",
       "      <td>0</td>\n",
       "      <td>0</td>\n",
       "      <td>0</td>\n",
       "      <td>0</td>\n",
       "      <td>0</td>\n",
       "      <td>0</td>\n",
       "      <td>-1</td>\n",
       "      <td>0</td>\n",
       "      <td>0</td>\n",
       "      <td>3</td>\n",
       "      <td>1</td>\n",
       "      <td>0</td>\n",
       "      <td>0</td>\n",
       "      <td>-1</td>\n",
       "      <td>10</td>\n",
       "      <td>17400.00</td>\n",
       "      <td>15000.00</td>\n",
       "      <td>NaN</td>\n",
       "      <td>NaN</td>\n",
       "      <td>NaN</td>\n",
       "    </tr>\n",
       "    <tr>\n",
       "      <th>1</th>\n",
       "      <td>U557810</td>\n",
       "      <td>0</td>\n",
       "      <td>M</td>\n",
       "      <td>35</td>\n",
       "      <td>A</td>\n",
       "      <td>G</td>\n",
       "      <td>4</td>\n",
       "      <td>0</td>\n",
       "      <td>0</td>\n",
       "      <td>0</td>\n",
       "      <td>0</td>\n",
       "      <td>0</td>\n",
       "      <td>0</td>\n",
       "      <td>0</td>\n",
       "      <td>-1</td>\n",
       "      <td>0</td>\n",
       "      <td>-1</td>\n",
       "      <td>-1</td>\n",
       "      <td>1</td>\n",
       "      <td>0</td>\n",
       "      <td>-1</td>\n",
       "      <td>-1</td>\n",
       "      <td>0</td>\n",
       "      <td>0</td>\n",
       "      <td>0</td>\n",
       "      <td>0</td>\n",
       "      <td>0</td>\n",
       "      <td>0</td>\n",
       "      <td>0</td>\n",
       "      <td>0</td>\n",
       "      <td>0</td>\n",
       "      <td>-1</td>\n",
       "      <td>0</td>\n",
       "      <td>0</td>\n",
       "      <td>1</td>\n",
       "      <td>1</td>\n",
       "      <td>0</td>\n",
       "      <td>0</td>\n",
       "      <td>-1</td>\n",
       "      <td>10</td>\n",
       "      <td>0.00</td>\n",
       "      <td>0.00</td>\n",
       "      <td>NaN</td>\n",
       "      <td>NaN</td>\n",
       "      <td>NaN</td>\n",
       "    </tr>\n",
       "    <tr>\n",
       "      <th>2</th>\n",
       "      <td>U1E9240</td>\n",
       "      <td>0</td>\n",
       "      <td>M</td>\n",
       "      <td>53</td>\n",
       "      <td>B</td>\n",
       "      <td>C</td>\n",
       "      <td>9</td>\n",
       "      <td>0</td>\n",
       "      <td>0</td>\n",
       "      <td>1</td>\n",
       "      <td>1</td>\n",
       "      <td>0</td>\n",
       "      <td>0</td>\n",
       "      <td>1</td>\n",
       "      <td>935</td>\n",
       "      <td>1</td>\n",
       "      <td>3</td>\n",
       "      <td>3</td>\n",
       "      <td>6</td>\n",
       "      <td>7</td>\n",
       "      <td>-1</td>\n",
       "      <td>2</td>\n",
       "      <td>8</td>\n",
       "      <td>6</td>\n",
       "      <td>0</td>\n",
       "      <td>0</td>\n",
       "      <td>0</td>\n",
       "      <td>0</td>\n",
       "      <td>0</td>\n",
       "      <td>0</td>\n",
       "      <td>0</td>\n",
       "      <td>-1</td>\n",
       "      <td>0</td>\n",
       "      <td>0</td>\n",
       "      <td>7</td>\n",
       "      <td>2</td>\n",
       "      <td>0</td>\n",
       "      <td>0</td>\n",
       "      <td>-1</td>\n",
       "      <td>40</td>\n",
       "      <td>105718.04</td>\n",
       "      <td>131158.00</td>\n",
       "      <td>6.0</td>\n",
       "      <td>CQA</td>\n",
       "      <td>35.0</td>\n",
       "    </tr>\n",
       "    <tr>\n",
       "      <th>3</th>\n",
       "      <td>U6DED00</td>\n",
       "      <td>0</td>\n",
       "      <td>F</td>\n",
       "      <td>41</td>\n",
       "      <td>B</td>\n",
       "      <td>Z</td>\n",
       "      <td>0</td>\n",
       "      <td>0</td>\n",
       "      <td>0</td>\n",
       "      <td>0</td>\n",
       "      <td>0</td>\n",
       "      <td>0</td>\n",
       "      <td>0</td>\n",
       "      <td>0</td>\n",
       "      <td>-1</td>\n",
       "      <td>0</td>\n",
       "      <td>-1</td>\n",
       "      <td>-1</td>\n",
       "      <td>1</td>\n",
       "      <td>0</td>\n",
       "      <td>-1</td>\n",
       "      <td>6</td>\n",
       "      <td>0</td>\n",
       "      <td>0</td>\n",
       "      <td>0</td>\n",
       "      <td>0</td>\n",
       "      <td>0</td>\n",
       "      <td>0</td>\n",
       "      <td>0</td>\n",
       "      <td>0</td>\n",
       "      <td>0</td>\n",
       "      <td>-1</td>\n",
       "      <td>0</td>\n",
       "      <td>0</td>\n",
       "      <td>1</td>\n",
       "      <td>1</td>\n",
       "      <td>0</td>\n",
       "      <td>0</td>\n",
       "      <td>-1</td>\n",
       "      <td>10</td>\n",
       "      <td>0.00</td>\n",
       "      <td>0.00</td>\n",
       "      <td>NaN</td>\n",
       "      <td>NaN</td>\n",
       "      <td>NaN</td>\n",
       "    </tr>\n",
       "    <tr>\n",
       "      <th>4</th>\n",
       "      <td>UDA8E28</td>\n",
       "      <td>0</td>\n",
       "      <td>F</td>\n",
       "      <td>42</td>\n",
       "      <td>B</td>\n",
       "      <td>Z</td>\n",
       "      <td>3</td>\n",
       "      <td>1</td>\n",
       "      <td>1</td>\n",
       "      <td>1</td>\n",
       "      <td>0</td>\n",
       "      <td>0</td>\n",
       "      <td>1</td>\n",
       "      <td>0</td>\n",
       "      <td>-1</td>\n",
       "      <td>0</td>\n",
       "      <td>-1</td>\n",
       "      <td>-1</td>\n",
       "      <td>1</td>\n",
       "      <td>5</td>\n",
       "      <td>-1</td>\n",
       "      <td>3</td>\n",
       "      <td>0</td>\n",
       "      <td>0</td>\n",
       "      <td>0</td>\n",
       "      <td>0</td>\n",
       "      <td>0</td>\n",
       "      <td>1</td>\n",
       "      <td>6</td>\n",
       "      <td>0</td>\n",
       "      <td>4</td>\n",
       "      <td>-1</td>\n",
       "      <td>0</td>\n",
       "      <td>0</td>\n",
       "      <td>2</td>\n",
       "      <td>7</td>\n",
       "      <td>0</td>\n",
       "      <td>0</td>\n",
       "      <td>-1</td>\n",
       "      <td>20</td>\n",
       "      <td>79505.55</td>\n",
       "      <td>70416.04</td>\n",
       "      <td>7.0</td>\n",
       "      <td>CQA</td>\n",
       "      <td>22.0</td>\n",
       "    </tr>\n",
       "  </tbody>\n",
       "</table>\n",
       "</div>"
      ],
      "text/plain": [
       "        id  flag gdr_cd  age mrg_situ_cd acdm_deg_cd  job_year  ic_ind  \\\n",
       "0  U7A4BAD     0      M   41           B           Z         3       0   \n",
       "1  U557810     0      M   35           A           G         4       0   \n",
       "2  U1E9240     0      M   53           B           C         9       0   \n",
       "3  U6DED00     0      F   41           B           Z         0       0   \n",
       "4  UDA8E28     0      F   42           B           Z         3       1   \n",
       "\n",
       "   fr_or_sh_ind  dnl_mbl_bnk_ind  dnl_bind_cmb_lif_ind  hav_car_grp_ind  \\\n",
       "0             0                0                     1                0   \n",
       "1             0                0                     0                0   \n",
       "2             0                1                     1                0   \n",
       "3             0                0                     0                0   \n",
       "4             1                1                     0                0   \n",
       "\n",
       "   hav_hou_grp_ind  l6mon_agn_ind  frs_agn_dt_cnt  vld_rsk_ases_ind  \\\n",
       "0                0              0              -1                 0   \n",
       "1                0              0              -1                 0   \n",
       "2                0              1             935                 1   \n",
       "3                0              0              -1                 0   \n",
       "4                1              0              -1                 0   \n",
       "\n",
       "   fin_rsk_ases_grd_cd  confirm_rsk_ases_lvl_typ_cd  cust_inv_rsk_endu_lvl_cd  \\\n",
       "0                   -1                            4                         1   \n",
       "1                   -1                           -1                         1   \n",
       "2                    3                            3                         6   \n",
       "3                   -1                           -1                         1   \n",
       "4                   -1                           -1                         1   \n",
       "\n",
       "   l6mon_daim_aum_cd  tot_ast_lvl_cd  pot_ast_lvl_cd  \\\n",
       "0                  0              -1               6   \n",
       "1                  0              -1              -1   \n",
       "2                  7              -1               2   \n",
       "3                  0              -1               6   \n",
       "4                  5              -1               3   \n",
       "\n",
       "   bk1_cur_year_mon_avg_agn_amt_cd  l12mon_buy_fin_mng_whl_tms  \\\n",
       "0                                0                           0   \n",
       "1                                0                           0   \n",
       "2                                8                           6   \n",
       "3                                0                           0   \n",
       "4                                0                           0   \n",
       "\n",
       "   l12_mon_fnd_buy_whl_tms  l12_mon_insu_buy_whl_tms  l12_mon_gld_buy_whl_tms  \\\n",
       "0                        0                         0                        0   \n",
       "1                        0                         0                        0   \n",
       "2                        0                         0                        0   \n",
       "3                        0                         0                        0   \n",
       "4                        0                         0                        0   \n",
       "\n",
       "   loan_act_ind  pl_crd_lmt_cd  ovd_30d_loan_tot_cnt  his_lng_ovd_day  \\\n",
       "0             0              0                     0                0   \n",
       "1             0              0                     0                0   \n",
       "2             0              0                     0                0   \n",
       "3             0              0                     0                0   \n",
       "4             1              6                     0                4   \n",
       "\n",
       "   hld_crd_card_grd_cd  crd_card_act_ind  l1y_crd_card_csm_amt_dlm_cd  \\\n",
       "0                   -1                 0                            0   \n",
       "1                   -1                 0                            0   \n",
       "2                   -1                 0                            0   \n",
       "3                   -1                 0                            0   \n",
       "4                   -1                 0                            0   \n",
       "\n",
       "   perm_crd_lmt_cd  cur_debit_cnt  cur_credit_cnt  cur_debit_min_opn_dt_cnt  \\\n",
       "0                3              1               0                         0   \n",
       "1                1              1               0                         0   \n",
       "2                7              2               0                         0   \n",
       "3                1              1               0                         0   \n",
       "4                2              7               0                         0   \n",
       "\n",
       "   cur_credit_min_opn_dt_cnt  cur_debit_crd_lvl  cny_trx_income  cny_trx_pay  \\\n",
       "0                         -1                 10        17400.00     15000.00   \n",
       "1                         -1                 10            0.00         0.00   \n",
       "2                         -1                 40       105718.04    131158.00   \n",
       "3                         -1                 10            0.00         0.00   \n",
       "4                         -1                 20        79505.55     70416.04   \n",
       "\n",
       "   page_type_count most_tms_page_no  total_page_no_tms  \n",
       "0              NaN              NaN                NaN  \n",
       "1              NaN              NaN                NaN  \n",
       "2              6.0              CQA               35.0  \n",
       "3              NaN              NaN                NaN  \n",
       "4              7.0              CQA               22.0  "
      ]
     },
     "execution_count": 5,
     "metadata": {},
     "output_type": "execute_result"
    }
   ],
   "source": [
    "id_beh = train_beh_DF.groupby(['id', 'page_no']).count()\n",
    "id_beh.drop(['Unnamed: 3', 'page_tm'], axis = 1, inplace = True)\n",
    "id_beh.rename(columns = {'flag': 'page_tms'}, inplace = True)\n",
    "id_beh = id_beh.reset_index()\n",
    "id_beh.sort_values(['id', 'page_tms'], inplace = True)\n",
    "\n",
    "id_beh_class_count = id_beh.groupby(['id']).count()\n",
    "id_beh_class_count = id_beh_class_count.reset_index()\n",
    "id_beh_class_count.head(10)\n",
    "\n",
    "id_beh_class_count.drop(['page_tms'], axis = 1, inplace = True)\n",
    "id_beh_class_count.rename(columns = {'page_no': 'page_type_count'}, inplace = True)\n",
    "id_beh_class_count.head(10)\n",
    "\n",
    "id_beh.drop_duplicates('id', keep = 'last', inplace = True)\n",
    "id_beh.drop(['page_tms'], axis = 1, inplace = True)\n",
    "id_beh.rename(columns = {'page_no': 'most_tms_page_no'}, inplace = True)\n",
    "\n",
    "beh_count = train_beh_DF.groupby(['id']).count()\n",
    "beh_count.drop(['page_no', 'Unnamed: 3', 'page_tm'], axis = 1, inplace = True)\n",
    "beh_count.rename(columns = {'flag': 'total_page_no_tms'}, inplace = True)\n",
    "beh_count = beh_count.reset_index()\n",
    "\n",
    "train_DF = pd.merge(train_DF, id_beh_class_count, on = 'id', how = 'left')\n",
    "train_DF = pd.merge(train_DF, id_beh, on = 'id', how = 'left')\n",
    "train_DF = pd.merge(train_DF, beh_count, on = 'id', how = 'left')\n",
    "train_DF.head()"
   ]
  },
  {
   "cell_type": "code",
   "execution_count": 6,
   "metadata": {},
   "outputs": [
    {
     "name": "stdout",
     "output_type": "stream",
     "text": [
      "<class 'pandas.core.frame.DataFrame'>\n",
      "Int64Index: 39923 entries, 0 to 39922\n",
      "Data columns (total 45 columns):\n",
      " #   Column                           Non-Null Count  Dtype  \n",
      "---  ------                           --------------  -----  \n",
      " 0   id                               39923 non-null  object \n",
      " 1   flag                             39923 non-null  int64  \n",
      " 2   gdr_cd                           39923 non-null  object \n",
      " 3   age                              39923 non-null  int64  \n",
      " 4   mrg_situ_cd                      39923 non-null  object \n",
      " 5   acdm_deg_cd                      39923 non-null  object \n",
      " 6   job_year                         39923 non-null  int64  \n",
      " 7   ic_ind                           39923 non-null  int64  \n",
      " 8   fr_or_sh_ind                     39923 non-null  int64  \n",
      " 9   dnl_mbl_bnk_ind                  39923 non-null  int64  \n",
      " 10  dnl_bind_cmb_lif_ind             39923 non-null  int64  \n",
      " 11  hav_car_grp_ind                  39923 non-null  int64  \n",
      " 12  hav_hou_grp_ind                  39923 non-null  int64  \n",
      " 13  l6mon_agn_ind                    39923 non-null  int64  \n",
      " 14  frs_agn_dt_cnt                   39923 non-null  int64  \n",
      " 15  vld_rsk_ases_ind                 39923 non-null  int64  \n",
      " 16  fin_rsk_ases_grd_cd              39923 non-null  int64  \n",
      " 17  confirm_rsk_ases_lvl_typ_cd      39923 non-null  int64  \n",
      " 18  cust_inv_rsk_endu_lvl_cd         39923 non-null  int64  \n",
      " 19  l6mon_daim_aum_cd                39923 non-null  int64  \n",
      " 20  tot_ast_lvl_cd                   39923 non-null  int64  \n",
      " 21  pot_ast_lvl_cd                   39923 non-null  int64  \n",
      " 22  bk1_cur_year_mon_avg_agn_amt_cd  39923 non-null  int64  \n",
      " 23  l12mon_buy_fin_mng_whl_tms       39923 non-null  int64  \n",
      " 24  l12_mon_fnd_buy_whl_tms          39923 non-null  int64  \n",
      " 25  l12_mon_insu_buy_whl_tms         39923 non-null  int64  \n",
      " 26  l12_mon_gld_buy_whl_tms          39923 non-null  int64  \n",
      " 27  loan_act_ind                     39923 non-null  int64  \n",
      " 28  pl_crd_lmt_cd                    39923 non-null  int64  \n",
      " 29  ovd_30d_loan_tot_cnt             39923 non-null  int64  \n",
      " 30  his_lng_ovd_day                  39923 non-null  int64  \n",
      " 31  hld_crd_card_grd_cd              39923 non-null  int64  \n",
      " 32  crd_card_act_ind                 39923 non-null  int64  \n",
      " 33  l1y_crd_card_csm_amt_dlm_cd      39923 non-null  int64  \n",
      " 34  perm_crd_lmt_cd                  39923 non-null  int64  \n",
      " 35  cur_debit_cnt                    39923 non-null  int64  \n",
      " 36  cur_credit_cnt                   39923 non-null  int64  \n",
      " 37  cur_debit_min_opn_dt_cnt         39923 non-null  int64  \n",
      " 38  cur_credit_min_opn_dt_cnt        39923 non-null  int64  \n",
      " 39  cur_debit_crd_lvl                39923 non-null  int64  \n",
      " 40  cny_trx_income                   39923 non-null  float64\n",
      " 41  cny_trx_pay                      39923 non-null  float64\n",
      " 42  page_type_count                  39923 non-null  int64  \n",
      " 43  most_tms_page_no                 39923 non-null  object \n",
      " 44  total_page_no_tms                39923 non-null  int64  \n",
      "dtypes: float64(2), int64(38), object(5)\n",
      "memory usage: 14.0+ MB\n"
     ]
    }
   ],
   "source": [
    "train_DF[['total_page_no_tms', 'page_type_count']] = train_DF[['total_page_no_tms', 'page_type_count']].fillna(0)\n",
    "train_DF[['total_page_no_tms', 'page_type_count']] = train_DF[['total_page_no_tms', 'page_type_count']].astype(np.int64)\n",
    "\n",
    "train_DF['most_tms_page_no'] = train_DF['most_tms_page_no'].fillna('Undo')\n",
    "train_DF.info()"
   ]
  },
  {
   "cell_type": "markdown",
   "metadata": {},
   "source": [
    "# 尝试预测"
   ]
  },
  {
   "cell_type": "code",
   "execution_count": 7,
   "metadata": {},
   "outputs": [
    {
     "name": "stdout",
     "output_type": "stream",
     "text": [
      "<class 'pandas.core.frame.DataFrame'>\n",
      "Int64Index: 39923 entries, 0 to 39922\n",
      "Data columns (total 43 columns):\n",
      " #   Column                           Non-Null Count  Dtype  \n",
      "---  ------                           --------------  -----  \n",
      " 0   flag                             39923 non-null  int64  \n",
      " 1   gdr_cd                           39923 non-null  object \n",
      " 2   age                              39923 non-null  int64  \n",
      " 3   mrg_situ_cd                      39923 non-null  object \n",
      " 4   acdm_deg_cd                      39923 non-null  object \n",
      " 5   job_year                         39923 non-null  int64  \n",
      " 6   ic_ind                           39923 non-null  int64  \n",
      " 7   fr_or_sh_ind                     39923 non-null  int64  \n",
      " 8   dnl_mbl_bnk_ind                  39923 non-null  int64  \n",
      " 9   dnl_bind_cmb_lif_ind             39923 non-null  int64  \n",
      " 10  hav_car_grp_ind                  39923 non-null  int64  \n",
      " 11  hav_hou_grp_ind                  39923 non-null  int64  \n",
      " 12  l6mon_agn_ind                    39923 non-null  int64  \n",
      " 13  frs_agn_dt_cnt                   39923 non-null  int64  \n",
      " 14  vld_rsk_ases_ind                 39923 non-null  int64  \n",
      " 15  fin_rsk_ases_grd_cd              39923 non-null  int64  \n",
      " 16  confirm_rsk_ases_lvl_typ_cd      39923 non-null  int64  \n",
      " 17  cust_inv_rsk_endu_lvl_cd         39923 non-null  int64  \n",
      " 18  l6mon_daim_aum_cd                39923 non-null  int64  \n",
      " 19  tot_ast_lvl_cd                   39923 non-null  int64  \n",
      " 20  pot_ast_lvl_cd                   39923 non-null  int64  \n",
      " 21  bk1_cur_year_mon_avg_agn_amt_cd  39923 non-null  int64  \n",
      " 22  l12mon_buy_fin_mng_whl_tms       39923 non-null  int64  \n",
      " 23  l12_mon_fnd_buy_whl_tms          39923 non-null  int64  \n",
      " 24  l12_mon_insu_buy_whl_tms         39923 non-null  int64  \n",
      " 25  l12_mon_gld_buy_whl_tms          39923 non-null  int64  \n",
      " 26  loan_act_ind                     39923 non-null  int64  \n",
      " 27  pl_crd_lmt_cd                    39923 non-null  int64  \n",
      " 28  ovd_30d_loan_tot_cnt             39923 non-null  int64  \n",
      " 29  his_lng_ovd_day                  39923 non-null  int64  \n",
      " 30  hld_crd_card_grd_cd              39923 non-null  int64  \n",
      " 31  crd_card_act_ind                 39923 non-null  int64  \n",
      " 32  l1y_crd_card_csm_amt_dlm_cd      39923 non-null  int64  \n",
      " 33  perm_crd_lmt_cd                  39923 non-null  int64  \n",
      " 34  cur_debit_cnt                    39923 non-null  int64  \n",
      " 35  cur_credit_cnt                   39923 non-null  int64  \n",
      " 36  cur_debit_min_opn_dt_cnt         39923 non-null  int64  \n",
      " 37  cur_credit_min_opn_dt_cnt        39923 non-null  int64  \n",
      " 38  cur_debit_crd_lvl                39923 non-null  int64  \n",
      " 39  cny_trx_income                   39923 non-null  float64\n",
      " 40  cny_trx_pay                      39923 non-null  float64\n",
      " 41  most_tms_page_no                 39923 non-null  object \n",
      " 42  total_page_no_tms                39923 non-null  int64  \n",
      "dtypes: float64(2), int64(37), object(4)\n",
      "memory usage: 13.4+ MB\n"
     ]
    }
   ],
   "source": [
    "#train_DF_weneed = train_DF.drop(['id', 'cny_trx_pay', 'cny_trx_income'], axis = 1)\n",
    "train_DF_weneed = train_DF.drop(['id', 'page_type_count'], axis = 1)\n",
    "#train_DF_weneed = train_DF.drop(['id'], axis = 1)\n",
    "train_DF_weneed.info()"
   ]
  },
  {
   "cell_type": "code",
   "execution_count": 8,
   "metadata": {},
   "outputs": [
    {
     "data": {
      "text/plain": [
       "['gdr_cd', 'mrg_situ_cd', 'acdm_deg_cd', 'most_tms_page_no']"
      ]
     },
     "execution_count": 8,
     "metadata": {},
     "output_type": "execute_result"
    }
   ],
   "source": [
    "if (not np.issubdtype(train_DF_weneed.iloc[:, -2], np.int64)) and (not np.issubdtype(train_DF_weneed.iloc[:, -2], np.float64)):\n",
    "    strCol2 = strColName + [train_DF_weneed.columns.values.tolist()[-2]]\n",
    "elif (not np.issubdtype(train_DF_weneed.iloc[:, -1], np.int64)) and (not np.issubdtype(train_DF_weneed.iloc[:, -1], np.float64)):\n",
    "    strCol2 = strColName + [train_DF_weneed.columns.values.tolist()[-1]]\n",
    "else:\n",
    "    strCol2 = strColName.copy()\n",
    "\n",
    "strCol2"
   ]
  },
  {
   "cell_type": "code",
   "execution_count": 9,
   "metadata": {},
   "outputs": [
    {
     "data": {
      "text/html": [
       "<div>\n",
       "<style scoped>\n",
       "    .dataframe tbody tr th:only-of-type {\n",
       "        vertical-align: middle;\n",
       "    }\n",
       "\n",
       "    .dataframe tbody tr th {\n",
       "        vertical-align: top;\n",
       "    }\n",
       "\n",
       "    .dataframe thead th {\n",
       "        text-align: right;\n",
       "    }\n",
       "</style>\n",
       "<table border=\"1\" class=\"dataframe\">\n",
       "  <thead>\n",
       "    <tr style=\"text-align: right;\">\n",
       "      <th></th>\n",
       "      <th>flag</th>\n",
       "      <th>gdr_cd</th>\n",
       "      <th>age</th>\n",
       "      <th>mrg_situ_cd</th>\n",
       "      <th>acdm_deg_cd</th>\n",
       "      <th>job_year</th>\n",
       "      <th>ic_ind</th>\n",
       "      <th>fr_or_sh_ind</th>\n",
       "      <th>dnl_mbl_bnk_ind</th>\n",
       "      <th>dnl_bind_cmb_lif_ind</th>\n",
       "      <th>hav_car_grp_ind</th>\n",
       "      <th>hav_hou_grp_ind</th>\n",
       "      <th>l6mon_agn_ind</th>\n",
       "      <th>frs_agn_dt_cnt</th>\n",
       "      <th>vld_rsk_ases_ind</th>\n",
       "      <th>fin_rsk_ases_grd_cd</th>\n",
       "      <th>confirm_rsk_ases_lvl_typ_cd</th>\n",
       "      <th>cust_inv_rsk_endu_lvl_cd</th>\n",
       "      <th>l6mon_daim_aum_cd</th>\n",
       "      <th>tot_ast_lvl_cd</th>\n",
       "      <th>pot_ast_lvl_cd</th>\n",
       "      <th>bk1_cur_year_mon_avg_agn_amt_cd</th>\n",
       "      <th>l12mon_buy_fin_mng_whl_tms</th>\n",
       "      <th>l12_mon_fnd_buy_whl_tms</th>\n",
       "      <th>l12_mon_insu_buy_whl_tms</th>\n",
       "      <th>l12_mon_gld_buy_whl_tms</th>\n",
       "      <th>loan_act_ind</th>\n",
       "      <th>pl_crd_lmt_cd</th>\n",
       "      <th>ovd_30d_loan_tot_cnt</th>\n",
       "      <th>his_lng_ovd_day</th>\n",
       "      <th>hld_crd_card_grd_cd</th>\n",
       "      <th>crd_card_act_ind</th>\n",
       "      <th>l1y_crd_card_csm_amt_dlm_cd</th>\n",
       "      <th>perm_crd_lmt_cd</th>\n",
       "      <th>cur_debit_cnt</th>\n",
       "      <th>cur_credit_cnt</th>\n",
       "      <th>cur_debit_min_opn_dt_cnt</th>\n",
       "      <th>cur_credit_min_opn_dt_cnt</th>\n",
       "      <th>cur_debit_crd_lvl</th>\n",
       "      <th>cny_trx_income</th>\n",
       "      <th>cny_trx_pay</th>\n",
       "      <th>most_tms_page_no</th>\n",
       "      <th>total_page_no_tms</th>\n",
       "    </tr>\n",
       "  </thead>\n",
       "  <tbody>\n",
       "    <tr>\n",
       "      <th>0</th>\n",
       "      <td>0</td>\n",
       "      <td>1</td>\n",
       "      <td>41</td>\n",
       "      <td>1</td>\n",
       "      <td>8</td>\n",
       "      <td>3</td>\n",
       "      <td>0</td>\n",
       "      <td>0</td>\n",
       "      <td>0</td>\n",
       "      <td>1</td>\n",
       "      <td>0</td>\n",
       "      <td>0</td>\n",
       "      <td>0</td>\n",
       "      <td>-1</td>\n",
       "      <td>0</td>\n",
       "      <td>-1</td>\n",
       "      <td>4</td>\n",
       "      <td>1</td>\n",
       "      <td>0</td>\n",
       "      <td>-1</td>\n",
       "      <td>6</td>\n",
       "      <td>0</td>\n",
       "      <td>0</td>\n",
       "      <td>0</td>\n",
       "      <td>0</td>\n",
       "      <td>0</td>\n",
       "      <td>0</td>\n",
       "      <td>0</td>\n",
       "      <td>0</td>\n",
       "      <td>0</td>\n",
       "      <td>-1</td>\n",
       "      <td>0</td>\n",
       "      <td>0</td>\n",
       "      <td>3</td>\n",
       "      <td>1</td>\n",
       "      <td>0</td>\n",
       "      <td>0</td>\n",
       "      <td>-1</td>\n",
       "      <td>10</td>\n",
       "      <td>17400.00</td>\n",
       "      <td>15000.00</td>\n",
       "      <td>22</td>\n",
       "      <td>0</td>\n",
       "    </tr>\n",
       "    <tr>\n",
       "      <th>1</th>\n",
       "      <td>0</td>\n",
       "      <td>1</td>\n",
       "      <td>35</td>\n",
       "      <td>0</td>\n",
       "      <td>5</td>\n",
       "      <td>4</td>\n",
       "      <td>0</td>\n",
       "      <td>0</td>\n",
       "      <td>0</td>\n",
       "      <td>0</td>\n",
       "      <td>0</td>\n",
       "      <td>0</td>\n",
       "      <td>0</td>\n",
       "      <td>-1</td>\n",
       "      <td>0</td>\n",
       "      <td>-1</td>\n",
       "      <td>-1</td>\n",
       "      <td>1</td>\n",
       "      <td>0</td>\n",
       "      <td>-1</td>\n",
       "      <td>-1</td>\n",
       "      <td>0</td>\n",
       "      <td>0</td>\n",
       "      <td>0</td>\n",
       "      <td>0</td>\n",
       "      <td>0</td>\n",
       "      <td>0</td>\n",
       "      <td>0</td>\n",
       "      <td>0</td>\n",
       "      <td>0</td>\n",
       "      <td>-1</td>\n",
       "      <td>0</td>\n",
       "      <td>0</td>\n",
       "      <td>1</td>\n",
       "      <td>1</td>\n",
       "      <td>0</td>\n",
       "      <td>0</td>\n",
       "      <td>-1</td>\n",
       "      <td>10</td>\n",
       "      <td>0.00</td>\n",
       "      <td>0.00</td>\n",
       "      <td>22</td>\n",
       "      <td>0</td>\n",
       "    </tr>\n",
       "    <tr>\n",
       "      <th>2</th>\n",
       "      <td>0</td>\n",
       "      <td>1</td>\n",
       "      <td>53</td>\n",
       "      <td>1</td>\n",
       "      <td>2</td>\n",
       "      <td>9</td>\n",
       "      <td>0</td>\n",
       "      <td>0</td>\n",
       "      <td>1</td>\n",
       "      <td>1</td>\n",
       "      <td>0</td>\n",
       "      <td>0</td>\n",
       "      <td>1</td>\n",
       "      <td>935</td>\n",
       "      <td>1</td>\n",
       "      <td>3</td>\n",
       "      <td>3</td>\n",
       "      <td>6</td>\n",
       "      <td>7</td>\n",
       "      <td>-1</td>\n",
       "      <td>2</td>\n",
       "      <td>8</td>\n",
       "      <td>6</td>\n",
       "      <td>0</td>\n",
       "      <td>0</td>\n",
       "      <td>0</td>\n",
       "      <td>0</td>\n",
       "      <td>0</td>\n",
       "      <td>0</td>\n",
       "      <td>0</td>\n",
       "      <td>-1</td>\n",
       "      <td>0</td>\n",
       "      <td>0</td>\n",
       "      <td>7</td>\n",
       "      <td>2</td>\n",
       "      <td>0</td>\n",
       "      <td>0</td>\n",
       "      <td>-1</td>\n",
       "      <td>40</td>\n",
       "      <td>105718.04</td>\n",
       "      <td>131158.00</td>\n",
       "      <td>2</td>\n",
       "      <td>35</td>\n",
       "    </tr>\n",
       "    <tr>\n",
       "      <th>3</th>\n",
       "      <td>0</td>\n",
       "      <td>0</td>\n",
       "      <td>41</td>\n",
       "      <td>1</td>\n",
       "      <td>8</td>\n",
       "      <td>0</td>\n",
       "      <td>0</td>\n",
       "      <td>0</td>\n",
       "      <td>0</td>\n",
       "      <td>0</td>\n",
       "      <td>0</td>\n",
       "      <td>0</td>\n",
       "      <td>0</td>\n",
       "      <td>-1</td>\n",
       "      <td>0</td>\n",
       "      <td>-1</td>\n",
       "      <td>-1</td>\n",
       "      <td>1</td>\n",
       "      <td>0</td>\n",
       "      <td>-1</td>\n",
       "      <td>6</td>\n",
       "      <td>0</td>\n",
       "      <td>0</td>\n",
       "      <td>0</td>\n",
       "      <td>0</td>\n",
       "      <td>0</td>\n",
       "      <td>0</td>\n",
       "      <td>0</td>\n",
       "      <td>0</td>\n",
       "      <td>0</td>\n",
       "      <td>-1</td>\n",
       "      <td>0</td>\n",
       "      <td>0</td>\n",
       "      <td>1</td>\n",
       "      <td>1</td>\n",
       "      <td>0</td>\n",
       "      <td>0</td>\n",
       "      <td>-1</td>\n",
       "      <td>10</td>\n",
       "      <td>0.00</td>\n",
       "      <td>0.00</td>\n",
       "      <td>22</td>\n",
       "      <td>0</td>\n",
       "    </tr>\n",
       "    <tr>\n",
       "      <th>4</th>\n",
       "      <td>0</td>\n",
       "      <td>0</td>\n",
       "      <td>42</td>\n",
       "      <td>1</td>\n",
       "      <td>8</td>\n",
       "      <td>3</td>\n",
       "      <td>1</td>\n",
       "      <td>1</td>\n",
       "      <td>1</td>\n",
       "      <td>0</td>\n",
       "      <td>0</td>\n",
       "      <td>1</td>\n",
       "      <td>0</td>\n",
       "      <td>-1</td>\n",
       "      <td>0</td>\n",
       "      <td>-1</td>\n",
       "      <td>-1</td>\n",
       "      <td>1</td>\n",
       "      <td>5</td>\n",
       "      <td>-1</td>\n",
       "      <td>3</td>\n",
       "      <td>0</td>\n",
       "      <td>0</td>\n",
       "      <td>0</td>\n",
       "      <td>0</td>\n",
       "      <td>0</td>\n",
       "      <td>1</td>\n",
       "      <td>6</td>\n",
       "      <td>0</td>\n",
       "      <td>4</td>\n",
       "      <td>-1</td>\n",
       "      <td>0</td>\n",
       "      <td>0</td>\n",
       "      <td>2</td>\n",
       "      <td>7</td>\n",
       "      <td>0</td>\n",
       "      <td>0</td>\n",
       "      <td>-1</td>\n",
       "      <td>20</td>\n",
       "      <td>79505.55</td>\n",
       "      <td>70416.04</td>\n",
       "      <td>2</td>\n",
       "      <td>22</td>\n",
       "    </tr>\n",
       "  </tbody>\n",
       "</table>\n",
       "</div>"
      ],
      "text/plain": [
       "   flag  gdr_cd  age  mrg_situ_cd  acdm_deg_cd  job_year  ic_ind  \\\n",
       "0     0       1   41            1            8         3       0   \n",
       "1     0       1   35            0            5         4       0   \n",
       "2     0       1   53            1            2         9       0   \n",
       "3     0       0   41            1            8         0       0   \n",
       "4     0       0   42            1            8         3       1   \n",
       "\n",
       "   fr_or_sh_ind  dnl_mbl_bnk_ind  dnl_bind_cmb_lif_ind  hav_car_grp_ind  \\\n",
       "0             0                0                     1                0   \n",
       "1             0                0                     0                0   \n",
       "2             0                1                     1                0   \n",
       "3             0                0                     0                0   \n",
       "4             1                1                     0                0   \n",
       "\n",
       "   hav_hou_grp_ind  l6mon_agn_ind  frs_agn_dt_cnt  vld_rsk_ases_ind  \\\n",
       "0                0              0              -1                 0   \n",
       "1                0              0              -1                 0   \n",
       "2                0              1             935                 1   \n",
       "3                0              0              -1                 0   \n",
       "4                1              0              -1                 0   \n",
       "\n",
       "   fin_rsk_ases_grd_cd  confirm_rsk_ases_lvl_typ_cd  cust_inv_rsk_endu_lvl_cd  \\\n",
       "0                   -1                            4                         1   \n",
       "1                   -1                           -1                         1   \n",
       "2                    3                            3                         6   \n",
       "3                   -1                           -1                         1   \n",
       "4                   -1                           -1                         1   \n",
       "\n",
       "   l6mon_daim_aum_cd  tot_ast_lvl_cd  pot_ast_lvl_cd  \\\n",
       "0                  0              -1               6   \n",
       "1                  0              -1              -1   \n",
       "2                  7              -1               2   \n",
       "3                  0              -1               6   \n",
       "4                  5              -1               3   \n",
       "\n",
       "   bk1_cur_year_mon_avg_agn_amt_cd  l12mon_buy_fin_mng_whl_tms  \\\n",
       "0                                0                           0   \n",
       "1                                0                           0   \n",
       "2                                8                           6   \n",
       "3                                0                           0   \n",
       "4                                0                           0   \n",
       "\n",
       "   l12_mon_fnd_buy_whl_tms  l12_mon_insu_buy_whl_tms  l12_mon_gld_buy_whl_tms  \\\n",
       "0                        0                         0                        0   \n",
       "1                        0                         0                        0   \n",
       "2                        0                         0                        0   \n",
       "3                        0                         0                        0   \n",
       "4                        0                         0                        0   \n",
       "\n",
       "   loan_act_ind  pl_crd_lmt_cd  ovd_30d_loan_tot_cnt  his_lng_ovd_day  \\\n",
       "0             0              0                     0                0   \n",
       "1             0              0                     0                0   \n",
       "2             0              0                     0                0   \n",
       "3             0              0                     0                0   \n",
       "4             1              6                     0                4   \n",
       "\n",
       "   hld_crd_card_grd_cd  crd_card_act_ind  l1y_crd_card_csm_amt_dlm_cd  \\\n",
       "0                   -1                 0                            0   \n",
       "1                   -1                 0                            0   \n",
       "2                   -1                 0                            0   \n",
       "3                   -1                 0                            0   \n",
       "4                   -1                 0                            0   \n",
       "\n",
       "   perm_crd_lmt_cd  cur_debit_cnt  cur_credit_cnt  cur_debit_min_opn_dt_cnt  \\\n",
       "0                3              1               0                         0   \n",
       "1                1              1               0                         0   \n",
       "2                7              2               0                         0   \n",
       "3                1              1               0                         0   \n",
       "4                2              7               0                         0   \n",
       "\n",
       "   cur_credit_min_opn_dt_cnt  cur_debit_crd_lvl  cny_trx_income  cny_trx_pay  \\\n",
       "0                         -1                 10        17400.00     15000.00   \n",
       "1                         -1                 10            0.00         0.00   \n",
       "2                         -1                 40       105718.04    131158.00   \n",
       "3                         -1                 10            0.00         0.00   \n",
       "4                         -1                 20        79505.55     70416.04   \n",
       "\n",
       "   most_tms_page_no  total_page_no_tms  \n",
       "0                22                  0  \n",
       "1                22                  0  \n",
       "2                 2                 35  \n",
       "3                22                  0  \n",
       "4                 2                 22  "
      ]
     },
     "execution_count": 9,
     "metadata": {},
     "output_type": "execute_result"
    }
   ],
   "source": [
    "from sklearn.preprocessing import LabelEncoder, OneHotEncoder\n",
    "encoderLabel = LabelEncoder()\n",
    "\n",
    "for sC in strCol2:\n",
    "    train_DF_weneed[sC] = encoderLabel.fit_transform(train_DF_weneed[sC])\n",
    "\n",
    "train_DF_weneed.head()"
   ]
  },
  {
   "cell_type": "code",
   "execution_count": null,
   "metadata": {},
   "outputs": [],
   "source": [
    "# 从数据初探可以发现，'未来两年可能违约'标签类别分布不均，需对样本进行重取样\n",
    "def resample(df):\n",
    "    '''\n",
    "    使样本'未来两年可能违约'标签的0，1项可以各占一半，以提高预测效果。sample()可以考虑添加random_state以便生成相同样本集\n",
    "    df：数据源\n",
    "    '''\n",
    "    num = df['flag'].value_counts()[1]\n",
    "    df_t = df[df.flag == 1]\n",
    "    df_f = df[df.flag == 0].sample(frac=1)[0:num]\n",
    "    df_balanced = pd.concat([df_t,df_f]).sample(frac=1).reset_index(drop=True)\n",
    "#     print(df_balanced.未来两年可能违约.value_counts())\n",
    "    return df_balanced\n",
    "\n",
    "df_balanced = resample(train_DF_weneed)\n",
    "df_balanced['flag'].value_counts()"
   ]
  },
  {
   "cell_type": "markdown",
   "metadata": {},
   "source": [
    "# 预测部分"
   ]
  },
  {
   "cell_type": "code",
   "execution_count": 10,
   "metadata": {},
   "outputs": [],
   "source": [
    "import xgboost as xgb\n",
    "from sklearn.linear_model import LinearRegression, LassoCV, LogisticRegression\n",
    "from sklearn.ensemble import RandomForestClassifier ,RandomForestRegressor\n",
    "from sklearn.model_selection import KFold,train_test_split, StratifiedKFold, GridSearchCV, cross_val_score\n",
    "from sklearn.metrics import mean_squared_error, mean_absolute_error, r2_score,accuracy_score\n",
    "from sklearn.metrics import roc_auc_score, precision_recall_curve, roc_curve, precision_score, recall_score\n",
    "from sklearn.metrics import classification_report, accuracy_score\n",
    "from sklearn.model_selection import train_test_split\n",
    "from sklearn.metrics import roc_auc_score\n",
    "from sklearn import model_selection\n",
    "import matplotlib.pyplot as plt\n",
    "\n",
    "import warnings\n",
    "warnings.filterwarnings('ignore')\n",
    "\n",
    "def perfomance_clf(model,X,y,name=None):\n",
    "    y_predict = model.predict(X)\n",
    "    y_predict_prob = model.predict_proba(X)[:, 1]\n",
    "    if name:\n",
    "        print(name,':')\n",
    "    print(f'accuracy score is: {accuracy_score(y,y_predict)}')\n",
    "    print(f'precision score is: {precision_score(y,y_predict)}')\n",
    "    print(f'recall score is: {recall_score(y,y_predict)}')\n",
    "    print(f'auc: {roc_auc_score(y,y_predict_prob)}')\n",
    "    print('- - - - - - ')\n",
    "    \n",
    "def plot_roc(y_test,prob):\n",
    "    fpr, tpr, thresholds = roc_curve(y_test, prob)\n",
    "    # plot no skill\n",
    "    plt.plot([0, 1], [0, 1], linestyle='--')\n",
    "    # plot the roc curve for the model\n",
    "    plt.plot(fpr, tpr)#, marker='.')\n",
    "    plt.title(\"ROC curve\")\n",
    "    plt.xlabel('false positive rate')\n",
    "    plt.ylabel('true positive rate')\n",
    "    # show the plot\n",
    "    plt.show()    "
   ]
  },
  {
   "cell_type": "markdown",
   "metadata": {},
   "source": [
    "## 原始预测"
   ]
  },
  {
   "cell_type": "code",
   "execution_count": 11,
   "metadata": {},
   "outputs": [],
   "source": [
    "df_x = train_DF_weneed.drop(['flag'], axis = 1)\n",
    "df_y = train_DF_weneed['flag']\n",
    "#xtrain, xtest, ytrain, ytest = train_test_split(df_x, df_y, test_size=0.2)    # random_state=42\n",
    "trainx, valx, trainy, valy = train_test_split(df_x, df_y, test_size=.2, random_state=2020)\n",
    "\n",
    "# 分层k折交叉拆分器 - 用于网格搜索\n",
    "cv = StratifiedKFold(n_splits=10, shuffle=True)"
   ]
  },
  {
   "cell_type": "code",
   "execution_count": null,
   "metadata": {},
   "outputs": [],
   "source": [
    "for col in colname[1:]:\n",
    "    if col.split('_')[-1] == 'cd':\n",
    "        print(col, ': ')\n",
    "        print(train_DF[col].value_counts().index.tolist)\n",
    "        "
   ]
  },
  {
   "cell_type": "code",
   "execution_count": 12,
   "metadata": {},
   "outputs": [
    {
     "name": "stdout",
     "output_type": "stream",
     "text": [
      "roc  0.7425465811632959\n",
      "accuracy score is: 0.808140262993112\n",
      "precision score is: 0.6565809379727685\n",
      "recall score is: 0.24956871765382405\n",
      "auc: 0.7425465811632959\n",
      "- - - - - - \n"
     ]
    },
    {
     "data": {
      "image/png": "[encoded data removed]",
      "text/plain": [
       "<Figure size 432x288 with 1 Axes>"
      ]
     },
     "metadata": {
      "needs_background": "light"
     },
     "output_type": "display_data"
    }
   ],
   "source": [
    "####### 不加变量不删变量，合并trx、beh（最高访问名字，访问次数）\n",
    "################# XGBoost\n",
    "xgb_cfl = xgb.XGBClassifier(n_jobs = -1,\n",
    "                            n_estimators = 50,\n",
    "                            class_weight = 'balanced',\n",
    "                            max_depth = 3)\n",
    "\n",
    "xgb_cfl.fit(trainx, trainy)\n",
    "y_scorexgb = xgb_cfl.predict_proba(valx)[:,1]\n",
    "\n",
    "rocxgb=roc_auc_score(valy, y_scorexgb)\n",
    "print('roc ',rocxgb)\n",
    "perfomance_clf(xgb_cfl, valx, valy)\n",
    "\n",
    "plot_roc(valy, y_scorexgb)"
   ]
  },
  {
   "cell_type": "code",
   "execution_count": 14,
   "metadata": {},
   "outputs": [
    {
     "name": "stdout",
     "output_type": "stream",
     "text": [
      "roc  0.7378748851248699\n",
      "accuracy score is: 0.7929868503443958\n",
      "precision score is: 0.5272151898734178\n",
      "recall score is: 0.47901092581943644\n",
      "auc: 0.7378748851248699\n",
      "- - - - - - \n"
     ]
    },
    {
     "data": {
      "image/png": "[encoded data removed]",
      "text/plain": [
       "<Figure size 432x288 with 1 Axes>"
      ]
     },
     "metadata": {
      "needs_background": "light"
     },
     "output_type": "display_data"
    }
   ],
   "source": [
    "############ 随机森林\n",
    "model = RandomForestClassifier(n_estimators = 200,\n",
    "                               class_weight = 'balanced',\n",
    "                               min_samples_split = 5,\n",
    "                               min_samples_leaf = 4,\n",
    "                               max_features = 3)\n",
    "##(n_estimators=220, class_weight = 'balanced').fit(trainx, trainy)\n",
    "# {0: 1, 1:3}\n",
    "model.fit(trainx, trainy)\n",
    "predictionforest = model.predict_proba(valx)[:, 1]\n",
    "\n",
    "rocrf=roc_auc_score(valy, predictionforest)\n",
    "print('roc ',rocrf)\n",
    "perfomance_clf(model, valx, valy)\n",
    "plot_roc(valy, predictionforest)"
   ]
  },
  {
   "cell_type": "code",
   "execution_count": 15,
   "metadata": {},
   "outputs": [
    {
     "name": "stdout",
     "output_type": "stream",
     "text": [
      "roc  0.743228052382507\n",
      "accuracy score is: 0.8086412022542266\n",
      "precision score is: 0.6500711237553343\n",
      "recall score is: 0.26279470960322027\n",
      "auc: 0.743228052382507\n",
      "- - - - - - \n"
     ]
    },
    {
     "data": {
      "image/png": "[encoded data removed]",
      "text/plain": [
       "<Figure size 432x288 with 1 Axes>"
      ]
     },
     "metadata": {
      "needs_background": "light"
     },
     "output_type": "display_data"
    }
   ],
   "source": [
    "####### 不加变量不删变量，合并trx、beh（最高访问名字，访问次数）\n",
    "################# XGBoost\n",
    "xgb_cfl = xgb.XGBClassifier(n_jobs = -1,\n",
    "                            n_estimators = 100,\n",
    "                            class_weight = 'balanced',\n",
    "                            max_depth = 3)\n",
    "\n",
    "xgb_cfl.fit(trainx, trainy)\n",
    "y_scorexgb = xgb_cfl.predict_proba(valx)[:,1]\n",
    "\n",
    "rocxgb=roc_auc_score(valy, y_scorexgb)\n",
    "print('roc ',rocxgb)\n",
    "perfomance_clf(xgb_cfl, valx, valy)\n",
    "\n",
    "plot_roc(valy, y_scorexgb)"
   ]
  },
  {
   "cell_type": "code",
   "execution_count": 16,
   "metadata": {},
   "outputs": [
    {
     "name": "stdout",
     "output_type": "stream",
     "text": [
      "roc  0.7277904552415558\n",
      "accuracy score is: 0.7993738259236067\n",
      "precision score is: 0.6479481641468683\n",
      "recall score is: 0.1725129384703853\n",
      "auc: 0.7277904552415558\n",
      "- - - - - - \n"
     ]
    },
    {
     "data": {
      "image/png": "[encoded data removed]",
      "text/plain": [
       "<Figure size 432x288 with 1 Axes>"
      ]
     },
     "metadata": {
      "needs_background": "light"
     },
     "output_type": "display_data"
    }
   ],
   "source": [
    "from sklearn.ensemble import AdaBoostClassifier\n",
    "ada_cfl = AdaBoostClassifier(n_estimators = 200)\n",
    "ada_cfl.fit(trainx, trainy)\n",
    "\n",
    "y_score = ada_cfl.predict_proba(valx)[:,1]\n",
    "rocada = roc_auc_score(valy, y_score)\n",
    "print('roc ',rocada)\n",
    "perfomance_clf(ada_cfl, valx, valy)\n",
    "plot_roc(valy, y_score)\n",
    "# roc: 0.7270584398857132"
   ]
  },
  {
   "cell_type": "code",
   "execution_count": 17,
   "metadata": {},
   "outputs": [
    {
     "name": "stdout",
     "output_type": "stream",
     "text": [
      "roc  0.7263509140386939\n",
      "accuracy score is: 0.7983719474013776\n",
      "precision score is: 0.6405228758169934\n",
      "recall score is: 0.16906267970097758\n",
      "auc: 0.7263509140386939\n",
      "- - - - - - \n"
     ]
    },
    {
     "data": {
      "image/png": "[encoded data removed]",
      "text/plain": [
       "<Figure size 432x288 with 1 Axes>"
      ]
     },
     "metadata": {
      "needs_background": "light"
     },
     "output_type": "display_data"
    }
   ],
   "source": [
    "from sklearn.ensemble import AdaBoostClassifier\n",
    "ada_cfl = AdaBoostClassifier(n_estimators = 100)\n",
    "ada_cfl.fit(trainx, trainy)\n",
    "\n",
    "y_score = ada_cfl.predict_proba(valx)[:,1]\n",
    "rocada = roc_auc_score(valy, y_score)\n",
    "print('roc ',rocada)\n",
    "perfomance_clf(ada_cfl, valx, valy)\n",
    "plot_roc(valy, y_score)\n",
    "# roc: 0.7257069136092987"
   ]
  },
  {
   "cell_type": "code",
   "execution_count": 18,
   "metadata": {},
   "outputs": [
    {
     "name": "stdout",
     "output_type": "stream",
     "text": [
      "roc  0.7435025005998088\n",
      "accuracy score is: 0.8118973074514715\n",
      "precision score is: 0.6565389696169088\n",
      "recall score is: 0.28579643473260496\n",
      "auc: 0.7435025005998088\n",
      "- - - - - - \n"
     ]
    },
    {
     "data": {
      "image/png": "[encoded data removed]",
      "text/plain": [
       "<Figure size 432x288 with 1 Axes>"
      ]
     },
     "metadata": {
      "needs_background": "light"
     },
     "output_type": "display_data"
    }
   ],
   "source": [
    "from sklearn.ensemble import GradientBoostingClassifier\n",
    "GBDT = GradientBoostingClassifier(n_estimators=110,min_samples_split=12,min_samples_leaf=6,max_depth=6)\n",
    "GBDT.fit(trainx, trainy)\n",
    "#\n",
    "y_score = GBDT.predict_proba(valx)[:,1]\n",
    "rocada = roc_auc_score(valy, y_score)\n",
    "print('roc ',rocada)\n",
    "perfomance_clf(GBDT, valx, valy)\n",
    "plot_roc(valy, y_score)\n",
    "# auc: 0.7420885076627306"
   ]
  },
  {
   "cell_type": "code",
   "execution_count": null,
   "metadata": {},
   "outputs": [],
   "source": []
  },
  {
   "cell_type": "code",
   "execution_count": null,
   "metadata": {},
   "outputs": [],
   "source": []
  },
  {
   "cell_type": "code",
   "execution_count": null,
   "metadata": {},
   "outputs": [],
   "source": []
  },
  {
   "cell_type": "code",
   "execution_count": 16,
   "metadata": {},
   "outputs": [
    {
     "name": "stdout",
     "output_type": "stream",
     "text": [
      "accuracy score is: 0.782592360676268\n",
      "precision score is: 1.0\n",
      "recall score is: 0.0017251293847038527\n",
      "auc: 0.5543393660384279\n",
      "- - - - - - \n",
      "roc  0.5543393660384279\n"
     ]
    },
    {
     "data": {
      "image/png": "[encoded data removed]",
      "text/plain": [
       "<Figure size 432x288 with 1 Axes>"
      ]
     },
     "metadata": {
      "needs_background": "light"
     },
     "output_type": "display_data"
    }
   ],
   "source": [
    "############## logistic\n",
    "def logistic(X,y):\n",
    "    X_train, X_test, y_train, y_test = train_test_split(X, y, test_size=.2, random_state=2020)\n",
    "    lr = LogisticRegression()\n",
    "    lr.fit(X_train,y_train)\n",
    "    prob = lr.predict_proba(X_test)\n",
    "    \n",
    "    perfomance_clf(lr, X_test, y_test)\n",
    "    roc = roc_auc_score(y_test, lr.predict_proba(X_test)[:,1])\n",
    "    print('roc ',roc)\n",
    "\n",
    "    return (prob[:,1],y_test)\n",
    "\n",
    "probs, y_test=logistic(df_x, df_y)\n",
    "plot_roc(y_test,probs)"
   ]
  },
  {
   "cell_type": "markdown",
   "metadata": {},
   "source": [
    "# Search"
   ]
  },
  {
   "cell_type": "code",
   "execution_count": 15,
   "metadata": {},
   "outputs": [
    {
     "name": "stdout",
     "output_type": "stream",
     "text": [
      "Fitting 10 folds for each of 20 candidates, totalling 200 fits\n"
     ]
    },
    {
     "name": "stderr",
     "output_type": "stream",
     "text": [
      "[Parallel(n_jobs=-1)]: Using backend LokyBackend with 4 concurrent workers.\n",
      "[Parallel(n_jobs=-1)]: Done  42 tasks      | elapsed:  1.0min\n",
      "[Parallel(n_jobs=-1)]: Done 192 tasks      | elapsed:  4.3min\n",
      "[Parallel(n_jobs=-1)]: Done 200 out of 200 | elapsed:  4.4min finished\n"
     ]
    },
    {
     "name": "stdout",
     "output_type": "stream",
     "text": [
      "The best parameters:  {'C': 1, 'class_weight': {0: 1, 1: 3}, 'penalty': 'l1'}\n",
      "roc  0.6626329867791637\n",
      "accuracy score is: 0.6646211646837821\n",
      "precision score is: 0.3306887847097007\n",
      "recall score is: 0.5273145485911443\n",
      "auc: 0.6626329867791637\n",
      "- - - - - - \n"
     ]
    },
    {
     "data": {
      "image/png": "[encoded data removed]",
      "text/plain": [
       "<Figure size 432x288 with 1 Axes>"
      ]
     },
     "metadata": {
      "needs_background": "light"
     },
     "output_type": "display_data"
    }
   ],
   "source": [
    "############# logistic\n",
    "# search\n",
    "log_cfl = LogisticRegression()\n",
    "\n",
    "param_grid = {\n",
    "            'penalty' : ['l1','l2'], \n",
    "            'class_weight' : ['balanced', {0: 1, 1: 3}], \n",
    "            'C' : [0.1, 1, 10, 100, 1000]\n",
    "            }\n",
    "\n",
    "CV_log_cfl = GridSearchCV(estimator = log_cfl, param_grid = param_grid , cv = cv, scoring = 'roc_auc', verbose = 1, n_jobs = -1)\n",
    "CV_log_cfl.fit(trainx, trainy)\n",
    "\n",
    "best_parameters = CV_log_cfl.best_params_\n",
    "print(\"The best parameters: \", best_parameters)\n",
    "\n",
    "# 回归\n",
    "log_cfl = LogisticRegression(C = best_parameters['C'], \n",
    "                             penalty = best_parameters['penalty'], \n",
    "                             class_weight = best_parameters['class_weight'])\n",
    "\n",
    "log_cfl.fit(trainx, trainy)\n",
    "#y_scoreLR = log_cfl.decision_function(valx)\n",
    "y_scoreLR = log_cfl.predict_proba(valx)[:, 1]\n",
    "\n",
    "rocLR=roc_auc_score(valy, y_scoreLR)\n",
    "print('roc ',rocLR)\n",
    "perfomance_clf(log_cfl, valx, valy)\n",
    "plot_roc(valy, y_scoreLR)"
   ]
  },
  {
   "cell_type": "code",
   "execution_count": 19,
   "metadata": {
    "scrolled": false
   },
   "outputs": [
    {
     "name": "stdout",
     "output_type": "stream",
     "text": [
      "Fitting 10 folds for each of 108 candidates, totalling 1080 fits\n"
     ]
    },
    {
     "name": "stderr",
     "output_type": "stream",
     "text": [
      "[Parallel(n_jobs=-1)]: Using backend LokyBackend with 4 concurrent workers.\n",
      "[Parallel(n_jobs=-1)]: Done   5 tasks      | elapsed:   17.0s\n",
      "[Parallel(n_jobs=-1)]: Done  10 tasks      | elapsed:   22.8s\n",
      "[Parallel(n_jobs=-1)]: Done  17 tasks      | elapsed:   45.0s\n",
      "[Parallel(n_jobs=-1)]: Done  24 tasks      | elapsed:  1.2min\n",
      "[Parallel(n_jobs=-1)]: Done  33 tasks      | elapsed:  1.9min\n",
      "[Parallel(n_jobs=-1)]: Done  42 tasks      | elapsed:  2.2min\n",
      "[Parallel(n_jobs=-1)]: Done  53 tasks      | elapsed:  3.0min\n",
      "[Parallel(n_jobs=-1)]: Done  64 tasks      | elapsed:  3.6min\n",
      "[Parallel(n_jobs=-1)]: Done  77 tasks      | elapsed:  4.1min\n",
      "[Parallel(n_jobs=-1)]: Done  90 tasks      | elapsed:  4.9min\n",
      "[Parallel(n_jobs=-1)]: Done 105 tasks      | elapsed:  5.5min\n",
      "[Parallel(n_jobs=-1)]: Done 120 tasks      | elapsed:  6.4min\n",
      "[Parallel(n_jobs=-1)]: Done 137 tasks      | elapsed:  7.3min\n",
      "[Parallel(n_jobs=-1)]: Done 154 tasks      | elapsed:  8.6min\n",
      "[Parallel(n_jobs=-1)]: Done 173 tasks      | elapsed:  9.7min\n",
      "[Parallel(n_jobs=-1)]: Done 192 tasks      | elapsed: 10.5min\n",
      "[Parallel(n_jobs=-1)]: Done 213 tasks      | elapsed: 11.6min\n",
      "[Parallel(n_jobs=-1)]: Done 234 tasks      | elapsed: 12.8min\n",
      "[Parallel(n_jobs=-1)]: Done 257 tasks      | elapsed: 13.8min\n",
      "[Parallel(n_jobs=-1)]: Done 280 tasks      | elapsed: 15.1min\n",
      "[Parallel(n_jobs=-1)]: Done 305 tasks      | elapsed: 17.8min\n",
      "[Parallel(n_jobs=-1)]: Done 330 tasks      | elapsed: 19.6min\n",
      "[Parallel(n_jobs=-1)]: Done 357 tasks      | elapsed: 21.4min\n",
      "[Parallel(n_jobs=-1)]: Done 384 tasks      | elapsed: 22.8min\n",
      "[Parallel(n_jobs=-1)]: Done 413 tasks      | elapsed: 24.7min\n",
      "[Parallel(n_jobs=-1)]: Done 442 tasks      | elapsed: 26.4min\n",
      "[Parallel(n_jobs=-1)]: Done 473 tasks      | elapsed: 28.1min\n",
      "[Parallel(n_jobs=-1)]: Done 504 tasks      | elapsed: 29.5min\n",
      "[Parallel(n_jobs=-1)]: Done 537 tasks      | elapsed: 31.4min\n",
      "[Parallel(n_jobs=-1)]: Done 570 tasks      | elapsed: 33.1min\n",
      "[Parallel(n_jobs=-1)]: Done 605 tasks      | elapsed: 34.8min\n",
      "[Parallel(n_jobs=-1)]: Done 640 tasks      | elapsed: 36.4min\n",
      "[Parallel(n_jobs=-1)]: Done 677 tasks      | elapsed: 38.0min\n",
      "[Parallel(n_jobs=-1)]: Done 714 tasks      | elapsed: 39.7min\n",
      "[Parallel(n_jobs=-1)]: Done 753 tasks      | elapsed: 41.2min\n",
      "[Parallel(n_jobs=-1)]: Done 792 tasks      | elapsed: 42.5min\n",
      "[Parallel(n_jobs=-1)]: Done 833 tasks      | elapsed: 44.8min\n",
      "[Parallel(n_jobs=-1)]: Done 874 tasks      | elapsed: 47.4min\n",
      "[Parallel(n_jobs=-1)]: Done 917 tasks      | elapsed: 49.8min\n",
      "[Parallel(n_jobs=-1)]: Done 960 tasks      | elapsed: 52.6min\n",
      "[Parallel(n_jobs=-1)]: Done 1005 tasks      | elapsed: 54.9min\n",
      "[Parallel(n_jobs=-1)]: Done 1050 tasks      | elapsed: 57.6min\n",
      "[Parallel(n_jobs=-1)]: Done 1080 out of 1080 | elapsed: 59.3min finished\n"
     ]
    },
    {
     "name": "stdout",
     "output_type": "stream",
     "text": [
      "The best parameters:  {'class_weight': {0: 1, 1: 3}, 'max_features': 3, 'min_samples_leaf': 4, 'min_samples_split': 5, 'n_estimators': 200}\n",
      "roc  0.7374945612115273\n",
      "accuracy score is: 0.7986224170319349\n",
      "precision score is: 0.5459004905395936\n",
      "recall score is: 0.4479585968947671\n",
      "auc: 0.7374945612115273\n",
      "- - - - - - \n"
     ]
    },
    {
     "data": {
      "image/png": "[encoded data removed]",
      "text/plain": [
       "<Figure size 432x288 with 1 Axes>"
      ]
     },
     "metadata": {
      "needs_background": "light"
     },
     "output_type": "display_data"
    }
   ],
   "source": [
    "################### 随机森林\n",
    "# search\n",
    "rf_cfl = RandomForestClassifier(n_estimators=120).fit(trainx, trainy)\n",
    "\n",
    "param_grid = {\n",
    "            'n_estimators': [50, 100, 200],\n",
    "            'max_features': [2, 3],\n",
    "            'min_samples_leaf': [1, 2, 4],\n",
    "            'min_samples_split': [2, 5, 10],\n",
    "            'class_weight' :  ['balanced', {0: 1, 1: 3}],\n",
    "            }\n",
    "\n",
    "CV_rnd_cfl = GridSearchCV(estimator = rf_cfl, param_grid = param_grid, cv = cv, scoring = 'roc_auc', verbose = 10, n_jobs = -1)\n",
    "CV_rnd_cfl.fit(trainx, trainy)\n",
    "\n",
    "best_parameters = CV_rnd_cfl.best_params_\n",
    "print(\"The best parameters: \", best_parameters)\n",
    "# The best parameters:  {'class_weight': {0: 1, 1: 3}, 'max_features': 3, 'min_samples_leaf': 4, 'min_samples_split': 5, 'n_estimators': 200}\n",
    "# auc: 0.7374945612115273\n",
    "####### 预测\n",
    "rf_cfl = RandomForestClassifier(n_estimators = best_parameters['n_estimators'],\n",
    "                                max_features = best_parameters['max_features'], \n",
    "                                min_samples_leaf = best_parameters['min_samples_leaf'],  \n",
    "                                class_weight = best_parameters['class_weight'],\n",
    "                                min_samples_split = 5)\n",
    "rf_cfl.fit(trainx, trainy)\n",
    "y_score = rf_cfl.predict_proba(valx)[:,1]\n",
    "\n",
    "rocRF=roc_auc_score(valy, y_score)\n",
    "print('roc ',rocRF)\n",
    "perfomance_clf(rf_cfl, valx, valy)\n",
    "\n",
    "plot_roc(valy, y_score)"
   ]
  },
  {
   "cell_type": "code",
   "execution_count": 20,
   "metadata": {
    "scrolled": false
   },
   "outputs": [
    {
     "name": "stdout",
     "output_type": "stream",
     "text": [
      "Fitting 10 folds for each of 6 candidates, totalling 60 fits\n",
      "[CV] class_weight=balanced, n_estimators=50 ..........................\n"
     ]
    },
    {
     "name": "stderr",
     "output_type": "stream",
     "text": [
      "[Parallel(n_jobs=1)]: Using backend SequentialBackend with 1 concurrent workers.\n"
     ]
    },
    {
     "name": "stdout",
     "output_type": "stream",
     "text": [
      "[CV] ........... class_weight=balanced, n_estimators=50, total=   8.9s\n",
      "[CV] class_weight=balanced, n_estimators=50 ..........................\n"
     ]
    },
    {
     "name": "stderr",
     "output_type": "stream",
     "text": [
      "[Parallel(n_jobs=1)]: Done   1 out of   1 | elapsed:    8.8s remaining:    0.0s\n"
     ]
    },
    {
     "name": "stdout",
     "output_type": "stream",
     "text": [
      "[CV] ........... class_weight=balanced, n_estimators=50, total=   8.7s\n",
      "[CV] class_weight=balanced, n_estimators=50 ..........................\n",
      "[CV] ........... class_weight=balanced, n_estimators=50, total=   9.0s\n",
      "[CV] class_weight=balanced, n_estimators=50 ..........................\n",
      "[CV] ........... class_weight=balanced, n_estimators=50, total=   7.8s\n",
      "[CV] class_weight=balanced, n_estimators=50 ..........................\n",
      "[CV] ........... class_weight=balanced, n_estimators=50, total=   8.0s\n",
      "[CV] class_weight=balanced, n_estimators=50 ..........................\n",
      "[CV] ........... class_weight=balanced, n_estimators=50, total=   8.8s\n",
      "[CV] class_weight=balanced, n_estimators=50 ..........................\n",
      "[CV] ........... class_weight=balanced, n_estimators=50, total=   9.9s\n",
      "[CV] class_weight=balanced, n_estimators=50 ..........................\n",
      "[CV] ........... class_weight=balanced, n_estimators=50, total=   9.5s\n",
      "[CV] class_weight=balanced, n_estimators=50 ..........................\n",
      "[CV] ........... class_weight=balanced, n_estimators=50, total=   7.6s\n",
      "[CV] class_weight=balanced, n_estimators=50 ..........................\n",
      "[CV] ........... class_weight=balanced, n_estimators=50, total=   7.1s\n",
      "[CV] class_weight=balanced, n_estimators=100 .........................\n",
      "[CV] .......... class_weight=balanced, n_estimators=100, total=  13.3s\n",
      "[CV] class_weight=balanced, n_estimators=100 .........................\n",
      "[CV] .......... class_weight=balanced, n_estimators=100, total=  16.5s\n",
      "[CV] class_weight=balanced, n_estimators=100 .........................\n",
      "[CV] .......... class_weight=balanced, n_estimators=100, total=  19.0s\n",
      "[CV] class_weight=balanced, n_estimators=100 .........................\n",
      "[CV] .......... class_weight=balanced, n_estimators=100, total=  14.2s\n",
      "[CV] class_weight=balanced, n_estimators=100 .........................\n",
      "[CV] .......... class_weight=balanced, n_estimators=100, total=  13.4s\n",
      "[CV] class_weight=balanced, n_estimators=100 .........................\n",
      "[CV] .......... class_weight=balanced, n_estimators=100, total=  15.7s\n",
      "[CV] class_weight=balanced, n_estimators=100 .........................\n",
      "[CV] .......... class_weight=balanced, n_estimators=100, total=  15.1s\n",
      "[CV] class_weight=balanced, n_estimators=100 .........................\n",
      "[CV] .......... class_weight=balanced, n_estimators=100, total=  16.7s\n",
      "[CV] class_weight=balanced, n_estimators=100 .........................\n",
      "[CV] .......... class_weight=balanced, n_estimators=100, total=  16.8s\n",
      "[CV] class_weight=balanced, n_estimators=100 .........................\n",
      "[CV] .......... class_weight=balanced, n_estimators=100, total=  16.8s\n",
      "[CV] class_weight=balanced, n_estimators=200 .........................\n",
      "[CV] .......... class_weight=balanced, n_estimators=200, total=  30.8s\n",
      "[CV] class_weight=balanced, n_estimators=200 .........................\n",
      "[CV] .......... class_weight=balanced, n_estimators=200, total=  30.2s\n",
      "[CV] class_weight=balanced, n_estimators=200 .........................\n",
      "[CV] .......... class_weight=balanced, n_estimators=200, total=  31.7s\n",
      "[CV] class_weight=balanced, n_estimators=200 .........................\n",
      "[CV] .......... class_weight=balanced, n_estimators=200, total=  30.4s\n",
      "[CV] class_weight=balanced, n_estimators=200 .........................\n",
      "[CV] .......... class_weight=balanced, n_estimators=200, total=  31.8s\n",
      "[CV] class_weight=balanced, n_estimators=200 .........................\n",
      "[CV] .......... class_weight=balanced, n_estimators=200, total=  37.7s\n",
      "[CV] class_weight=balanced, n_estimators=200 .........................\n",
      "[CV] .......... class_weight=balanced, n_estimators=200, total=  30.9s\n",
      "[CV] class_weight=balanced, n_estimators=200 .........................\n",
      "[CV] .......... class_weight=balanced, n_estimators=200, total=  32.3s\n",
      "[CV] class_weight=balanced, n_estimators=200 .........................\n",
      "[CV] .......... class_weight=balanced, n_estimators=200, total=  35.3s\n",
      "[CV] class_weight=balanced, n_estimators=200 .........................\n",
      "[CV] .......... class_weight=balanced, n_estimators=200, total=  36.9s\n",
      "[CV] class_weight={0: 1, 1: 3}, n_estimators=50 ......................\n",
      "[CV] ....... class_weight={0: 1, 1: 3}, n_estimators=50, total=   9.0s\n",
      "[CV] class_weight={0: 1, 1: 3}, n_estimators=50 ......................\n",
      "[CV] ....... class_weight={0: 1, 1: 3}, n_estimators=50, total=  11.1s\n",
      "[CV] class_weight={0: 1, 1: 3}, n_estimators=50 ......................\n",
      "[CV] ....... class_weight={0: 1, 1: 3}, n_estimators=50, total=  11.7s\n",
      "[CV] class_weight={0: 1, 1: 3}, n_estimators=50 ......................\n",
      "[CV] ....... class_weight={0: 1, 1: 3}, n_estimators=50, total=   8.5s\n",
      "[CV] class_weight={0: 1, 1: 3}, n_estimators=50 ......................\n",
      "[CV] ....... class_weight={0: 1, 1: 3}, n_estimators=50, total=   8.4s\n",
      "[CV] class_weight={0: 1, 1: 3}, n_estimators=50 ......................\n",
      "[CV] ....... class_weight={0: 1, 1: 3}, n_estimators=50, total=   8.2s\n",
      "[CV] class_weight={0: 1, 1: 3}, n_estimators=50 ......................\n",
      "[CV] ....... class_weight={0: 1, 1: 3}, n_estimators=50, total=   8.5s\n",
      "[CV] class_weight={0: 1, 1: 3}, n_estimators=50 ......................\n",
      "[CV] ....... class_weight={0: 1, 1: 3}, n_estimators=50, total=   8.6s\n",
      "[CV] class_weight={0: 1, 1: 3}, n_estimators=50 ......................\n",
      "[CV] ....... class_weight={0: 1, 1: 3}, n_estimators=50, total=   7.7s\n",
      "[CV] class_weight={0: 1, 1: 3}, n_estimators=50 ......................\n",
      "[CV] ....... class_weight={0: 1, 1: 3}, n_estimators=50, total=   8.2s\n",
      "[CV] class_weight={0: 1, 1: 3}, n_estimators=100 .....................\n",
      "[CV] ...... class_weight={0: 1, 1: 3}, n_estimators=100, total=  15.2s\n",
      "[CV] class_weight={0: 1, 1: 3}, n_estimators=100 .....................\n",
      "[CV] ...... class_weight={0: 1, 1: 3}, n_estimators=100, total=  15.6s\n",
      "[CV] class_weight={0: 1, 1: 3}, n_estimators=100 .....................\n",
      "[CV] ...... class_weight={0: 1, 1: 3}, n_estimators=100, total=  15.4s\n",
      "[CV] class_weight={0: 1, 1: 3}, n_estimators=100 .....................\n",
      "[CV] ...... class_weight={0: 1, 1: 3}, n_estimators=100, total=  15.1s\n",
      "[CV] class_weight={0: 1, 1: 3}, n_estimators=100 .....................\n",
      "[CV] ...... class_weight={0: 1, 1: 3}, n_estimators=100, total=  15.7s\n",
      "[CV] class_weight={0: 1, 1: 3}, n_estimators=100 .....................\n",
      "[CV] ...... class_weight={0: 1, 1: 3}, n_estimators=100, total=  15.5s\n",
      "[CV] class_weight={0: 1, 1: 3}, n_estimators=100 .....................\n",
      "[CV] ...... class_weight={0: 1, 1: 3}, n_estimators=100, total=  15.7s\n",
      "[CV] class_weight={0: 1, 1: 3}, n_estimators=100 .....................\n",
      "[CV] ...... class_weight={0: 1, 1: 3}, n_estimators=100, total=  15.9s\n",
      "[CV] class_weight={0: 1, 1: 3}, n_estimators=100 .....................\n",
      "[CV] ...... class_weight={0: 1, 1: 3}, n_estimators=100, total=  16.7s\n",
      "[CV] class_weight={0: 1, 1: 3}, n_estimators=100 .....................\n",
      "[CV] ...... class_weight={0: 1, 1: 3}, n_estimators=100, total=  16.2s\n",
      "[CV] class_weight={0: 1, 1: 3}, n_estimators=200 .....................\n",
      "[CV] ...... class_weight={0: 1, 1: 3}, n_estimators=200, total=  36.6s\n",
      "[CV] class_weight={0: 1, 1: 3}, n_estimators=200 .....................\n",
      "[CV] ...... class_weight={0: 1, 1: 3}, n_estimators=200, total=  28.9s\n",
      "[CV] class_weight={0: 1, 1: 3}, n_estimators=200 .....................\n",
      "[CV] ...... class_weight={0: 1, 1: 3}, n_estimators=200, total=  31.7s\n",
      "[CV] class_weight={0: 1, 1: 3}, n_estimators=200 .....................\n",
      "[CV] ...... class_weight={0: 1, 1: 3}, n_estimators=200, total=  30.2s\n",
      "[CV] class_weight={0: 1, 1: 3}, n_estimators=200 .....................\n",
      "[CV] ...... class_weight={0: 1, 1: 3}, n_estimators=200, total=  34.6s\n",
      "[CV] class_weight={0: 1, 1: 3}, n_estimators=200 .....................\n",
      "[CV] ...... class_weight={0: 1, 1: 3}, n_estimators=200, total=  41.3s\n",
      "[CV] class_weight={0: 1, 1: 3}, n_estimators=200 .....................\n",
      "[CV] ...... class_weight={0: 1, 1: 3}, n_estimators=200, total=  28.7s\n",
      "[CV] class_weight={0: 1, 1: 3}, n_estimators=200 .....................\n",
      "[CV] ...... class_weight={0: 1, 1: 3}, n_estimators=200, total=  33.5s\n",
      "[CV] class_weight={0: 1, 1: 3}, n_estimators=200 .....................\n",
      "[CV] ...... class_weight={0: 1, 1: 3}, n_estimators=200, total=  28.9s\n",
      "[CV] class_weight={0: 1, 1: 3}, n_estimators=200 .....................\n"
     ]
    },
    {
     "name": "stdout",
     "output_type": "stream",
     "text": [
      "[CV] ...... class_weight={0: 1, 1: 3}, n_estimators=200, total=  29.0s\n"
     ]
    },
    {
     "name": "stderr",
     "output_type": "stream",
     "text": [
      "[Parallel(n_jobs=1)]: Done  60 out of  60 | elapsed: 19.0min finished\n"
     ]
    },
    {
     "name": "stdout",
     "output_type": "stream",
     "text": [
      "The best parameters:  {'class_weight': 'balanced', 'n_estimators': 50}\n",
      "roc  0.7378206583553325\n",
      "accuracy score is: 0.8103944896681278\n",
      "precision score is: 0.6404494382022472\n",
      "recall score is: 0.2949971247843588\n",
      "auc: 0.7378206583553325\n",
      "- - - - - - \n"
     ]
    },
    {
     "data": {
      "image/png": "[encoded data removed]",
      "text/plain": [
       "<Figure size 432x288 with 1 Axes>"
      ]
     },
     "metadata": {
      "needs_background": "light"
     },
     "output_type": "display_data"
    }
   ],
   "source": [
    "######################### XGBoost\n",
    "# search\n",
    "xgb_cfl = xgb.XGBClassifier(n_jobs = -1)\n",
    "xgb_cfl.fit(trainx, trainy)\n",
    "y_pred = xgb_cfl.predict(valx)\n",
    "y_score = xgb_cfl.predict_proba(valx)[:,1]\n",
    "\n",
    "param_grid = {\n",
    "            'n_estimators': [50, 100, 200],\n",
    "            'class_weight' :  ['balanced', {0: 1, 1: 3}],\n",
    "              }\n",
    "\n",
    "CV_xgb_cfl = GridSearchCV(estimator = xgb_cfl, param_grid = param_grid, cv = 10, scoring ='roc_auc', verbose = 2)\n",
    "CV_xgb_cfl.fit(trainx, trainy)\n",
    "\n",
    "best_parameters = CV_xgb_cfl.best_params_\n",
    "print(\"The best parameters: \", best_parameters)\n",
    "\n",
    "xgb_cfl2 = xgb.XGBClassifier(n_jobs = -1,\n",
    "                             n_estimators = best_parameters['n_estimators'], \n",
    "                             class_weight = best_parameters['class_weight'])\n",
    "\n",
    "xgb_cfl2.fit(trainx, trainy)\n",
    "\n",
    "y_score2 = xgb_cfl2.predict_proba(valx)[:,1]\n",
    "rocxgb=roc_auc_score(valy, y_score2)\n",
    "print('roc ',rocxgb)\n",
    "perfomance_clf(xgb_cfl2, valx, valy)\n",
    "plot_roc(valy, y_score2)"
   ]
  },
  {
   "cell_type": "code",
   "execution_count": null,
   "metadata": {},
   "outputs": [],
   "source": []
  },
  {
   "cell_type": "code",
   "execution_count": null,
   "metadata": {},
   "outputs": [],
   "source": []
  },
  {
   "cell_type": "code",
   "execution_count": null,
   "metadata": {},
   "outputs": [],
   "source": []
  },
  {
   "cell_type": "code",
   "execution_count": null,
   "metadata": {},
   "outputs": [],
   "source": []
  },
  {
   "cell_type": "code",
   "execution_count": 52,
   "metadata": {},
   "outputs": [
    {
     "name": "stdout",
     "output_type": "stream",
     "text": [
      "roc  0.7380404194739838\n",
      "accuracy score is: 0.8071383844708829\n",
      "precision score is: 0.6439942112879884\n",
      "recall score is: 0.25589419206440484\n",
      "auc: 0.7380404194739838\n",
      "- - - - - - \n"
     ]
    },
    {
     "data": {
      "image/png": "[encoded data removed]",
      "text/plain": [
       "<Figure size 432x288 with 1 Axes>"
      ]
     },
     "metadata": {
      "needs_background": "light"
     },
     "output_type": "display_data"
    }
   ],
   "source": [
    "####### \n",
    "# 加:\n",
    "# 理财产品、基金、保险、黄金购买次数总和\n",
    "# 丢:\n",
    "# 合并项\n",
    "######### 合并trx、beh（最高访问名字，访问次数）\n",
    "################# XGBoost\n",
    "xgb_cfl = xgb.XGBClassifier(n_jobs = -1,\n",
    "                            n_estimators = 50,\n",
    "                            class_weight = 'balanced',\n",
    "                            max_depth = 3)\n",
    "\n",
    "xgb_cfl.fit(trainx, trainy)\n",
    "y_scorexgb = xgb_cfl.predict_proba(valx)[:,1]\n",
    "\n",
    "rocxgb=roc_auc_score(valy, y_scorexgb)\n",
    "print('roc ',rocxgb)\n",
    "perfomance_clf(xgb_cfl, valx, valy)\n",
    "\n",
    "plot_roc(valy, y_scorexgb)"
   ]
  },
  {
   "cell_type": "code",
   "execution_count": null,
   "metadata": {},
   "outputs": [],
   "source": []
  },
  {
   "cell_type": "code",
   "execution_count": null,
   "metadata": {},
   "outputs": [],
   "source": []
  },
  {
   "cell_type": "code",
   "execution_count": null,
   "metadata": {},
   "outputs": [],
   "source": []
  },
  {
   "cell_type": "code",
   "execution_count": 31,
   "metadata": {},
   "outputs": [
    {
     "name": "stdout",
     "output_type": "stream",
     "text": [
      "roc  0.7381969313724787\n",
      "accuracy score is: 0.8068879148403256\n",
      "precision score is: 0.6485671191553545\n",
      "recall score is: 0.24726854514088556\n",
      "auc: 0.7381969313724787\n",
      "- - - - - - \n"
     ]
    },
    {
     "data": {
      "image/png": "[encoded data removed]",
      "text/plain": [
       "<Figure size 432x288 with 1 Axes>"
      ]
     },
     "metadata": {
      "needs_background": "light"
     },
     "output_type": "display_data"
    }
   ],
   "source": [
    "####### \n",
    "# 加:\n",
    "# 理财产品、基金、保险、黄金购买次数总和\n",
    "# 0: no, 1: ic, 2: fr or sh, 3: both\n",
    "# 0: no, 1: Car, 2: House, 3: both\n",
    "# 丢:\n",
    "# 合并项\n",
    "######### 合并trx、beh（最高访问名字，访问次数）\n",
    "################# XGBoost\n",
    "xgb_cfl = xgb.XGBClassifier(n_jobs = -1,\n",
    "                            n_estimators = 50,\n",
    "                            class_weight = 'balanced',\n",
    "                            max_depth = 3)\n",
    "\n",
    "xgb_cfl.fit(trainx, trainy)\n",
    "y_scorexgb = xgb_cfl.predict_proba(valx)[:,1]\n",
    "\n",
    "rocxgb=roc_auc_score(valy, y_scorexgb)\n",
    "print('roc ',rocxgb)\n",
    "perfomance_clf(xgb_cfl, valx, valy)\n",
    "\n",
    "plot_roc(valy, y_scorexgb)"
   ]
  },
  {
   "cell_type": "code",
   "execution_count": null,
   "metadata": {},
   "outputs": [],
   "source": []
  },
  {
   "cell_type": "code",
   "execution_count": 14,
   "metadata": {},
   "outputs": [
    {
     "name": "stdout",
     "output_type": "stream",
     "text": [
      "roc  0.740205899688394\n",
      "accuracy score is: 0.8080150281778334\n",
      "precision score is: 0.6537313432835821\n",
      "recall score is: 0.2518688901667625\n",
      "auc: 0.740205899688394\n",
      "- - - - - - \n"
     ]
    },
    {
     "data": {
      "image/png": "[encoded data removed]",
      "text/plain": [
       "<Figure size 432x288 with 1 Axes>"
      ]
     },
     "metadata": {
      "needs_background": "light"
     },
     "output_type": "display_data"
    }
   ],
   "source": [
    "####### \n",
    "# 加:\n",
    "# 理财产品、基金、保险、黄金购买次数总和\n",
    "# 0: no, 1: ic, 2: fr or sh, 3: both\n",
    "# 0: no, 1: Car, 2: House, 3: both\n",
    "# 丢:\n",
    "# 合并项，以及借记卡张数等\n",
    "######### 合并trx、beh（最高访问名字，访问次数）\n",
    "################# XGBoost\n",
    "xgb_cfl = xgb.XGBClassifier(n_jobs = -1,\n",
    "                            n_estimators = 50,\n",
    "                            class_weight = 'balanced',\n",
    "                            max_depth = 3)\n",
    "\n",
    "xgb_cfl.fit(trainx, trainy)\n",
    "y_scorexgb = xgb_cfl.predict_proba(valx)[:,1]\n",
    "\n",
    "rocxgb=roc_auc_score(valy, y_scorexgb)\n",
    "print('roc ',rocxgb)\n",
    "perfomance_clf(xgb_cfl, valx, valy)\n",
    "\n",
    "plot_roc(valy, y_scorexgb)"
   ]
  },
  {
   "cell_type": "code",
   "execution_count": null,
   "metadata": {},
   "outputs": [],
   "source": []
  },
  {
   "cell_type": "code",
   "execution_count": 88,
   "metadata": {},
   "outputs": [
    {
     "name": "stdout",
     "output_type": "stream",
     "text": [
      "roc  0.7347013301854187\n",
      "accuracy score is: 0.8068879148403256\n",
      "precision score is: 0.6476761619190404\n",
      "recall score is: 0.2484186313973548\n",
      "auc: 0.7347013301854187\n",
      "- - - - - - \n"
     ]
    },
    {
     "data": {
      "image/png": "[encoded data removed]",
      "text/plain": [
       "<Figure size 432x288 with 1 Axes>"
      ]
     },
     "metadata": {
      "needs_background": "light"
     },
     "output_type": "display_data"
    }
   ],
   "source": [
    "####### \n",
    "# 加:\n",
    "# 理财产品、基金、保险、黄金购买次数总和\n",
    "# 0: no, 1: ic, 2: fr or sh, 3: both\n",
    "# 0: no, 1: Car, 2: House, 3: both\n",
    "# 信用卡张数、持有天数、活跃标志合并\n",
    "# 丢:\n",
    "# 合并项，以及借记卡张数等\n",
    "######### 合并trx、beh（最高访问名字，访问次数）\n",
    "################# XGBoost\n",
    "xgb_cfl = xgb.XGBClassifier(n_jobs = -1,\n",
    "                            n_estimators = 50,\n",
    "                            class_weight = 'balanced',\n",
    "                            max_depth = 3)\n",
    "\n",
    "xgb_cfl.fit(trainx, trainy)\n",
    "y_scorexgb = xgb_cfl.predict_proba(valx)[:,1]\n",
    "\n",
    "rocxgb=roc_auc_score(valy, y_scorexgb)\n",
    "print('roc ',rocxgb)\n",
    "perfomance_clf(xgb_cfl, valx, valy)\n",
    "\n",
    "plot_roc(valy, y_scorexgb)"
   ]
  },
  {
   "cell_type": "code",
   "execution_count": null,
   "metadata": {},
   "outputs": [],
   "source": []
  },
  {
   "cell_type": "code",
   "execution_count": null,
   "metadata": {},
   "outputs": [],
   "source": []
  },
  {
   "cell_type": "code",
   "execution_count": 68,
   "metadata": {},
   "outputs": [
    {
     "name": "stdout",
     "output_type": "stream",
     "text": [
      "roc  0.7429729840208716\n",
      "accuracy score is: 0.808891671884784\n",
      "precision score is: 0.6606334841628959\n",
      "recall score is: 0.2518688901667625\n",
      "auc: 0.7429729840208716\n",
      "- - - - - - \n"
     ]
    },
    {
     "data": {
      "image/png": "[encoded data removed]",
      "text/plain": [
       "<Figure size 432x288 with 1 Axes>"
      ]
     },
     "metadata": {
      "needs_background": "light"
     },
     "output_type": "display_data"
    }
   ],
   "source": [
    "####### 不加变量不删变量，合并trx、beh（访问次数）\n",
    "################# XGBoost\n",
    "xgb_cfl = xgb.XGBClassifier(n_jobs = -1,\n",
    "                            n_estimators = 50,\n",
    "                            class_weight = 'balanced',\n",
    "                            max_depth = 3)\n",
    "\n",
    "xgb_cfl.fit(trainx, trainy)\n",
    "y_scorexgb = xgb_cfl.predict_proba(valx)[:,1]\n",
    "\n",
    "rocxgb=roc_auc_score(valy, y_scorexgb)\n",
    "print('roc ',rocxgb)\n",
    "perfomance_clf(xgb_cfl, valx, valy)\n",
    "\n",
    "plot_roc(valy, y_scorexgb)"
   ]
  },
  {
   "cell_type": "code",
   "execution_count": null,
   "metadata": {},
   "outputs": [],
   "source": []
  },
  {
   "cell_type": "code",
   "execution_count": 44,
   "metadata": {},
   "outputs": [
    {
     "name": "stdout",
     "output_type": "stream",
     "text": [
      "roc  0.7419766476882179\n",
      "accuracy score is: 0.8080150281778334\n",
      "precision score is: 0.6537313432835821\n",
      "recall score is: 0.2518688901667625\n",
      "auc: 0.7419766476882179\n",
      "- - - - - - \n"
     ]
    },
    {
     "data": {
      "image/png": "[encoded data removed]",
      "text/plain": [
       "<Figure size 432x288 with 1 Axes>"
      ]
     },
     "metadata": {
      "needs_background": "light"
     },
     "output_type": "display_data"
    }
   ],
   "source": [
    "####### 不加变量不删变量，合并trx、beh（最高访问名字）\n",
    "################# XGBoost\n",
    "xgb_cfl = xgb.XGBClassifier(n_jobs = -1,\n",
    "                            n_estimators = 50,\n",
    "                            class_weight = 'balanced',\n",
    "                            max_depth = 3)\n",
    "\n",
    "xgb_cfl.fit(trainx, trainy)\n",
    "y_scorexgb = xgb_cfl.predict_proba(valx)[:,1]\n",
    "\n",
    "rocxgb=roc_auc_score(valy, y_scorexgb)\n",
    "print('roc ',rocxgb)\n",
    "perfomance_clf(xgb_cfl, valx, valy)\n",
    "\n",
    "plot_roc(valy, y_scorexgb)"
   ]
  },
  {
   "cell_type": "code",
   "execution_count": null,
   "metadata": {},
   "outputs": [],
   "source": []
  },
  {
   "cell_type": "code",
   "execution_count": 39,
   "metadata": {},
   "outputs": [
    {
     "name": "stdout",
     "output_type": "stream",
     "text": [
      "roc  0.743958962948478\n",
      "accuracy score is: 0.8083907326236693\n",
      "precision score is: 0.6557377049180327\n",
      "recall score is: 0.25301897642323173\n",
      "auc: 0.743958962948478\n",
      "- - - - - - \n"
     ]
    },
    {
     "data": {
      "image/png": "[encoded data removed]",
      "text/plain": [
       "<Figure size 432x288 with 1 Axes>"
      ]
     },
     "metadata": {
      "needs_background": "light"
     },
     "output_type": "display_data"
    }
   ],
   "source": [
    "####### 不加变量不删变量，合并trx、beh（最高访问名字，访问次数）\n",
    "################# XGBoost\n",
    "xgb_cfl = xgb.XGBClassifier(n_jobs = -1,\n",
    "                            n_estimators = 50,\n",
    "                            class_weight = 'balanced',\n",
    "                            max_depth = 3)\n",
    "\n",
    "xgb_cfl.fit(trainx, trainy)\n",
    "y_scorexgb = xgb_cfl.predict_proba(valx)[:,1]\n",
    "\n",
    "rocxgb=roc_auc_score(valy, y_scorexgb)\n",
    "print('roc ',rocxgb)\n",
    "perfomance_clf(xgb_cfl, valx, valy)\n",
    "\n",
    "plot_roc(valy, y_scorexgb)"
   ]
  },
  {
   "cell_type": "code",
   "execution_count": null,
   "metadata": {},
   "outputs": [],
   "source": []
  },
  {
   "cell_type": "code",
   "execution_count": 31,
   "metadata": {},
   "outputs": [
    {
     "name": "stdout",
     "output_type": "stream",
     "text": [
      "roc  0.7433234786076774\n",
      "accuracy score is: 0.8090169067000627\n",
      "precision score is: 0.6597014925373135\n",
      "recall score is: 0.25416906267970096\n",
      "auc: 0.7433234786076774\n",
      "- - - - - - \n"
     ]
    },
    {
     "data": {
      "image/png": "[encoded data removed]",
      "text/plain": [
       "<Figure size 432x288 with 1 Axes>"
      ]
     },
     "metadata": {
      "needs_background": "light"
     },
     "output_type": "display_data"
    }
   ],
   "source": [
    "####### 不加变量不删变量，合并trx、beh（最高访问名字，访问次数，访问种类数）\n",
    "################# XGBoost\n",
    "xgb_cfl = xgb.XGBClassifier(n_jobs = -1,\n",
    "                            n_estimators = 50,\n",
    "                            class_weight = 'balanced',\n",
    "                            max_depth = 3)\n",
    "\n",
    "xgb_cfl.fit(trainx, trainy)\n",
    "y_scorexgb = xgb_cfl.predict_proba(valx)[:,1]\n",
    "\n",
    "rocxgb=roc_auc_score(valy, y_scorexgb)\n",
    "print('roc ',rocxgb)\n",
    "perfomance_clf(xgb_cfl, valx, valy)\n",
    "\n",
    "plot_roc(valy, y_scorexgb)"
   ]
  },
  {
   "cell_type": "code",
   "execution_count": null,
   "metadata": {},
   "outputs": [],
   "source": []
  },
  {
   "cell_type": "code",
   "execution_count": 17,
   "metadata": {},
   "outputs": [
    {
     "name": "stdout",
     "output_type": "stream",
     "text": [
      "roc  0.7426606507175519\n",
      "accuracy score is: 0.8078897933625548\n",
      "precision score is: 0.6536731634182908\n",
      "recall score is: 0.2507188039102933\n",
      "auc: 0.7426606507175519\n",
      "- - - - - - \n"
     ]
    },
    {
     "data": {
      "image/png": "[encoded data removed]",
      "text/plain": [
       "<Figure size 432x288 with 1 Axes>"
      ]
     },
     "metadata": {
      "needs_background": "light"
     },
     "output_type": "display_data"
    }
   ],
   "source": [
    "####### 不加变量不删变量，只合并trx\n",
    "################# XGBoost\n",
    "xgb_cfl = xgb.XGBClassifier(n_jobs = -1,\n",
    "                            n_estimators = 50,\n",
    "                            class_weight = 'balanced',\n",
    "                            max_depth = 3)\n",
    "\n",
    "xgb_cfl.fit(trainx, trainy)\n",
    "y_scorexgb = xgb_cfl.predict_proba(valx)[:,1]\n",
    "\n",
    "rocxgb=roc_auc_score(valy, y_scorexgb)\n",
    "print('roc ',rocxgb)\n",
    "perfomance_clf(xgb_cfl, valx, valy)\n",
    "\n",
    "plot_roc(valy, y_scorexgb)"
   ]
  },
  {
   "cell_type": "code",
   "execution_count": null,
   "metadata": {},
   "outputs": [],
   "source": []
  },
  {
   "cell_type": "code",
   "execution_count": 11,
   "metadata": {},
   "outputs": [
    {
     "name": "stdout",
     "output_type": "stream",
     "text": [
      "accuracy score is: 0.782216656230432\n",
      "precision score is: 0.0\n",
      "recall score is: 0.0\n",
      "auc: 0.5352864821409796\n",
      "- - - - - - \n",
      "roc  0.5352864821409796\n"
     ]
    },
    {
     "data": {
      "image/png": "[encoded data removed]",
      "text/plain": [
       "<Figure size 432x288 with 1 Axes>"
      ]
     },
     "metadata": {
      "needs_background": "light"
     },
     "output_type": "display_data"
    }
   ],
   "source": [
    "############## logistic\n",
    "def logistic(X,y):\n",
    "    X_train, X_test, y_train, y_test = train_test_split(X, y, test_size=.2, random_state=2020)\n",
    "    lr = LogisticRegression()\n",
    "    lr.fit(X_train,y_train)\n",
    "    prob = lr.predict_proba(X_test)\n",
    "    \n",
    "    perfomance_clf(lr, X_test, y_test)\n",
    "    roc = roc_auc_score(y_test, lr.predict_proba(X_test)[:,1])\n",
    "    print('roc ',roc)\n",
    "\n",
    "    return (prob[:,1],y_test)\n",
    "\n",
    "probs, y_test=logistic(df_x, df_y)\n",
    "plot_roc(y_test,probs)"
   ]
  },
  {
   "cell_type": "code",
   "execution_count": 12,
   "metadata": {},
   "outputs": [],
   "source": [
    "trainx, valx, trainy, valy = train_test_split(df_x, df_y, test_size=.2, random_state=2020)"
   ]
  },
  {
   "cell_type": "code",
   "execution_count": 13,
   "metadata": {},
   "outputs": [
    {
     "name": "stdout",
     "output_type": "stream",
     "text": [
      "roc  0.7207522072320648\n",
      "accuracy score is: 0.8030056355666876\n",
      "precision score is: 0.628482972136223\n",
      "recall score is: 0.23346751006325475\n",
      "auc: 0.7207522072320648\n",
      "- - - - - - \n"
     ]
    },
    {
     "data": {
      "image/png": "[encoded data removed]",
      "text/plain": [
       "<Figure size 432x288 with 1 Axes>"
      ]
     },
     "metadata": {
      "needs_background": "light"
     },
     "output_type": "display_data"
    }
   ],
   "source": [
    "############ 随机森林\n",
    "model = RandomForestClassifier(n_estimators=220, class_weight = 'balanced').fit(trainx, trainy)\n",
    "# {0: 1, 1:3}\n",
    "predictionforest = model.predict_proba(valx)[:, 1]\n",
    "\n",
    "rocrf=roc_auc_score(valy, predictionforest)\n",
    "print('roc ',rocrf)\n",
    "perfomance_clf(model, valx, valy)\n",
    "plot_roc(valy, predictionforest)"
   ]
  },
  {
   "cell_type": "code",
   "execution_count": 15,
   "metadata": {},
   "outputs": [
    {
     "name": "stdout",
     "output_type": "stream",
     "text": [
      "roc  0.6930245132618056\n",
      "accuracy score is: 0.7887288666249217\n",
      "precision score is: 0.5263157894736842\n",
      "recall score is: 0.29902242668200113\n",
      "auc: 0.6930245132618056\n",
      "- - - - - - \n"
     ]
    },
    {
     "data": {
      "image/png": "[encoded data removed]",
      "text/plain": [
       "<Figure size 432x288 with 1 Axes>"
      ]
     },
     "metadata": {
      "needs_background": "light"
     },
     "output_type": "display_data"
    }
   ],
   "source": [
    "################# XGBoost\n",
    "xgb_cfl = xgb.XGBClassifier(n_jobs = -1,\n",
    "                            n_estimators = 50,\n",
    "                            class_weight = 'balanced',\n",
    "                            max_depth = 3)\n",
    "\n",
    "xgb_cfl.fit(trainx, trainy)\n",
    "y_scorexgb = xgb_cfl.predict_proba(valx)[:,1]\n",
    "\n",
    "rocxgb=roc_auc_score(valy, y_scorexgb)\n",
    "print('roc ',rocxgb)\n",
    "perfomance_clf(xgb_cfl, valx, valy)\n",
    "\n",
    "plot_roc(valy, y_scorexgb)"
   ]
  },
  {
   "cell_type": "markdown",
   "metadata": {},
   "source": [
    "# Grid Search"
   ]
  },
  {
   "cell_type": "code",
   "execution_count": 20,
   "metadata": {},
   "outputs": [
    {
     "name": "stdout",
     "output_type": "stream",
     "text": [
      "Fitting 10 folds for each of 20 candidates, totalling 200 fits\n"
     ]
    },
    {
     "name": "stderr",
     "output_type": "stream",
     "text": [
      "[Parallel(n_jobs=-1)]: Using backend LokyBackend with 4 concurrent workers.\n",
      "[Parallel(n_jobs=-1)]: Done  42 tasks      | elapsed:   26.4s\n",
      "[Parallel(n_jobs=-1)]: Done 192 tasks      | elapsed:  1.4min\n",
      "[Parallel(n_jobs=-1)]: Done 200 out of 200 | elapsed:  1.5min finished\n"
     ]
    },
    {
     "name": "stdout",
     "output_type": "stream",
     "text": [
      "The best parameters:  {'C': 0.1, 'class_weight': {0: 1, 1: 3}, 'penalty': 'l1'}\n",
      "roc  0.6493356898501298\n",
      "accuracy score is: 0.653976205385097\n",
      "precision score is: 0.3181818181818182\n",
      "recall score is: 0.5152386428982174\n",
      "auc: 0.6493356898501298\n",
      "- - - - - - \n"
     ]
    },
    {
     "data": {
      "image/png": "[encoded data removed]",
      "text/plain": [
       "<Figure size 432x288 with 1 Axes>"
      ]
     },
     "metadata": {
      "needs_background": "light"
     },
     "output_type": "display_data"
    }
   ],
   "source": [
    "############# logistic\n",
    "# search\n",
    "log_cfl = LogisticRegression()\n",
    "\n",
    "param_grid = {\n",
    "            'penalty' : ['l1','l2'], \n",
    "            'class_weight' : ['balanced', {0: 1, 1: 3}], \n",
    "            'C' : [0.1, 1, 10, 100, 1000]\n",
    "            }\n",
    "\n",
    "CV_log_cfl = GridSearchCV(estimator = log_cfl, param_grid = param_grid , cv = cv, scoring = 'roc_auc', verbose = 1, n_jobs = -1)\n",
    "CV_log_cfl.fit(trainx, trainy)\n",
    "\n",
    "best_parameters = CV_log_cfl.best_params_\n",
    "print(\"The best parameters: \", best_parameters)\n",
    "\n",
    "# 回归\n",
    "log_cfl = LogisticRegression(C = best_parameters['C'], \n",
    "                             penalty = best_parameters['penalty'], \n",
    "                             class_weight = best_parameters['class_weight'])\n",
    "\n",
    "log_cfl.fit(trainx, trainy)\n",
    "#y_scoreLR = log_cfl.decision_function(valx)\n",
    "y_scoreLR = log_cfl.predict_proba(valx)[:, 1]\n",
    "\n",
    "rocLR=roc_auc_score(valy, y_scoreLR)\n",
    "print('roc ',rocLR)\n",
    "perfomance_clf(log_cfl, valx, valy)\n",
    "plot_roc(valy, y_scoreLR)"
   ]
  },
  {
   "cell_type": "code",
   "execution_count": 21,
   "metadata": {},
   "outputs": [
    {
     "name": "stdout",
     "output_type": "stream",
     "text": [
      "Fitting 10 folds for each of 108 candidates, totalling 1080 fits\n"
     ]
    },
    {
     "name": "stderr",
     "output_type": "stream",
     "text": [
      "[Parallel(n_jobs=-1)]: Using backend LokyBackend with 4 concurrent workers.\n",
      "[Parallel(n_jobs=-1)]: Done   5 tasks      | elapsed:   19.1s\n",
      "[Parallel(n_jobs=-1)]: Done  10 tasks      | elapsed:   37.3s\n",
      "[Parallel(n_jobs=-1)]: Done  17 tasks      | elapsed:   56.3s\n",
      "[Parallel(n_jobs=-1)]: Done  24 tasks      | elapsed:  1.9min\n",
      "[Parallel(n_jobs=-1)]: Done  33 tasks      | elapsed:  3.0min\n",
      "[Parallel(n_jobs=-1)]: Done  42 tasks      | elapsed:  3.7min\n",
      "[Parallel(n_jobs=-1)]: Done  53 tasks      | elapsed:  4.8min\n",
      "[Parallel(n_jobs=-1)]: Done  64 tasks      | elapsed:  5.6min\n",
      "[Parallel(n_jobs=-1)]: Done  77 tasks      | elapsed:  6.2min\n",
      "[Parallel(n_jobs=-1)]: Done  90 tasks      | elapsed:  7.4min\n",
      "[Parallel(n_jobs=-1)]: Done 105 tasks      | elapsed:  8.1min\n",
      "[Parallel(n_jobs=-1)]: Done 120 tasks      | elapsed:  9.2min\n",
      "[Parallel(n_jobs=-1)]: Done 137 tasks      | elapsed:  9.8min\n",
      "[Parallel(n_jobs=-1)]: Done 154 tasks      | elapsed: 11.0min\n",
      "[Parallel(n_jobs=-1)]: Done 173 tasks      | elapsed: 12.1min\n",
      "[Parallel(n_jobs=-1)]: Done 192 tasks      | elapsed: 13.0min\n",
      "[Parallel(n_jobs=-1)]: Done 213 tasks      | elapsed: 14.2min\n",
      "[Parallel(n_jobs=-1)]: Done 234 tasks      | elapsed: 15.3min\n",
      "[Parallel(n_jobs=-1)]: Done 257 tasks      | elapsed: 16.4min\n",
      "[Parallel(n_jobs=-1)]: Done 280 tasks      | elapsed: 17.9min\n",
      "[Parallel(n_jobs=-1)]: Done 305 tasks      | elapsed: 20.4min\n",
      "[Parallel(n_jobs=-1)]: Done 330 tasks      | elapsed: 22.8min\n",
      "[Parallel(n_jobs=-1)]: Done 357 tasks      | elapsed: 25.3min\n",
      "[Parallel(n_jobs=-1)]: Done 384 tasks      | elapsed: 27.5min\n",
      "[Parallel(n_jobs=-1)]: Done 413 tasks      | elapsed: 30.4min\n",
      "[Parallel(n_jobs=-1)]: Done 442 tasks      | elapsed: 33.1min\n",
      "[Parallel(n_jobs=-1)]: Done 473 tasks      | elapsed: 35.3min\n",
      "[Parallel(n_jobs=-1)]: Done 504 tasks      | elapsed: 37.7min\n",
      "[Parallel(n_jobs=-1)]: Done 537 tasks      | elapsed: 40.5min\n",
      "[Parallel(n_jobs=-1)]: Done 570 tasks      | elapsed: 42.8min\n",
      "[Parallel(n_jobs=-1)]: Done 605 tasks      | elapsed: 45.0min\n",
      "[Parallel(n_jobs=-1)]: Done 640 tasks      | elapsed: 47.1min\n",
      "[Parallel(n_jobs=-1)]: Done 677 tasks      | elapsed: 49.5min\n",
      "[Parallel(n_jobs=-1)]: Done 714 tasks      | elapsed: 51.8min\n",
      "[Parallel(n_jobs=-1)]: Done 753 tasks      | elapsed: 53.9min\n",
      "[Parallel(n_jobs=-1)]: Done 792 tasks      | elapsed: 55.7min\n",
      "[Parallel(n_jobs=-1)]: Done 833 tasks      | elapsed: 58.5min\n",
      "[Parallel(n_jobs=-1)]: Done 874 tasks      | elapsed: 61.4min\n",
      "[Parallel(n_jobs=-1)]: Done 917 tasks      | elapsed: 68.4min\n",
      "[Parallel(n_jobs=-1)]: Done 960 tasks      | elapsed: 71.5min\n",
      "[Parallel(n_jobs=-1)]: Done 1005 tasks      | elapsed: 73.9min\n",
      "[Parallel(n_jobs=-1)]: Done 1050 tasks      | elapsed: 112.8min\n",
      "[Parallel(n_jobs=-1)]: Done 1080 out of 1080 | elapsed: 114.4min finished\n"
     ]
    },
    {
     "name": "stdout",
     "output_type": "stream",
     "text": [
      "The best parameters:  {'class_weight': {0: 1, 1: 3}, 'max_features': 3, 'min_samples_leaf': 4, 'min_samples_split': 10, 'n_estimators': 200}\n",
      "roc  0.7302368743137644\n",
      "accuracy score is: 0.7993738259236067\n",
      "precision score is: 0.5486160397444997\n",
      "recall score is: 0.4445083381253594\n",
      "auc: 0.7302368743137644\n",
      "- - - - - - \n"
     ]
    },
    {
     "data": {
      "image/png": "[encoded data removed]",
      "text/plain": [
       "<Figure size 432x288 with 1 Axes>"
      ]
     },
     "metadata": {
      "needs_background": "light"
     },
     "output_type": "display_data"
    }
   ],
   "source": [
    "################### 随机森林\n",
    "# search\n",
    "rf_cfl = RandomForestClassifier(n_estimators=120).fit(trainx, trainy)\n",
    "\n",
    "param_grid = {\n",
    "            'n_estimators': [50, 100, 200],\n",
    "            'max_features': [2, 3],\n",
    "            'min_samples_leaf': [1, 2, 4],\n",
    "            'min_samples_split': [2, 5, 10],\n",
    "            'class_weight' :  ['balanced', {0: 1, 1: 3}],\n",
    "            }\n",
    "\n",
    "CV_rnd_cfl = GridSearchCV(estimator = rf_cfl, param_grid = param_grid, cv = cv, scoring = 'roc_auc', verbose = 10, n_jobs = -1)\n",
    "CV_rnd_cfl.fit(trainx, trainy)\n",
    "\n",
    "best_parameters = CV_rnd_cfl.best_params_\n",
    "print(\"The best parameters: \", best_parameters)\n",
    "\n",
    "####### 预测\n",
    "rf_cfl = RandomForestClassifier(n_estimators = best_parameters['n_estimators'],\n",
    "                                max_features = best_parameters['max_features'], \n",
    "                                min_samples_leaf = best_parameters['min_samples_leaf'],  \n",
    "                                class_weight = best_parameters['class_weight'],\n",
    "                                min_samples_split = 5)\n",
    "rf_cfl.fit(trainx, trainy)\n",
    "y_score = rf_cfl.predict_proba(valx)[:,1]\n",
    "\n",
    "rocRF=roc_auc_score(valy, y_score)\n",
    "print('roc ',rocRF)\n",
    "perfomance_clf(rf_cfl, valx, valy)\n",
    "\n",
    "plot_roc(valy, y_score)"
   ]
  },
  {
   "cell_type": "code",
   "execution_count": 17,
   "metadata": {
    "scrolled": true
   },
   "outputs": [
    {
     "name": "stdout",
     "output_type": "stream",
     "text": [
      "Fitting 10 folds for each of 6 candidates, totalling 60 fits\n",
      "[CV] class_weight=balanced, n_estimators=50 ..........................\n"
     ]
    },
    {
     "name": "stderr",
     "output_type": "stream",
     "text": [
      "[Parallel(n_jobs=1)]: Using backend SequentialBackend with 1 concurrent workers.\n"
     ]
    },
    {
     "name": "stdout",
     "output_type": "stream",
     "text": [
      "[CV] ........... class_weight=balanced, n_estimators=50, total=   9.5s\n",
      "[CV] class_weight=balanced, n_estimators=50 ..........................\n"
     ]
    },
    {
     "name": "stderr",
     "output_type": "stream",
     "text": [
      "[Parallel(n_jobs=1)]: Done   1 out of   1 | elapsed:    9.4s remaining:    0.0s\n"
     ]
    },
    {
     "name": "stdout",
     "output_type": "stream",
     "text": [
      "[CV] ........... class_weight=balanced, n_estimators=50, total=   6.7s\n",
      "[CV] class_weight=balanced, n_estimators=50 ..........................\n",
      "[CV] ........... class_weight=balanced, n_estimators=50, total=   7.5s\n",
      "[CV] class_weight=balanced, n_estimators=50 ..........................\n",
      "[CV] ........... class_weight=balanced, n_estimators=50, total=   6.8s\n",
      "[CV] class_weight=balanced, n_estimators=50 ..........................\n",
      "[CV] ........... class_weight=balanced, n_estimators=50, total=   7.3s\n",
      "[CV] class_weight=balanced, n_estimators=50 ..........................\n",
      "[CV] ........... class_weight=balanced, n_estimators=50, total=   7.3s\n",
      "[CV] class_weight=balanced, n_estimators=50 ..........................\n",
      "[CV] ........... class_weight=balanced, n_estimators=50, total=   6.6s\n",
      "[CV] class_weight=balanced, n_estimators=50 ..........................\n",
      "[CV] ........... class_weight=balanced, n_estimators=50, total=   6.3s\n",
      "[CV] class_weight=balanced, n_estimators=50 ..........................\n",
      "[CV] ........... class_weight=balanced, n_estimators=50, total=   8.8s\n",
      "[CV] class_weight=balanced, n_estimators=50 ..........................\n",
      "[CV] ........... class_weight=balanced, n_estimators=50, total=  10.2s\n",
      "[CV] class_weight=balanced, n_estimators=100 .........................\n",
      "[CV] .......... class_weight=balanced, n_estimators=100, total=  15.9s\n",
      "[CV] class_weight=balanced, n_estimators=100 .........................\n",
      "[CV] .......... class_weight=balanced, n_estimators=100, total=  17.2s\n",
      "[CV] class_weight=balanced, n_estimators=100 .........................\n",
      "[CV] .......... class_weight=balanced, n_estimators=100, total=  36.6s\n",
      "[CV] class_weight=balanced, n_estimators=100 .........................\n",
      "[CV] .......... class_weight=balanced, n_estimators=100, total=  23.9s\n",
      "[CV] class_weight=balanced, n_estimators=100 .........................\n",
      "[CV] .......... class_weight=balanced, n_estimators=100, total=  34.9s\n",
      "[CV] class_weight=balanced, n_estimators=100 .........................\n",
      "[CV] .......... class_weight=balanced, n_estimators=100, total=  34.5s\n",
      "[CV] class_weight=balanced, n_estimators=100 .........................\n",
      "[CV] .......... class_weight=balanced, n_estimators=100, total=  22.0s\n",
      "[CV] class_weight=balanced, n_estimators=100 .........................\n",
      "[CV] .......... class_weight=balanced, n_estimators=100, total=  15.7s\n",
      "[CV] class_weight=balanced, n_estimators=100 .........................\n",
      "[CV] .......... class_weight=balanced, n_estimators=100, total=  18.8s\n",
      "[CV] class_weight=balanced, n_estimators=100 .........................\n",
      "[CV] .......... class_weight=balanced, n_estimators=100, total=  22.6s\n",
      "[CV] class_weight=balanced, n_estimators=200 .........................\n",
      "[CV] .......... class_weight=balanced, n_estimators=200, total= 1.4min\n",
      "[CV] class_weight=balanced, n_estimators=200 .........................\n",
      "[CV] .......... class_weight=balanced, n_estimators=200, total=  42.7s\n",
      "[CV] class_weight=balanced, n_estimators=200 .........................\n",
      "[CV] .......... class_weight=balanced, n_estimators=200, total=  39.4s\n",
      "[CV] class_weight=balanced, n_estimators=200 .........................\n",
      "[CV] .......... class_weight=balanced, n_estimators=200, total=  41.5s\n",
      "[CV] class_weight=balanced, n_estimators=200 .........................\n",
      "[CV] .......... class_weight=balanced, n_estimators=200, total=  44.6s\n",
      "[CV] class_weight=balanced, n_estimators=200 .........................\n",
      "[CV] .......... class_weight=balanced, n_estimators=200, total=  23.1s\n",
      "[CV] class_weight=balanced, n_estimators=200 .........................\n",
      "[CV] .......... class_weight=balanced, n_estimators=200, total=  32.9s\n",
      "[CV] class_weight=balanced, n_estimators=200 .........................\n",
      "[CV] .......... class_weight=balanced, n_estimators=200, total=  30.5s\n",
      "[CV] class_weight=balanced, n_estimators=200 .........................\n",
      "[CV] .......... class_weight=balanced, n_estimators=200, total=  28.2s\n",
      "[CV] class_weight=balanced, n_estimators=200 .........................\n",
      "[CV] .......... class_weight=balanced, n_estimators=200, total=  27.2s\n",
      "[CV] class_weight={0: 1, 1: 3}, n_estimators=50 ......................\n",
      "[CV] ....... class_weight={0: 1, 1: 3}, n_estimators=50, total=   6.4s\n",
      "[CV] class_weight={0: 1, 1: 3}, n_estimators=50 ......................\n",
      "[CV] ....... class_weight={0: 1, 1: 3}, n_estimators=50, total=   6.8s\n",
      "[CV] class_weight={0: 1, 1: 3}, n_estimators=50 ......................\n",
      "[CV] ....... class_weight={0: 1, 1: 3}, n_estimators=50, total=   6.7s\n",
      "[CV] class_weight={0: 1, 1: 3}, n_estimators=50 ......................\n",
      "[CV] ....... class_weight={0: 1, 1: 3}, n_estimators=50, total=   6.6s\n",
      "[CV] class_weight={0: 1, 1: 3}, n_estimators=50 ......................\n",
      "[CV] ....... class_weight={0: 1, 1: 3}, n_estimators=50, total=   6.1s\n",
      "[CV] class_weight={0: 1, 1: 3}, n_estimators=50 ......................\n",
      "[CV] ....... class_weight={0: 1, 1: 3}, n_estimators=50, total=   6.5s\n",
      "[CV] class_weight={0: 1, 1: 3}, n_estimators=50 ......................\n",
      "[CV] ....... class_weight={0: 1, 1: 3}, n_estimators=50, total=   7.0s\n",
      "[CV] class_weight={0: 1, 1: 3}, n_estimators=50 ......................\n",
      "[CV] ....... class_weight={0: 1, 1: 3}, n_estimators=50, total=   6.0s\n",
      "[CV] class_weight={0: 1, 1: 3}, n_estimators=50 ......................\n",
      "[CV] ....... class_weight={0: 1, 1: 3}, n_estimators=50, total=   7.0s\n",
      "[CV] class_weight={0: 1, 1: 3}, n_estimators=50 ......................\n",
      "[CV] ....... class_weight={0: 1, 1: 3}, n_estimators=50, total=   6.1s\n",
      "[CV] class_weight={0: 1, 1: 3}, n_estimators=100 .....................\n",
      "[CV] ...... class_weight={0: 1, 1: 3}, n_estimators=100, total=  13.0s\n",
      "[CV] class_weight={0: 1, 1: 3}, n_estimators=100 .....................\n",
      "[CV] ...... class_weight={0: 1, 1: 3}, n_estimators=100, total=  12.3s\n",
      "[CV] class_weight={0: 1, 1: 3}, n_estimators=100 .....................\n",
      "[CV] ...... class_weight={0: 1, 1: 3}, n_estimators=100, total=  12.8s\n",
      "[CV] class_weight={0: 1, 1: 3}, n_estimators=100 .....................\n",
      "[CV] ...... class_weight={0: 1, 1: 3}, n_estimators=100, total=  14.9s\n",
      "[CV] class_weight={0: 1, 1: 3}, n_estimators=100 .....................\n",
      "[CV] ...... class_weight={0: 1, 1: 3}, n_estimators=100, total=  16.3s\n",
      "[CV] class_weight={0: 1, 1: 3}, n_estimators=100 .....................\n",
      "[CV] ...... class_weight={0: 1, 1: 3}, n_estimators=100, total=  15.0s\n",
      "[CV] class_weight={0: 1, 1: 3}, n_estimators=100 .....................\n",
      "[CV] ...... class_weight={0: 1, 1: 3}, n_estimators=100, total=  17.2s\n",
      "[CV] class_weight={0: 1, 1: 3}, n_estimators=100 .....................\n",
      "[CV] ...... class_weight={0: 1, 1: 3}, n_estimators=100, total=  14.7s\n",
      "[CV] class_weight={0: 1, 1: 3}, n_estimators=100 .....................\n",
      "[CV] ...... class_weight={0: 1, 1: 3}, n_estimators=100, total=  13.5s\n",
      "[CV] class_weight={0: 1, 1: 3}, n_estimators=100 .....................\n",
      "[CV] ...... class_weight={0: 1, 1: 3}, n_estimators=100, total=  12.5s\n",
      "[CV] class_weight={0: 1, 1: 3}, n_estimators=200 .....................\n",
      "[CV] ...... class_weight={0: 1, 1: 3}, n_estimators=200, total=  26.2s\n",
      "[CV] class_weight={0: 1, 1: 3}, n_estimators=200 .....................\n",
      "[CV] ...... class_weight={0: 1, 1: 3}, n_estimators=200, total=  25.6s\n",
      "[CV] class_weight={0: 1, 1: 3}, n_estimators=200 .....................\n",
      "[CV] ...... class_weight={0: 1, 1: 3}, n_estimators=200, total=  23.7s\n",
      "[CV] class_weight={0: 1, 1: 3}, n_estimators=200 .....................\n",
      "[CV] ...... class_weight={0: 1, 1: 3}, n_estimators=200, total=  18.8s\n",
      "[CV] class_weight={0: 1, 1: 3}, n_estimators=200 .....................\n",
      "[CV] ...... class_weight={0: 1, 1: 3}, n_estimators=200, total=  17.5s\n",
      "[CV] class_weight={0: 1, 1: 3}, n_estimators=200 .....................\n",
      "[CV] ...... class_weight={0: 1, 1: 3}, n_estimators=200, total=  18.8s\n",
      "[CV] class_weight={0: 1, 1: 3}, n_estimators=200 .....................\n",
      "[CV] ...... class_weight={0: 1, 1: 3}, n_estimators=200, total=  23.3s\n",
      "[CV] class_weight={0: 1, 1: 3}, n_estimators=200 .....................\n",
      "[CV] ...... class_weight={0: 1, 1: 3}, n_estimators=200, total=  22.8s\n",
      "[CV] class_weight={0: 1, 1: 3}, n_estimators=200 .....................\n",
      "[CV] ...... class_weight={0: 1, 1: 3}, n_estimators=200, total=  19.9s\n",
      "[CV] class_weight={0: 1, 1: 3}, n_estimators=200 .....................\n"
     ]
    },
    {
     "name": "stdout",
     "output_type": "stream",
     "text": [
      "[CV] ...... class_weight={0: 1, 1: 3}, n_estimators=200, total=  20.2s\n"
     ]
    },
    {
     "name": "stderr",
     "output_type": "stream",
     "text": [
      "[Parallel(n_jobs=1)]: Done  60 out of  60 | elapsed: 18.9min finished\n"
     ]
    },
    {
     "name": "stdout",
     "output_type": "stream",
     "text": [
      "The best parameters:  {'class_weight': 'balanced', 'n_estimators': 50}\n",
      "roc  0.7325747017481643\n",
      "accuracy score is: 0.8090169067000627\n",
      "precision score is: 0.63510101010101\n",
      "recall score is: 0.28924669350201265\n",
      "auc: 0.7325747017481643\n",
      "- - - - - - \n"
     ]
    },
    {
     "data": {
      "image/png": "[encoded data removed]",
      "text/plain": [
       "<Figure size 432x288 with 1 Axes>"
      ]
     },
     "metadata": {
      "needs_background": "light"
     },
     "output_type": "display_data"
    }
   ],
   "source": [
    "######################### XGBoost\n",
    "# search\n",
    "xgb_cfl = xgb.XGBClassifier(n_jobs = -1)\n",
    "xgb_cfl.fit(trainx, trainy)\n",
    "y_pred = xgb_cfl.predict(valx)\n",
    "y_score = xgb_cfl.predict_proba(valx)[:,1]\n",
    "\n",
    "param_grid = {\n",
    "            'n_estimators': [50, 100, 200],\n",
    "            'class_weight' :  ['balanced', {0: 1, 1: 3}],\n",
    "              }\n",
    "\n",
    "CV_xgb_cfl = GridSearchCV(estimator = xgb_cfl, param_grid = param_grid, cv = 10, scoring ='roc_auc', verbose = 2)\n",
    "CV_xgb_cfl.fit(trainx, trainy)\n",
    "\n",
    "best_parameters = CV_xgb_cfl.best_params_\n",
    "print(\"The best parameters: \", best_parameters)\n",
    "\n",
    "xgb_cfl2 = xgb.XGBClassifier(n_jobs = -1,\n",
    "                             n_estimators = best_parameters['n_estimators'], \n",
    "                             class_weight = best_parameters['class_weight'])\n",
    "\n",
    "xgb_cfl2.fit(trainx, trainy)\n",
    "\n",
    "y_score2 = xgb_cfl2.predict_proba(valx)[:,1]\n",
    "rocxgb=roc_auc_score(valy, y_score2)\n",
    "print('roc ',rocxgb)\n",
    "perfomance_clf(xgb_cfl2, valx, valy)\n",
    "plot_roc(valy, y_score2)"
   ]
  },
  {
   "cell_type": "code",
   "execution_count": null,
   "metadata": {},
   "outputs": [],
   "source": []
  }
 ],
 "metadata": {
  "kernelspec": {
   "display_name": "Python 3",
   "language": "python",
   "name": "python3"
  },
  "language_info": {
   "codemirror_mode": {
    "name": "ipython",
    "version": 3
   },
   "file_extension": ".py",
   "mimetype": "text/x-python",
   "name": "python",
   "nbconvert_exporter": "python",
   "pygments_lexer": "ipython3",
   "version": "3.7.3"
  }
 },
 "nbformat": 4,
 "nbformat_minor": 2
}
