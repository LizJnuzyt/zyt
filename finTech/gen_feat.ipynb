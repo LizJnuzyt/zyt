{
 "cells": [
  {
   "cell_type": "code",
   "execution_count": 9,
   "metadata": {},
   "outputs": [],
   "source": [
    "import time\n",
    "tic = time.time()"
   ]
  },
  {
   "cell_type": "code",
   "execution_count": 10,
   "metadata": {},
   "outputs": [],
   "source": [
    "import warnings\n",
    "warnings.filterwarnings('ignore')"
   ]
  },
  {
   "cell_type": "code",
   "execution_count": 11,
   "metadata": {},
   "outputs": [],
   "source": [
    "import pandas as pd\n",
    "import numpy as np\n",
    "from scipy import stats\n",
    "import random\n",
    "from sklearn.preprocessing import LabelEncoder\n",
    "import os"
   ]
  },
  {
   "cell_type": "code",
   "execution_count": 12,
   "metadata": {},
   "outputs": [],
   "source": [
    "def seed_everything(seed=0):\n",
    "    random.seed(seed)\n",
    "    os.environ['PYTHONHASHSEED'] = str(seed)\n",
    "    np.random.seed(seed)\n",
    "    \n",
    "seed_everything(42)"
   ]
  },
  {
   "cell_type": "code",
   "execution_count": 13,
   "metadata": {},
   "outputs": [],
   "source": [
    "if not os.path.exists('./feat_v6'):\n",
    "    os.mkdir('./feat_v6')"
   ]
  },
  {
   "cell_type": "code",
   "execution_count": null,
   "metadata": {},
   "outputs": [],
   "source": [
    "train_bankstat = pd.read_csv('../problems/problem_1/train/train_bankStatement.csv')\n",
    "train_hehavior = pd.read_csv('../problems/problem_1/train/train_behaviors.csv')\n",
    "train_creditbill = pd.read_csv('../problems/problem_1/train/train_creditBill.csv')\n",
    "train_label = pd.read_csv('../problems/problem_1/train/train_label.csv')\n",
    "train_profile = pd.read_csv('../problems/problem_1/train/train_profile.csv')"
   ]
  },
  {
   "cell_type": "code",
   "execution_count": null,
   "metadata": {},
   "outputs": [],
   "source": [
    "# test_bankstat = pd.read_csv('../problems/problem_1/A/test_bankStatement_A.csv')\n",
    "# test_hehavior = pd.read_csv('../problems/problem_1/A/test_behaviors_A.csv')\n",
    "# test_creditbill = pd.read_csv('../problems/problem_1/A/test_creditBill_A.csv')\n",
    "# test_profile = pd.read_csv('../problems/problem_1/A/test_profile_A.csv')\n",
    "test_bankstat = pd.read_csv('../problems/problem_1/B/test_bankStatement_B.csv')\n",
    "test_hehavior = pd.read_csv('../problems/problem_1/B/test_behaviors_B.csv')\n",
    "test_creditbill = pd.read_csv('../problems/problem_1/B/test_creditBill_B.csv')\n",
    "test_profile = pd.read_csv('../problems/problem_1/B/test_profile_B.csv')\n",
    "test_profile.shape"
   ]
  },
  {
   "cell_type": "code",
   "execution_count": null,
   "metadata": {},
   "outputs": [],
   "source": [
    "bankstat = pd.concat([train_bankstat, test_bankstat])\n",
    "behavior = pd.concat([train_hehavior, test_hehavior])\n",
    "creditbill = pd.concat([train_creditbill, test_creditbill])\n",
    "profile = pd.concat([train_profile, test_profile])"
   ]
  },
  {
   "cell_type": "markdown",
   "metadata": {},
   "source": [
    "### bankstat"
   ]
  },
  {
   "cell_type": "code",
   "execution_count": null,
   "metadata": {},
   "outputs": [],
   "source": [
    "# 流水计数\n",
    "bankstat_cnt = bankstat.groupby('用户标识').size().reset_index().rename({0:'流水次数'}, axis=1)\n",
    "bankstat_cnt1 = bankstat.groupby(['用户标识', '交易类型']).size().reset_index()\n",
    "bankstat_cnt1 = bankstat_cnt1.pivot('用户标识', '交易类型', 0).reset_index().rename({0:'交易0次数', 1:'交易1次数'}, axis=1)\n",
    "bankstat_cnt = bankstat_cnt.merge(bankstat_cnt1, 'left', '用户标识')\n",
    "# for i in [0, 1]:\n",
    "#     bankstat_cnt['交易%d次数占比' % i] = bankstat_cnt['交易%d次数' % i] / bankstat_cnt['流水次数']\n",
    "bankstat_cnt1 = bankstat.groupby(['用户标识', '工资收入标记']).size().reset_index()\n",
    "bankstat_cnt1 = bankstat_cnt1.pivot('用户标识', '工资收入标记', 0).reset_index().rename({0:'非工资次数', 1:'工资次数'}, axis=1)\n",
    "bankstat_cnt = bankstat_cnt.merge(bankstat_cnt1, 'left', '用户标识')\n",
    "for i in ['非', '']:\n",
    "    bankstat_cnt['%s工资次数占比' % i] = bankstat_cnt['%s工资次数' % i] / bankstat_cnt['流水次数']\n",
    "\n",
    "display(bankstat_cnt.head(3))\n",
    "bankstat_cnt.to_hdf('./feats_v6/bankstat_cnt.h5', key='data', mode='w')"
   ]
  },
  {
   "cell_type": "code",
   "execution_count": null,
   "metadata": {},
   "outputs": [],
   "source": [
    "# 流水时间特征\n",
    "# bankstat['流水时间d'] = bankstat['流水时间'] // (3600)\n",
    "bankstat.sort_values(by='流水时间', inplace=True)\n",
    "\n",
    "bankstat_time = bankstat.groupby(['用户标识'])['流水时间'].agg({'流水时间_min': 'min', '流水时间_max': 'max'}).reset_index()#})\n",
    "bankstat_time['流水时间_gap'] = bankstat_time['流水时间_max'] - bankstat_time['流水时间_min']\n",
    "\n",
    "display(bankstat_time.head(3))\n",
    "bankstat_time.to_hdf('./feats_v6/bankstat_time.h5', key='data', mode='w')"
   ]
  },
  {
   "cell_type": "code",
   "execution_count": null,
   "metadata": {},
   "outputs": [],
   "source": [
    "# 流水时间特征，按工资类型展开\n",
    "bankstat_time2 = bankstat.groupby(['用户标识', '工资收入标记'])['流水时间'].agg({'流水时间_min': 'min', '流水时间_max': 'max'}).reset_index()\n",
    "bankstat_time2 = bankstat_time2.pivot('用户标识', '工资收入标记', ['流水时间_min', '流水时间_max']).reset_index()\n",
    "bankstat_time2.columns = ['用户标识', '非工资_流水时间_min', '工资_流水时间_min', '非工资_流水时间_max', '工资_流水时间_max']\n",
    "bankstat_time2['非工资_流水时间_gap'] = bankstat_time2['非工资_流水时间_max'] - bankstat_time2['非工资_流水时间_min']\n",
    "bankstat_time2['工资_流水时间_gap'] = bankstat_time2['工资_流水时间_max'] - bankstat_time2['工资_流水时间_min']\n",
    "\n",
    "display(bankstat_time2.head(3))\n",
    "bankstat_time2.to_hdf('./feats_v6/bankstat_time2.h5', key='data', mode='w')"
   ]
  },
  {
   "cell_type": "code",
   "execution_count": null,
   "metadata": {},
   "outputs": [],
   "source": [
    "# 流水金额特征，按交易类型展开\n",
    "bankstat_amt2 = bankstat.groupby(['用户标识', '交易类型'])['交易金额'].agg(['mean', 'std', 'min', 'sum', 'skew']).reset_index()\n",
    "bankstat_amt2 = bankstat_amt2.pivot_table(index='用户标识', columns='交易类型', values=['mean', 'std', 'min', 'sum', 'skew']).reset_index().fillna(0)\n",
    "bankstat_amt2.columns = ['用户标识'] + [('交易' + ty + '金额_' + st) for st in ['mean', 'min', 'std', 'sum', 'skew'] for ty in ['0', '1'] ]\n",
    "bankstat_amt2['交易0金额占比'] = bankstat_amt2['交易0金额_sum'] / (bankstat_amt2['交易0金额_sum'] + bankstat_amt2['交易1金额_sum'])\n",
    "bankstat_amt2['交易1金额占比'] = bankstat_amt2['交易1金额_sum'] / (bankstat_amt2['交易0金额_sum'] + bankstat_amt2['交易1金额_sum'])\n",
    "# bankstat_amt2['交易差额'] = bankstat_amt2['交易0金额_sum'] - bankstat_amt2['交易1金额_sum']\n",
    "\n",
    "display(bankstat_amt2.head(3))\n",
    "bankstat_amt2.to_hdf('./feats_v6/bankstat_amt2.h5', key='data', mode='w')"
   ]
  },
  {
   "cell_type": "markdown",
   "metadata": {},
   "source": [
    "### behavior"
   ]
  },
  {
   "cell_type": "code",
   "execution_count": null,
   "metadata": {},
   "outputs": [],
   "source": [
    "# 时间映射\n",
    "date_set = behavior['日期'].unique()\n",
    "date_map = {}\n",
    "date_int = []\n",
    "for d in date_set:\n",
    "    d_int = [int(y) for y in d.split('-')]\n",
    "    date_map[d] = d_int[0] * 100 + d_int[1]\n",
    "    date_int.append(d_int[0] * 100 + d_int[1])\n",
    "date_int = sorted(date_int)\n",
    "date_int_map = dict((d, i) for i, d in enumerate(date_int))\n",
    "\n",
    "behavior['日期'] = behavior['日期'].map(date_map)\n",
    "behavior['月'] = behavior['日期'] // 100\n",
    "behavior['日期编码'] = behavior['日期'].map(date_int_map)\n",
    "behavior.head()"
   ]
  },
  {
   "cell_type": "code",
   "execution_count": null,
   "metadata": {},
   "outputs": [],
   "source": [
    "# 行为按月计数\n",
    "behavior_cnt = behavior.groupby(['用户标识', '月']).size().reset_index()\n",
    "behavior_cnt = behavior_cnt.pivot('用户标识', '月', 0).reset_index() \n",
    "behavior_cnt.columns = ['用户标识'] + ['月%d次数' % i for i in range(12)]\n",
    "behavior_cnt['行为总次数'] = behavior_cnt[['月%d次数' % i for i in range(12)]].sum(axis=1)\n",
    "for i in range(12):\n",
    "    behavior_cnt['月%d次数占比' % i] = behavior_cnt['月%d次数' % i] / behavior_cnt['行为总次数']\n",
    "behavior_cnt['活跃月数'] = 12 - behavior_cnt[['月%d次数' % i for i in range(12)]].isna().sum(axis=1)\n",
    "\n",
    "del behavior_cnt['行为总次数']\n",
    "display(behavior_cnt.head(3))\n",
    "behavior_cnt.to_hdf('./feats_v6/behavior_cnt.h5', key='data', mode='w')"
   ]
  },
  {
   "cell_type": "code",
   "execution_count": null,
   "metadata": {},
   "outputs": [],
   "source": [
    "# 行为按星期计数\n",
    "behavior_cnt2 = behavior.groupby(['用户标识', '星期几']).size().reset_index()\n",
    "behavior_cnt2 = behavior_cnt2.pivot('用户标识', '星期几', 0).reset_index() \n",
    "behavior_cnt2.columns = ['用户标识'] + ['星期%d次数' % i for i in range(7)]\n",
    "behavior_cnt2['行为总次数'] = behavior_cnt2[['星期%d次数' % i for i in range(7)]].sum(axis=1)\n",
    "for i in range(7):\n",
    "    behavior_cnt2['星期%d次数占比' % i] = behavior_cnt2['星期%d次数' % i] / behavior_cnt2['行为总次数']\n",
    "behavior_cnt2['活跃星期数'] = 7 - behavior_cnt2[['星期%d次数' % i for i in range(7)]].isna().sum(axis=1)\n",
    "\n",
    "display(behavior_cnt2.head(3))\n",
    "behavior_cnt2.to_hdf('./feats_v6/behavior_cnt2.h5', key='data', mode='w')"
   ]
  },
  {
   "cell_type": "code",
   "execution_count": null,
   "metadata": {},
   "outputs": [],
   "source": [
    "# 行为类型计数\n",
    "behavior_cnt3 = behavior.groupby(['用户标识', '行为类型']).size().reset_index()\n",
    "behavior_cnt3 = behavior_cnt3.pivot('用户标识', '行为类型', 0).reset_index()\n",
    "behavior_cnt3.columns = ['用户标识'] + ['行为类型%d次数' % i for i in range(8)]\n",
    "behavior_cnt3['行为总次数'] = behavior_cnt3[['行为类型%d次数' % i for i in range(8)]].sum(axis=1)\n",
    "for i in range(8):\n",
    "    behavior_cnt3['行为类型%d次数占比' % i] = behavior_cnt3['行为类型%d次数' % i] / behavior_cnt3['行为总次数']\n",
    "\n",
    "del behavior_cnt3['行为总次数']\n",
    "display(behavior_cnt3.head(3))\n",
    "behavior_cnt3.to_hdf('./feats_v6/behavior_cnt3.h5', key='data', mode='w')"
   ]
  },
  {
   "cell_type": "code",
   "execution_count": null,
   "metadata": {},
   "outputs": [],
   "source": [
    "# 行为子类型1计数\n",
    "behavior_cnt4 = behavior.groupby(['用户标识', '子类型1']).size().reset_index()\n",
    "behavior_cnt4 = behavior_cnt4.pivot('用户标识', '子类型1', 0).reset_index()\n",
    "behavior_cnt4.columns = ['用户标识'] + ['子类型1_%d次数' % i for i in range(111)]\n",
    "behavior_cnt4['行为总次数'] = behavior_cnt4[['子类型1_%d次数' % i for i in range(111)]].sum(axis=1)\n",
    "tmp = behavior_cnt4.isnull().sum() / len(behavior_cnt4)\n",
    "behavior_cnt4.drop(columns=tmp[tmp > 0.9].index.tolist(), inplace=True)\n",
    "\n",
    "del behavior_cnt4['行为总次数']\n",
    "display(behavior_cnt4.head(3))\n",
    "behavior_cnt4.to_hdf('./feats_v6/behavior_cnt4.h5', key='data', mode='w')"
   ]
  },
  {
   "cell_type": "code",
   "execution_count": null,
   "metadata": {},
   "outputs": [],
   "source": [
    "# 行为时间特征\n",
    "behavior_time = behavior.groupby(['用户标识'])['日期编码'].agg(dict(('行为日期_' + st, st) for st in ['mean', 'std', 'max', 'min'])).reset_index()\n",
    "behavior_time['行为日期_mm'] = (behavior_time['行为日期_max'] + behavior_time['行为日期_min']) / 2\n",
    "\n",
    "display(behavior_time.head(3))\n",
    "behavior_time.to_hdf('./feats_v6/behavior_time.h5', key='data', mode='w')"
   ]
  },
  {
   "cell_type": "markdown",
   "metadata": {},
   "source": [
    "### credit"
   ]
  },
  {
   "cell_type": "code",
   "execution_count": null,
   "metadata": {},
   "outputs": [],
   "source": [
    "## 账单时间戳统计特征，按银行标识展开 min max std skew ... "
   ]
  },
  {
   "cell_type": "code",
   "execution_count": null,
   "metadata": {},
   "outputs": [],
   "source": [
    "credit_time_min = creditbill.groupby(['用户标识','银行标识'])['账单时间戳'].min().reset_index()\n",
    "credit_time_min = credit_time_min.pivot(index='用户标识', columns='银行标识', values='账单时间戳').reset_index()\n",
    "credit_time_min.columns = ['用户标识'] + ['银行标识{}_账单时间戳_min'.format(i) for i in range(13)]\n",
    "display(credit_time_min.head(3))\n",
    "\n",
    "credit_time_min.to_hdf('./feats_v6/credit_time_min.h5', key='data', mode='w')"
   ]
  },
  {
   "cell_type": "code",
   "execution_count": null,
   "metadata": {},
   "outputs": [],
   "source": [
    "credit_time_max = creditbill.groupby(['用户标识','银行标识'])['账单时间戳'].max().reset_index()\n",
    "credit_time_max = credit_time_max.pivot(index='用户标识', columns='银行标识', values='账单时间戳').reset_index()\n",
    "credit_time_max.columns = ['用户标识'] + ['银行标识{}_账单时间戳_max'.format(i) for i in range(13)]\n",
    "display(credit_time_max.head(3))\n",
    "# \n",
    "credit_time_max.to_hdf('./feats_v6/credit_time_max.h5', key='data', mode='w')"
   ]
  },
  {
   "cell_type": "code",
   "execution_count": null,
   "metadata": {},
   "outputs": [],
   "source": [
    "credit_time_std = creditbill[creditbill['账单时间戳'] > 0].groupby(['用户标识','银行标识'])['账单时间戳'].std().reset_index()\n",
    "credit_time_std = credit_time_std.pivot(index='用户标识', columns='银行标识', values='账单时间戳').reset_index()\n",
    "credit_time_std.columns = ['用户标识'] + ['银行标识{}_账单时间戳_std'.format(i) for i in range(13)]\n",
    "display(credit_time_std.head(3))\n",
    "\n",
    "credit_time_std.to_hdf('./feats_v6/credit_time_std.h5', key='data', mode='w')"
   ]
  },
  {
   "cell_type": "code",
   "execution_count": null,
   "metadata": {},
   "outputs": [],
   "source": [
    "credit_time_skew = creditbill.groupby(['用户标识','银行标识'])['账单时间戳'].skew().reset_index()\n",
    "credit_time_skew = credit_time_skew.pivot(index='用户标识', columns='银行标识', values='账单时间戳').reset_index()\n",
    "credit_time_skew.columns = ['用户标识'] + ['银行标识{}_账单时间戳_skew'.format(i) for i in range(13)]\n",
    "display(credit_time_skew.head(3))\n",
    "\n",
    "credit_time_skew.to_hdf('./feats_v6/credit_time_skew.h5', key='data', mode='w')"
   ]
  },
  {
   "cell_type": "code",
   "execution_count": null,
   "metadata": {},
   "outputs": [],
   "source": [
    "credit_time_min = pd.read_hdf('./feats_v6/credit_time_min.h5', key='data')  \n",
    "credit_time_max = pd.read_hdf('./feats_v6/credit_time_max.h5', key='data') \n",
    "gap_arr = credit_time_max.values[:, 1:] - credit_time_min.values[:, 1:]\n",
    "credit_time_gap = pd.DataFrame(gap_arr, columns=['银行标识{}_账单时间戳_gap'.format(i) for i in range(13)])\n",
    "credit_time_gap['用户标识'] = credit_time_min['用户标识']\n",
    "display(credit_time_gap.head(3))\n",
    "\n",
    "credit_time_gap.to_hdf('./feats_v6/credit_time_gap.h5', key='data', mode='w')"
   ]
  },
  {
   "cell_type": "code",
   "execution_count": null,
   "metadata": {},
   "outputs": [],
   "source": [
    "credit_time_min = pd.read_hdf('./feats_v6/credit_time_min.h5', key='data')  \n",
    "credit_time_max = pd.read_hdf('./feats_v6/credit_time_max.h5', key='data') \n",
    "mm2_arr = (credit_time_max.values[:, 1:] + credit_time_min.values[:, 1:]) / 2\n",
    "credit_time_mm2 = pd.DataFrame(mm2_arr, columns=['银行标识{}_账单时间戳_mm2'.format(i) for i in range(13)])\n",
    "credit_time_mm2['用户标识'] = credit_time_min['用户标识']\n",
    "display(credit_time_mm2.head(3))\n",
    "\n",
    "credit_time_mm2.to_hdf('./feats_v6/credit_time_mm2.h5', key='data', mode='w')"
   ]
  },
  {
   "cell_type": "code",
   "execution_count": null,
   "metadata": {},
   "outputs": [],
   "source": [
    "creditbill.sort_values(by='账单时间戳',inplace=True)\n",
    "creditbill['上期账单金额-上期还款金额'] = creditbill['上期账单金额'] - creditbill['上期还款金额']\n",
    "creditbill['上期账单金额-本期账单余额'] = creditbill['上期账单金额'] - creditbill['本期账单余额']\n",
    "creditbill['上期账单金额-信用卡额度'] = creditbill['上期账单金额'] - creditbill['信用卡额度']\n",
    "creditbill['上期还款金额-本期账单余额'] = creditbill['上期还款金额'] - creditbill['本期账单余额']\n",
    "creditbill['上期还款金额-信用卡额度'] = creditbill['上期还款金额'] - creditbill['信用卡额度']\n",
    "creditbill['本期账单余额-信用卡额度'] = creditbill['本期账单余额'] - creditbill['信用卡额度']\n",
    "\n",
    "creditbill.head()"
   ]
  },
  {
   "cell_type": "code",
   "execution_count": null,
   "metadata": {},
   "outputs": [],
   "source": [
    "# 账单金额特征\n",
    "# use loop\n",
    "cols = ['上期账单金额', '上期还款金额', '本期账单余额', '信用卡额度', '上期账单金额-上期还款金额', '上期账单金额-本期账单余额', '上期账单金额-信用卡额度', '上期还款金额-本期账单余额', '上期还款金额-信用卡额度', '本期账单余额-信用卡额度']\n",
    "for ic, col in enumerate(cols):\n",
    "    for st in ['mean', 'min', 'max', 'std', 'sum', 'skew']:\n",
    "        if st == 'skew':\n",
    "            if col not in ['信用卡额度', '上期账单金额-上期还款金额', '上期账单金额-信用卡额度']:\n",
    "                continue\n",
    "        print('-'*80)\n",
    "        print(col, st)\n",
    "        var = creditbill.groupby(['用户标识', '银行标识'])[col].agg({col: st}).reset_index()\n",
    "        var = var.pivot('用户标识', '银行标识', col).reset_index()\n",
    "        var.columns = ['用户标识'] + ['银行标识%d_%s_%s' % (i, col, st) for i in range(13)]\n",
    "        display(var.head(3))\n",
    "        var.to_hdf('./feats_v6/creditbill_amt%d_%s.h5' %(ic+1, st), key='data', mode='w')\n",
    "        print('creditbill_amt%d_%s.h5 saved\\n' %(ic+1, st))"
   ]
  },
  {
   "cell_type": "code",
   "execution_count": null,
   "metadata": {},
   "outputs": [],
   "source": [
    "# 账单时间间隔特征\n",
    "def time_diff_stat(ser):\n",
    "    ts = ser.values // (3600 * 24)\n",
    "    ts_diff = np.diff(ts)\n",
    "    if ts_diff.shape[0] < 2:\n",
    "        return 0, 0, 0, 0\n",
    "    else:\n",
    "        return ts_diff.min(), ts_diff.mean(), ts_diff.std()\n",
    "\n",
    "creditbill.sort_values(by=['用户标识', '账单时间戳'], inplace=True)\n",
    "credit_time_diff = creditbill.groupby(['用户标识'])['账单时间戳'].apply(time_diff_stat).reset_index()\n",
    "for i, st in enumerate(['min', 'mean', 'std']):\n",
    "    credit_time_diff['账单时间间隔_' + st] = credit_time_diff['账单时间戳'].apply(lambda x: x[i])\n",
    "del credit_time_diff['账单时间戳']\n",
    "    \n",
    "display(credit_time_diff.head(3))\n",
    "credit_time_diff.to_hdf('./feats_v6/credit_time_diff.h5', key='data', mode='w')"
   ]
  }
 ],
 "metadata": {
  "kernelspec": {
   "display_name": "Python 3",
   "language": "python",
   "name": "python3"
  },
  "language_info": {
   "codemirror_mode": {
    "name": "ipython",
    "version": 3
   },
   "file_extension": ".py",
   "mimetype": "text/x-python",
   "name": "python",
   "nbconvert_exporter": "python",
   "pygments_lexer": "ipython3",
   "version": "3.7.3"
  },
  "toc": {
   "base_numbering": 1,
   "nav_menu": {},
   "number_sections": true,
   "sideBar": true,
   "skip_h1_title": false,
   "title_cell": "Table of Contents",
   "title_sidebar": "Contents",
   "toc_cell": false,
   "toc_position": {},
   "toc_section_display": true,
   "toc_window_display": false
  }
 },
 "nbformat": 4,
 "nbformat_minor": 2
}
